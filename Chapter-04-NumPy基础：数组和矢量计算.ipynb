{
 "cells": [
  {
   "cell_type": "code",
   "execution_count": 1,
   "metadata": {},
   "outputs": [],
   "source": [
    "import numpy as np"
   ]
  },
  {
   "cell_type": "markdown",
   "metadata": {},
   "source": [
    "# 4.1 NumPy的ndarray：一种多维数组对象"
   ]
  },
  {
   "cell_type": "markdown",
   "metadata": {},
   "source": [
    "NumPy数组与 Python内置序列的性能比较，各个序列分别乘以2\n",
    "\n",
    "包含一百万个整数的数组和一个等价的Python列表"
   ]
  },
  {
   "cell_type": "code",
   "execution_count": 2,
   "metadata": {},
   "outputs": [],
   "source": [
    "my_arr = np.arange(1000000)\n",
    "my_list = list(range(1000000))"
   ]
  },
  {
   "cell_type": "code",
   "execution_count": 3,
   "metadata": {},
   "outputs": [
    {
     "output_type": "stream",
     "name": "stdout",
     "text": [
      "Wall time: 3 ms\n"
     ]
    }
   ],
   "source": [
    "%time my_arr2 = my_arr *2"
   ]
  },
  {
   "cell_type": "code",
   "execution_count": 4,
   "metadata": {},
   "outputs": [
    {
     "output_type": "stream",
     "name": "stdout",
     "text": [
      "Wall time: 174 ms\n"
     ]
    }
   ],
   "source": [
    "%time my_list2 = [i * 2 for i in my_list]"
   ]
  },
  {
   "cell_type": "markdown",
   "metadata": {},
   "source": [
    "数学运算\n",
    "\n",
    "* shape 表示各维度大小的数组\n",
    "\n",
    "* dtype 数组数据类型"
   ]
  },
  {
   "cell_type": "code",
   "execution_count": 5,
   "metadata": {},
   "outputs": [
    {
     "output_type": "execute_result",
     "data": {
      "text/plain": [
       "array([[0.13398212, 0.85876712, 0.02905334],\n",
       "       [0.38297256, 0.3586847 , 0.97090146]])"
      ]
     },
     "metadata": {},
     "execution_count": 5
    }
   ],
   "source": [
    "data = np.random.rand(2, 3)\n",
    "\n",
    "data"
   ]
  },
  {
   "cell_type": "markdown",
   "metadata": {},
   "source": [
    "数组的每个元素都乘以10"
   ]
  },
  {
   "cell_type": "code",
   "execution_count": 6,
   "metadata": {},
   "outputs": [
    {
     "output_type": "execute_result",
     "data": {
      "text/plain": [
       "array([[1.33982124, 8.5876712 , 0.29053336],\n",
       "       [3.82972559, 3.586847  , 9.70901462]])"
      ]
     },
     "metadata": {},
     "execution_count": 6
    }
   ],
   "source": [
    "data * 10"
   ]
  },
  {
   "cell_type": "markdown",
   "metadata": {},
   "source": [
    "数组中每个元素都与自身相加"
   ]
  },
  {
   "cell_type": "code",
   "execution_count": 7,
   "metadata": {},
   "outputs": [
    {
     "output_type": "execute_result",
     "data": {
      "text/plain": [
       "array([[0.26796425, 1.71753424, 0.05810667],\n",
       "       [0.76594512, 0.7173694 , 1.94180292]])"
      ]
     },
     "metadata": {},
     "execution_count": 7
    }
   ],
   "source": [
    "data + data"
   ]
  },
  {
   "cell_type": "markdown",
   "metadata": {},
   "source": [
    "## 创建 ndarray\n",
    "\n",
    "* np.array() 接受一切序列型的对象（包括其它数组），产生一个新的含有传入数据的NumPy数组"
   ]
  },
  {
   "cell_type": "markdown",
   "metadata": {},
   "source": [
    "以一个列表的转换ndarray数组"
   ]
  },
  {
   "cell_type": "code",
   "execution_count": 8,
   "metadata": {},
   "outputs": [
    {
     "output_type": "execute_result",
     "data": {
      "text/plain": [
       "(array([6. , 7.5, 8. , 0. , 1. ]), '维度:1', '尺度:(5,)', '数据类型:float64')"
      ]
     },
     "metadata": {},
     "execution_count": 8
    }
   ],
   "source": [
    "data1 = [6, 7.5, 8, 0, 1]\n",
    "arr1 = np.array(data1)\n",
    "arr1, f\"维度:{arr1.ndim}\", f\"尺度:{arr1.shape}\", f\"数据类型:{arr1.dtype}\""
   ]
  },
  {
   "cell_type": "markdown",
   "metadata": {},
   "source": [
    "而嵌套序列（比如由一组等长列表组成的列表）将会被转换为一个多维数组"
   ]
  },
  {
   "cell_type": "code",
   "execution_count": 9,
   "metadata": {},
   "outputs": [
    {
     "output_type": "execute_result",
     "data": {
      "text/plain": [
       "(array([[ 1. ,  2. ,  3. ,  4. ],\n",
       "        [-5. ,  0.5,  7. , 34. ]]),\n",
       " '维度:2',\n",
       " '尺度:(2, 4)',\n",
       " '数据类型:float64')"
      ]
     },
     "metadata": {},
     "execution_count": 9
    }
   ],
   "source": [
    "data2 = [[1, 2, 3, 4], [-5, 0.5, 7, 34]]\n",
    "arr2 = np.array(data2)\n",
    "arr2, f\"维度:{arr2.ndim}\", f\"尺度:{arr2.shape}\", f\"数据类型:{arr2.dtype}\""
   ]
  },
  {
   "cell_type": "markdown",
   "metadata": {},
   "source": [
    "除np.array之外，还有一些函数也可以新建数组。"
   ]
  },
  {
   "cell_type": "markdown",
   "metadata": {},
   "source": [
    "zeros() 指定形状创建全0的数组"
   ]
  },
  {
   "cell_type": "code",
   "execution_count": 10,
   "metadata": {},
   "outputs": [
    {
     "output_type": "execute_result",
     "data": {
      "text/plain": [
       "array([[0., 0., 0., 0.],\n",
       "       [0., 0., 0., 0.],\n",
       "       [0., 0., 0., 0.]])"
      ]
     },
     "metadata": {},
     "execution_count": 10
    }
   ],
   "source": [
    "np.zeros((3, 4))"
   ]
  },
  {
   "cell_type": "markdown",
   "metadata": {},
   "source": [
    "ones() 指定形状创建全1的数组"
   ]
  },
  {
   "cell_type": "code",
   "execution_count": 11,
   "metadata": {},
   "outputs": [
    {
     "output_type": "execute_result",
     "data": {
      "text/plain": [
       "array([[1., 1., 1., 1., 1.],\n",
       "       [1., 1., 1., 1., 1.]])"
      ]
     },
     "metadata": {},
     "execution_count": 11
    }
   ],
   "source": [
    "np.ones((2, 5))"
   ]
  },
  {
   "cell_type": "markdown",
   "metadata": {},
   "source": [
    "np.arange是Python内置函数range的数组版"
   ]
  },
  {
   "cell_type": "code",
   "execution_count": 12,
   "metadata": {},
   "outputs": [
    {
     "output_type": "execute_result",
     "data": {
      "text/plain": [
       "array([ 0,  1,  2,  3,  4,  5,  6,  7,  8,  9, 10, 11, 12, 13, 14])"
      ]
     },
     "metadata": {},
     "execution_count": 12
    }
   ],
   "source": [
    "np.arange(15)"
   ]
  },
  {
   "cell_type": "markdown",
   "metadata": {},
   "source": [
    "## ndarray的数据类型\n",
    "\n",
    "* dtype（数据类型）是一个特殊的对象，它含有ndarray将一块内存解释为特定数据类型所需的信息"
   ]
  },
  {
   "cell_type": "code",
   "execution_count": 13,
   "metadata": {},
   "outputs": [
    {
     "output_type": "execute_result",
     "data": {
      "text/plain": [
       "dtype('float64')"
      ]
     },
     "metadata": {},
     "execution_count": 13
    }
   ],
   "source": [
    "arr1 = np.array([1, 2, 3], dtype=np.float64)\n",
    "arr1.dtype"
   ]
  },
  {
   "cell_type": "code",
   "execution_count": 14,
   "metadata": {},
   "outputs": [
    {
     "output_type": "execute_result",
     "data": {
      "text/plain": [
       "dtype('int32')"
      ]
     },
     "metadata": {},
     "execution_count": 14
    }
   ],
   "source": [
    "arr2 = np.array([1, 2, 3], dtype=np.int32)\n",
    "arr2.dtype"
   ]
  },
  {
   "cell_type": "markdown",
   "metadata": {},
   "source": [
    "ndarray的astype方法将一个数组从一个dtype转换成另一个dtype"
   ]
  },
  {
   "cell_type": "code",
   "execution_count": 15,
   "metadata": {},
   "outputs": [
    {
     "output_type": "execute_result",
     "data": {
      "text/plain": [
       "dtype('int32')"
      ]
     },
     "metadata": {},
     "execution_count": 15
    }
   ],
   "source": [
    "arr = np.array([1, 2, 3, 4, 5])\n",
    "arr.dtype"
   ]
  },
  {
   "cell_type": "code",
   "execution_count": 16,
   "metadata": {},
   "outputs": [
    {
     "output_type": "execute_result",
     "data": {
      "text/plain": [
       "dtype('float64')"
      ]
     },
     "metadata": {},
     "execution_count": 16
    }
   ],
   "source": [
    "float_arr = arr.astype(np.float64)\n",
    "float_arr.dtype"
   ]
  },
  {
   "cell_type": "markdown",
   "metadata": {},
   "source": [
    "如果将浮点数转换成整数，则小数部分将会被截取删除"
   ]
  },
  {
   "cell_type": "code",
   "execution_count": 17,
   "metadata": {},
   "outputs": [
    {
     "output_type": "execute_result",
     "data": {
      "text/plain": [
       "array([ 3.7, -1.2, -2.6,  0.5, 12.9, 10.1])"
      ]
     },
     "metadata": {},
     "execution_count": 17
    }
   ],
   "source": [
    "arr = np.array([3.7, -1.2, -2.6, 0.5, 12.9, 10.1], dtype=np.float64)\n",
    "arr"
   ]
  },
  {
   "cell_type": "code",
   "execution_count": 18,
   "metadata": {},
   "outputs": [
    {
     "output_type": "execute_result",
     "data": {
      "text/plain": [
       "array([ 3, -1, -2,  0, 12, 10], dtype=int64)"
      ]
     },
     "metadata": {},
     "execution_count": 18
    }
   ],
   "source": [
    "arr.astype(np.int64)"
   ]
  },
  {
   "cell_type": "markdown",
   "metadata": {},
   "source": [
    "如果某字符串数组表示的全是数字，也可以用astype将其转换为数值形式"
   ]
  },
  {
   "cell_type": "code",
   "execution_count": 19,
   "metadata": {},
   "outputs": [
    {
     "output_type": "execute_result",
     "data": {
      "text/plain": [
       "array([ 1.25, -9.6 , 42.  ])"
      ]
     },
     "metadata": {},
     "execution_count": 19
    }
   ],
   "source": [
    "numeric_strings = np.array(['1.25', '-9.6', '42'], dtype=np.string_)\n",
    "numeric_strings.astype(np.float64)"
   ]
  },
  {
   "cell_type": "markdown",
   "metadata": {},
   "source": [
    "NumPy很聪明，它会将Python类型映射到等价的dtype上"
   ]
  },
  {
   "cell_type": "code",
   "execution_count": 20,
   "metadata": {},
   "outputs": [
    {
     "output_type": "execute_result",
     "data": {
      "text/plain": [
       "array([0., 1., 2., 3., 4., 5., 6., 7., 8., 9.])"
      ]
     },
     "metadata": {},
     "execution_count": 20
    }
   ],
   "source": [
    "int_array = np.arange(10)\n",
    "calibers = np.array([.22, .270, .357, .380, .44, .50], dtype=np.float64)\n",
    "int_array.astype(calibers.dtype)"
   ]
  },
  {
   "cell_type": "markdown",
   "metadata": {},
   "source": [
    "还可以用简洁的类型代码来表示dtype"
   ]
  },
  {
   "cell_type": "code",
   "execution_count": 21,
   "metadata": {},
   "outputs": [
    {
     "output_type": "execute_result",
     "data": {
      "text/plain": [
       "array([         0, 1075314688,          0, 1075707904,          0,\n",
       "       1075838976,          0, 1072693248], dtype=uint32)"
      ]
     },
     "metadata": {},
     "execution_count": 21
    }
   ],
   "source": [
    "empty_uint32 = np.empty(8, dtype='u4')\n",
    "empty_uint32"
   ]
  },
  {
   "cell_type": "markdown",
   "metadata": {},
   "source": [
    "笔记：调用astype总会创建一个新的数组（一个数据的备份），即使新的dtype与旧的dtype相同。"
   ]
  },
  {
   "cell_type": "markdown",
   "metadata": {},
   "source": [
    "## NumPy数组的运算\n",
    "\n",
    "* 数组很重要，因为它使你不用编写循环即可对数据执行批量运算。NumPy用户称其为矢量化（vectorization）。"
   ]
  },
  {
   "cell_type": "markdown",
   "metadata": {},
   "source": [
    "大小相等的数组之间的任何算术运算都会将运算应用到元素级"
   ]
  },
  {
   "cell_type": "code",
   "execution_count": 22,
   "metadata": {},
   "outputs": [
    {
     "output_type": "execute_result",
     "data": {
      "text/plain": [
       "(array([[1., 2., 3.],\n",
       "        [4., 5., 6.]]),\n",
       " array([[ 2.,  4.,  6.],\n",
       "        [ 8., 10., 12.]]),\n",
       " array([[0., 0., 0.],\n",
       "        [0., 0., 0.]]))"
      ]
     },
     "metadata": {},
     "execution_count": 22
    }
   ],
   "source": [
    "arr = np.array([[1., 2., 3.], [4., 5., 6.]])\n",
    "arr, arr + arr, arr - arr"
   ]
  },
  {
   "cell_type": "markdown",
   "metadata": {},
   "source": [
    "数组 与标量的算术运算会将标量值传播到各个元素 (广播运算)"
   ]
  },
  {
   "cell_type": "code",
   "execution_count": 23,
   "metadata": {},
   "outputs": [
    {
     "output_type": "execute_result",
     "data": {
      "text/plain": [
       "(array([[1.        , 0.5       , 0.33333333],\n",
       "        [0.25      , 0.2       , 0.16666667]]),\n",
       " array([[1.        , 1.41421356, 1.73205081],\n",
       "        [2.        , 2.23606798, 2.44948974]]))"
      ]
     },
     "metadata": {},
     "execution_count": 23
    }
   ],
   "source": [
    "1 / arr, arr ** 0.5"
   ]
  },
  {
   "cell_type": "markdown",
   "metadata": {},
   "source": [
    "大小相同的数组之间的比较会生成布尔值数组"
   ]
  },
  {
   "cell_type": "code",
   "execution_count": 24,
   "metadata": {},
   "outputs": [
    {
     "output_type": "execute_result",
     "data": {
      "text/plain": [
       "(array([[ 0.,  4.,  1.],\n",
       "        [ 7.,  6., 12.]]),\n",
       " array([[False,  True, False],\n",
       "        [ True,  True,  True]]))"
      ]
     },
     "metadata": {},
     "execution_count": 24
    }
   ],
   "source": [
    "arr2 = np.array([[0., 4., 1.], [7., 6, 12.]])\n",
    "arr2, arr2 > arr"
   ]
  },
  {
   "cell_type": "markdown",
   "metadata": {},
   "source": [
    "## 基本的索引和切片\n",
    "\n",
    "* NumPy数组的索引是一个内容丰富的主题，因为选取数据子集或单个元素的方式有很多。\n",
    "\n",
    "* 数组切片是原始数组的视图。这意味着数据不会被复制，视图上的任何修改都会直接反映到源数组上。\n",
    "\n",
    "* 想要获得数组的备份而非视图时，可以使用 ndarray.copy()\n",
    "\n",
    "* 二维数组中，各索引位置上的元素不再是标量而是一维数组"
   ]
  },
  {
   "cell_type": "markdown",
   "metadata": {},
   "source": [
    "一维数组很简单。表面上看跟Python列表的功能差不多"
   ]
  },
  {
   "cell_type": "code",
   "execution_count": 25,
   "metadata": {},
   "outputs": [
    {
     "output_type": "execute_result",
     "data": {
      "text/plain": [
       "array([0, 1, 2, 3, 4, 5, 6, 7, 8, 9])"
      ]
     },
     "metadata": {},
     "execution_count": 25
    }
   ],
   "source": [
    "arr = np.arange(10)\n",
    "arr"
   ]
  },
  {
   "cell_type": "code",
   "execution_count": 26,
   "metadata": {},
   "outputs": [
    {
     "output_type": "execute_result",
     "data": {
      "text/plain": [
       "5"
      ]
     },
     "metadata": {},
     "execution_count": 26
    }
   ],
   "source": [
    "arr[5]  # 下标为5的数据"
   ]
  },
  {
   "cell_type": "code",
   "execution_count": 27,
   "metadata": {},
   "outputs": [
    {
     "output_type": "execute_result",
     "data": {
      "text/plain": [
       "array([5, 6, 7])"
      ]
     },
     "metadata": {},
     "execution_count": 27
    }
   ],
   "source": [
    "arr[5:8]  # 下标5到8 的数据"
   ]
  },
  {
   "cell_type": "code",
   "execution_count": 28,
   "metadata": {},
   "outputs": [],
   "source": [
    "arr[5:8] = 12  # 将下标5到8的数据赋值为 12"
   ]
  },
  {
   "cell_type": "code",
   "execution_count": 29,
   "metadata": {},
   "outputs": [
    {
     "output_type": "execute_result",
     "data": {
      "text/plain": [
       "array([ 0,  1,  2,  3,  4, 12, 12, 12,  8,  9])"
      ]
     },
     "metadata": {},
     "execution_count": 29
    }
   ],
   "source": [
    "arr"
   ]
  },
  {
   "cell_type": "code",
   "execution_count": 30,
   "metadata": {},
   "outputs": [
    {
     "output_type": "execute_result",
     "data": {
      "text/plain": [
       "array([12, 12, 12])"
      ]
     },
     "metadata": {},
     "execution_count": 30
    }
   ],
   "source": [
    "arr_slice = arr[5:8]\n",
    "arr_slice"
   ]
  },
  {
   "cell_type": "markdown",
   "metadata": {},
   "source": [
    "当修改arr_slice中的值，变动也会体现在原始数组arr中"
   ]
  },
  {
   "cell_type": "code",
   "execution_count": 31,
   "metadata": {},
   "outputs": [
    {
     "output_type": "execute_result",
     "data": {
      "text/plain": [
       "array([    0,     1,     2,     3,     4,    12, 12345,    12,     8,\n",
       "           9])"
      ]
     },
     "metadata": {},
     "execution_count": 31
    }
   ],
   "source": [
    "arr_slice[1] = 12345\n",
    "arr"
   ]
  },
  {
   "cell_type": "markdown",
   "metadata": {},
   "source": [
    "切片[ : ]会给数组中的所有值赋值"
   ]
  },
  {
   "cell_type": "code",
   "execution_count": 32,
   "metadata": {},
   "outputs": [
    {
     "output_type": "execute_result",
     "data": {
      "text/plain": [
       "array([ 0,  1,  2,  3,  4, 64, 64, 64,  8,  9])"
      ]
     },
     "metadata": {},
     "execution_count": 32
    }
   ],
   "source": [
    "arr_slice[:] = 64\n",
    "arr"
   ]
  },
  {
   "cell_type": "markdown",
   "metadata": {},
   "source": [
    "复制数组可以使用 ndarray.copy()"
   ]
  },
  {
   "cell_type": "code",
   "execution_count": 33,
   "metadata": {},
   "outputs": [
    {
     "output_type": "execute_result",
     "data": {
      "text/plain": [
       "array([33, 33, 33])"
      ]
     },
     "metadata": {},
     "execution_count": 33
    }
   ],
   "source": [
    "new_arr = arr[:3].copy()\n",
    "new_arr[:] = 33\n",
    "new_arr"
   ]
  },
  {
   "cell_type": "code",
   "execution_count": 34,
   "metadata": {},
   "outputs": [
    {
     "output_type": "execute_result",
     "data": {
      "text/plain": [
       "array([ 0,  1,  2,  3,  4, 64, 64, 64,  8,  9])"
      ]
     },
     "metadata": {},
     "execution_count": 34
    }
   ],
   "source": [
    "arr"
   ]
  },
  {
   "cell_type": "markdown",
   "metadata": {},
   "source": [
    "二维数组的索引，指向数组，而不是标量"
   ]
  },
  {
   "cell_type": "code",
   "execution_count": 35,
   "metadata": {},
   "outputs": [
    {
     "output_type": "execute_result",
     "data": {
      "text/plain": [
       "array([1, 2, 3])"
      ]
     },
     "metadata": {},
     "execution_count": 35
    }
   ],
   "source": [
    "arr2d = np.array([[1, 2, 3], [4, 5, 6], [7, 8, 9]])\n",
    "arr2d[0]"
   ]
  },
  {
   "cell_type": "markdown",
   "metadata": {},
   "source": [
    "二维数组选取单个元素，两种方式"
   ]
  },
  {
   "cell_type": "code",
   "execution_count": 36,
   "metadata": {},
   "outputs": [
    {
     "output_type": "execute_result",
     "data": {
      "text/plain": [
       "(3, 9)"
      ]
     },
     "metadata": {},
     "execution_count": 36
    }
   ],
   "source": [
    "arr2d[0][2], arr2d[2, 2]"
   ]
  },
  {
   "cell_type": "markdown",
   "metadata": {},
   "source": [
    "多维数组的索引和切片，2x2x3 的三维数组"
   ]
  },
  {
   "cell_type": "code",
   "execution_count": 37,
   "metadata": {},
   "outputs": [
    {
     "output_type": "execute_result",
     "data": {
      "text/plain": [
       "(array([[[ 1,  2,  3],\n",
       "         [ 4,  5,  6]],\n",
       " \n",
       "        [[ 7,  8,  9],\n",
       "         [10, 11, 12]]]),\n",
       " '尺度:(2, 2, 3)')"
      ]
     },
     "metadata": {},
     "execution_count": 37
    }
   ],
   "source": [
    "arr3d = np.array([[[1, 2, 3], [4, 5, 6]], [[7, 8, 9], [10, 11, 12]]])\n",
    "arr3d, f\"尺度:{arr3d.shape}\""
   ]
  },
  {
   "cell_type": "markdown",
   "metadata": {},
   "source": [
    "arr3d\\[0\\]是一个2×3数组"
   ]
  },
  {
   "cell_type": "code",
   "execution_count": 38,
   "metadata": {},
   "outputs": [
    {
     "output_type": "execute_result",
     "data": {
      "text/plain": [
       "(array([[1, 2, 3],\n",
       "        [4, 5, 6]]),\n",
       " '尺度:(2, 3)')"
      ]
     },
     "metadata": {},
     "execution_count": 38
    }
   ],
   "source": [
    "arr3d[0], f\"尺度:{arr3d[0].shape}\""
   ]
  },
  {
   "cell_type": "markdown",
   "metadata": {},
   "source": [
    "标量值和数组都可以被赋值给arr3d[0]"
   ]
  },
  {
   "cell_type": "code",
   "execution_count": 39,
   "metadata": {},
   "outputs": [
    {
     "output_type": "execute_result",
     "data": {
      "text/plain": [
       "array([[[42, 42, 42],\n",
       "        [42, 42, 42]],\n",
       "\n",
       "       [[ 7,  8,  9],\n",
       "        [10, 11, 12]]])"
      ]
     },
     "metadata": {},
     "execution_count": 39
    }
   ],
   "source": [
    "old_values = arr3d[0].copy()\n",
    "arr3d[0] = 42\n",
    "arr3d"
   ]
  },
  {
   "cell_type": "code",
   "execution_count": 40,
   "metadata": {},
   "outputs": [
    {
     "output_type": "execute_result",
     "data": {
      "text/plain": [
       "array([[[ 1,  2,  3],\n",
       "        [ 4,  5,  6]],\n",
       "\n",
       "       [[ 7,  8,  9],\n",
       "        [10, 11, 12]]])"
      ]
     },
     "metadata": {},
     "execution_count": 40
    }
   ],
   "source": [
    "arr3d[0] = old_values\n",
    "arr3d"
   ]
  },
  {
   "cell_type": "markdown",
   "metadata": {},
   "source": [
    "arr3d\\[1,0\\]可以访问索引以(1,0)开头的数据，第一行的第零列"
   ]
  },
  {
   "cell_type": "code",
   "execution_count": 41,
   "metadata": {},
   "outputs": [
    {
     "output_type": "execute_result",
     "data": {
      "text/plain": [
       "array([7, 8, 9])"
      ]
     },
     "metadata": {},
     "execution_count": 41
    }
   ],
   "source": [
    "arr3d[1, 0]"
   ]
  },
  {
   "cell_type": "markdown",
   "metadata": {},
   "source": [
    "也可以分两步来索引"
   ]
  },
  {
   "cell_type": "code",
   "execution_count": 42,
   "metadata": {},
   "outputs": [
    {
     "output_type": "execute_result",
     "data": {
      "text/plain": [
       "(array([[ 7,  8,  9],\n",
       "        [10, 11, 12]]),\n",
       " array([7, 8, 9]))"
      ]
     },
     "metadata": {},
     "execution_count": 42
    }
   ],
   "source": [
    "x = arr3d[1]\n",
    "x, x[0]"
   ]
  },
  {
   "cell_type": "markdown",
   "metadata": {},
   "source": [
    "注意，在上面所有这些选取数组子集的例子中，返回的数组都是视图。"
   ]
  },
  {
   "cell_type": "markdown",
   "metadata": {},
   "source": [
    "## 切片索引\n",
    "\n",
    "ndarray的切片语法跟Python列表这样的一维对象差不多"
   ]
  },
  {
   "cell_type": "code",
   "execution_count": 43,
   "metadata": {},
   "outputs": [
    {
     "output_type": "execute_result",
     "data": {
      "text/plain": [
       "array([ 0,  1,  2,  3,  4, 64, 64, 64,  8,  9])"
      ]
     },
     "metadata": {},
     "execution_count": 43
    }
   ],
   "source": [
    "arr"
   ]
  },
  {
   "cell_type": "code",
   "execution_count": 44,
   "metadata": {},
   "outputs": [
    {
     "output_type": "execute_result",
     "data": {
      "text/plain": [
       "array([ 1,  2,  3,  4, 64])"
      ]
     },
     "metadata": {},
     "execution_count": 44
    }
   ],
   "source": [
    "arr[1:6]"
   ]
  },
  {
   "cell_type": "markdown",
   "metadata": {},
   "source": [
    "沿着第0轴（即第一个轴）切片的。也就是说，切片是沿着一个轴向选取元素的。\n",
    "\n",
    "表达式arr2d\\[:2\\]可以被认为是“选取arr2d的前两行”"
   ]
  },
  {
   "cell_type": "code",
   "execution_count": 45,
   "metadata": {},
   "outputs": [
    {
     "output_type": "execute_result",
     "data": {
      "text/plain": [
       "array([[1, 2, 3],\n",
       "       [4, 5, 6]])"
      ]
     },
     "metadata": {},
     "execution_count": 45
    }
   ],
   "source": [
    "arr2d[:2]"
   ]
  },
  {
   "cell_type": "markdown",
   "metadata": {},
   "source": [
    "可以一次传入多个切片，就像传入多个索引那样"
   ]
  },
  {
   "cell_type": "code",
   "execution_count": 46,
   "metadata": {},
   "outputs": [
    {
     "output_type": "execute_result",
     "data": {
      "text/plain": [
       "array([[2, 3],\n",
       "       [5, 6]])"
      ]
     },
     "metadata": {},
     "execution_count": 46
    }
   ],
   "source": [
    "arr2d[:2, 1:]"
   ]
  },
  {
   "cell_type": "markdown",
   "metadata": {},
   "source": [
    "将整数索引和切片混合，可以得到低维度的切片。\n",
    "\n",
    "\n",
    "例如，选取第二行的前两列"
   ]
  },
  {
   "cell_type": "code",
   "execution_count": 47,
   "metadata": {},
   "outputs": [
    {
     "output_type": "execute_result",
     "data": {
      "text/plain": [
       "array([4, 5])"
      ]
     },
     "metadata": {},
     "execution_count": 47
    }
   ],
   "source": [
    "arr2d[1, :2]"
   ]
  },
  {
   "cell_type": "markdown",
   "metadata": {},
   "source": [
    "还可以选择前两行的第三列"
   ]
  },
  {
   "cell_type": "code",
   "execution_count": 48,
   "metadata": {},
   "outputs": [
    {
     "output_type": "execute_result",
     "data": {
      "text/plain": [
       "array([3, 6])"
      ]
     },
     "metadata": {},
     "execution_count": 48
    }
   ],
   "source": [
    "arr2d[:2, 2]"
   ]
  },
  {
   "cell_type": "markdown",
   "metadata": {},
   "source": [
    "注意，“只有冒号”表示选取整个轴，因此你可以像下面这样只对高维轴进行切片"
   ]
  },
  {
   "cell_type": "code",
   "execution_count": 49,
   "metadata": {},
   "outputs": [
    {
     "output_type": "execute_result",
     "data": {
      "text/plain": [
       "array([[1],\n",
       "       [4],\n",
       "       [7]])"
      ]
     },
     "metadata": {},
     "execution_count": 49
    }
   ],
   "source": [
    "arr2d[:, :1]"
   ]
  },
  {
   "cell_type": "markdown",
   "metadata": {},
   "source": [
    "自然，对切片表达式的赋值操作也会被扩散到整个选区"
   ]
  },
  {
   "cell_type": "code",
   "execution_count": 50,
   "metadata": {},
   "outputs": [
    {
     "output_type": "execute_result",
     "data": {
      "text/plain": [
       "array([[1, 0, 0],\n",
       "       [4, 0, 0],\n",
       "       [7, 8, 9]])"
      ]
     },
     "metadata": {},
     "execution_count": 50
    }
   ],
   "source": [
    "arr2d[:2, 1:] = 0\n",
    "arr2d"
   ]
  },
  {
   "cell_type": "markdown",
   "metadata": {},
   "source": [
    "## 布尔型索引"
   ]
  },
  {
   "cell_type": "markdown",
   "metadata": {},
   "source": [
    "假设有一个用于存储数据的数组以及一个存储姓名的数组（含有重复项）。\n",
    "\n",
    "在这里，将使用numpy.random中的randn函数生成一些正态分布的随机数据"
   ]
  },
  {
   "cell_type": "code",
   "execution_count": 51,
   "metadata": {},
   "outputs": [],
   "source": [
    "names = np.array(['Bob', 'Joe', 'Will', 'Bob', 'Will', 'Joe', 'Joe'])\n",
    "data = np.random.randn(7, 4)  # 7行4列的二维数组"
   ]
  },
  {
   "cell_type": "code",
   "execution_count": 52,
   "metadata": {},
   "outputs": [
    {
     "output_type": "execute_result",
     "data": {
      "text/plain": [
       "array(['Bob', 'Joe', 'Will', 'Bob', 'Will', 'Joe', 'Joe'], dtype='<U4')"
      ]
     },
     "metadata": {},
     "execution_count": 52
    }
   ],
   "source": [
    "names"
   ]
  },
  {
   "cell_type": "code",
   "execution_count": 53,
   "metadata": {},
   "outputs": [
    {
     "output_type": "execute_result",
     "data": {
      "text/plain": [
       "array([[-0.73360949,  0.20127964,  1.93356328,  1.26845295],\n",
       "       [ 1.18733746, -0.22230963,  0.16962475,  1.01139693],\n",
       "       [ 1.32358881, -0.14445951,  0.41833281, -0.81711856],\n",
       "       [ 1.58567326, -0.0414307 , -1.2162412 , -0.119397  ],\n",
       "       [ 0.3476709 ,  1.24608811,  0.01772136, -0.29192599],\n",
       "       [ 0.50096912, -0.37449973,  0.93415318, -0.19507224],\n",
       "       [ 2.02397555, -0.95237822, -0.32622467, -0.00360248]])"
      ]
     },
     "metadata": {},
     "execution_count": 53
    }
   ],
   "source": [
    "data"
   ]
  },
  {
   "cell_type": "markdown",
   "metadata": {},
   "source": [
    "假设每个名字都对应data数组中的一行，而我们想要选出对应于名字\"Bob\"的所有行。跟算术运算一样，数组的比较运算（如==）也是矢量化的。因此，对names和字符串\"Bob\"的比较运算将会产生一个布尔型数组"
   ]
  },
  {
   "cell_type": "code",
   "execution_count": 54,
   "metadata": {},
   "outputs": [
    {
     "output_type": "execute_result",
     "data": {
      "text/plain": [
       "array([ True, False, False,  True, False, False, False])"
      ]
     },
     "metadata": {},
     "execution_count": 54
    }
   ],
   "source": [
    "names == 'Bob'"
   ]
  },
  {
   "cell_type": "markdown",
   "metadata": {},
   "source": [
    "这个布尔型数组可用于数组索引"
   ]
  },
  {
   "cell_type": "code",
   "execution_count": 55,
   "metadata": {},
   "outputs": [
    {
     "output_type": "execute_result",
     "data": {
      "text/plain": [
       "array([[-0.73360949,  0.20127964,  1.93356328,  1.26845295],\n",
       "       [ 1.58567326, -0.0414307 , -1.2162412 , -0.119397  ]])"
      ]
     },
     "metadata": {},
     "execution_count": 55
    }
   ],
   "source": [
    "data[names == 'Bob']"
   ]
  },
  {
   "cell_type": "markdown",
   "metadata": {},
   "source": [
    "布尔型数组的长度必须跟被索引的轴长度一致。"
   ]
  },
  {
   "cell_type": "markdown",
   "metadata": {},
   "source": [
    "布尔型数组的长度必须跟被索引的轴长度一致。\n",
    "\n",
    "此外，还可以将布尔型数组跟切片、整数（或整数序列）混合使用\n",
    "\n",
    "* 注意：如果布尔型数组的长度不对，布尔型选择就会出错，因此一定要小心。"
   ]
  },
  {
   "cell_type": "code",
   "execution_count": 56,
   "metadata": {},
   "outputs": [
    {
     "output_type": "execute_result",
     "data": {
      "text/plain": [
       "array([[ 1.93356328,  1.26845295],\n",
       "       [-1.2162412 , -0.119397  ]])"
      ]
     },
     "metadata": {},
     "execution_count": 56
    }
   ],
   "source": [
    "# 选取 names == 'Bob' 的行，并索引了列\n",
    "data[names == 'Bob', 2:]"
   ]
  },
  {
   "cell_type": "markdown",
   "metadata": {},
   "source": [
    "要选择除 \"Bob\" 以外的其他值，可以使用不等于符号（!=）"
   ]
  },
  {
   "cell_type": "code",
   "execution_count": 57,
   "metadata": {},
   "outputs": [
    {
     "output_type": "execute_result",
     "data": {
      "text/plain": [
       "array([[ 1.18733746, -0.22230963,  0.16962475,  1.01139693],\n",
       "       [ 1.32358881, -0.14445951,  0.41833281, -0.81711856],\n",
       "       [ 0.3476709 ,  1.24608811,  0.01772136, -0.29192599],\n",
       "       [ 0.50096912, -0.37449973,  0.93415318, -0.19507224],\n",
       "       [ 2.02397555, -0.95237822, -0.32622467, -0.00360248]])"
      ]
     },
     "metadata": {},
     "execution_count": 57
    }
   ],
   "source": [
    "data[names != 'Bob']"
   ]
  },
  {
   "cell_type": "markdown",
   "metadata": {},
   "source": [
    "也可以通过 `~` 操作符对条件进行否定，`~` 操作符用来反转条件很好用"
   ]
  },
  {
   "cell_type": "code",
   "execution_count": 58,
   "metadata": {},
   "outputs": [
    {
     "output_type": "execute_result",
     "data": {
      "text/plain": [
       "array([[ 1.18733746, -0.22230963,  0.16962475,  1.01139693],\n",
       "       [ 1.32358881, -0.14445951,  0.41833281, -0.81711856],\n",
       "       [ 0.3476709 ,  1.24608811,  0.01772136, -0.29192599],\n",
       "       [ 0.50096912, -0.37449973,  0.93415318, -0.19507224],\n",
       "       [ 2.02397555, -0.95237822, -0.32622467, -0.00360248]])"
      ]
     },
     "metadata": {},
     "execution_count": 58
    }
   ],
   "source": [
    "cond = names == 'Bob'\n",
    "data[~cond]"
   ]
  },
  {
   "cell_type": "markdown",
   "metadata": {},
   "source": [
    "选取这三个名字中的两个需要组合应用多个布尔条件，使用&（和）、|（或）之类的布尔算术运算符即可"
   ]
  },
  {
   "cell_type": "code",
   "execution_count": 59,
   "metadata": {},
   "outputs": [
    {
     "output_type": "execute_result",
     "data": {
      "text/plain": [
       "array([[-0.73360949,  0.20127964,  1.93356328,  1.26845295],\n",
       "       [ 1.32358881, -0.14445951,  0.41833281, -0.81711856],\n",
       "       [ 1.58567326, -0.0414307 , -1.2162412 , -0.119397  ],\n",
       "       [ 0.3476709 ,  1.24608811,  0.01772136, -0.29192599]])"
      ]
     },
     "metadata": {},
     "execution_count": 59
    }
   ],
   "source": [
    "mask = (names == 'Bob') | (names == 'Will')\n",
    "data[mask]"
   ]
  },
  {
   "cell_type": "markdown",
   "metadata": {},
   "source": [
    "通过布尔型索引选取数组中的数据，将总是创建数据的副本，即使返回一模一样的数组也是如此。\n",
    "\n",
    "> 注意：Python关键字and和or在布尔型数组中无效。要使用&与|。"
   ]
  },
  {
   "cell_type": "markdown",
   "metadata": {},
   "source": [
    "通过布尔型数组设置值是一种经常用到的手段。将data中的所有负值都设置为0，可以这样"
   ]
  },
  {
   "cell_type": "code",
   "execution_count": 60,
   "metadata": {},
   "outputs": [
    {
     "output_type": "execute_result",
     "data": {
      "text/plain": [
       "array([[0.        , 0.20127964, 1.93356328, 1.26845295],\n",
       "       [1.18733746, 0.        , 0.16962475, 1.01139693],\n",
       "       [1.32358881, 0.        , 0.41833281, 0.        ],\n",
       "       [1.58567326, 0.        , 0.        , 0.        ],\n",
       "       [0.3476709 , 1.24608811, 0.01772136, 0.        ],\n",
       "       [0.50096912, 0.        , 0.93415318, 0.        ],\n",
       "       [2.02397555, 0.        , 0.        , 0.        ]])"
      ]
     },
     "metadata": {},
     "execution_count": 60
    }
   ],
   "source": [
    "data[data < 0] = 0\n",
    "data"
   ]
  },
  {
   "cell_type": "markdown",
   "metadata": {},
   "source": [
    "通过一维布尔数组设置整行或列的值也很简单"
   ]
  },
  {
   "cell_type": "code",
   "execution_count": 61,
   "metadata": {},
   "outputs": [
    {
     "output_type": "execute_result",
     "data": {
      "text/plain": [
       "array([[7.        , 7.        , 7.        , 7.        ],\n",
       "       [1.18733746, 0.        , 0.16962475, 1.01139693],\n",
       "       [7.        , 7.        , 7.        , 7.        ],\n",
       "       [7.        , 7.        , 7.        , 7.        ],\n",
       "       [7.        , 7.        , 7.        , 7.        ],\n",
       "       [0.50096912, 0.        , 0.93415318, 0.        ],\n",
       "       [2.02397555, 0.        , 0.        , 0.        ]])"
      ]
     },
     "metadata": {},
     "execution_count": 61
    }
   ],
   "source": [
    "data[names != 'Joe'] = 7\n",
    "data"
   ]
  },
  {
   "cell_type": "markdown",
   "metadata": {},
   "source": [
    "这类二维数据的操作也可以用pandas方便的来做。"
   ]
  },
  {
   "cell_type": "markdown",
   "metadata": {},
   "source": [
    "## 花式索引\n",
    "\n",
    "花式索引（Fancy indexing）是一个NumPy术语，它指的是利用整数数组进行索引。"
   ]
  },
  {
   "cell_type": "markdown",
   "metadata": {},
   "source": [
    "假设有一个8×4数组"
   ]
  },
  {
   "cell_type": "code",
   "execution_count": 62,
   "metadata": {},
   "outputs": [
    {
     "output_type": "execute_result",
     "data": {
      "text/plain": [
       "array([[0., 0., 0., 0.],\n",
       "       [1., 1., 1., 1.],\n",
       "       [2., 2., 2., 2.],\n",
       "       [3., 3., 3., 3.],\n",
       "       [4., 4., 4., 4.],\n",
       "       [5., 5., 5., 5.],\n",
       "       [6., 6., 6., 6.],\n",
       "       [7., 7., 7., 7.]])"
      ]
     },
     "metadata": {},
     "execution_count": 62
    }
   ],
   "source": [
    "arr = np.empty((8, 4))\n",
    "for i in range(8):\n",
    "    arr[i] = i\n",
    "arr"
   ]
  },
  {
   "cell_type": "markdown",
   "metadata": {},
   "source": [
    "为了以特定顺序选取行子集，只需传入一个用于指定顺序的整数列表或ndarray即可"
   ]
  },
  {
   "cell_type": "code",
   "execution_count": 63,
   "metadata": {},
   "outputs": [
    {
     "output_type": "execute_result",
     "data": {
      "text/plain": [
       "array([[4., 4., 4., 4.],\n",
       "       [3., 3., 3., 3.],\n",
       "       [0., 0., 0., 0.],\n",
       "       [6., 6., 6., 6.]])"
      ]
     },
     "metadata": {},
     "execution_count": 63
    }
   ],
   "source": [
    "arr[[4, 3, 0, 6]]"
   ]
  },
  {
   "cell_type": "markdown",
   "metadata": {},
   "source": [
    "使用负数索引将会从末尾开始选取行（最后一行的索引从 -1 开始，以此往前递减）"
   ]
  },
  {
   "cell_type": "code",
   "execution_count": 64,
   "metadata": {},
   "outputs": [
    {
     "output_type": "execute_result",
     "data": {
      "text/plain": [
       "array([[5., 5., 5., 5.],\n",
       "       [7., 7., 7., 7.],\n",
       "       [1., 1., 1., 1.]])"
      ]
     },
     "metadata": {},
     "execution_count": 64
    }
   ],
   "source": [
    "arr[[-3, -1, -7]]"
   ]
  },
  {
   "cell_type": "markdown",
   "metadata": {},
   "source": [
    "一次传入多个索引数组会有一点特别。它返回的是一个一维数组，其中的元素对应各个索引元组"
   ]
  },
  {
   "cell_type": "code",
   "execution_count": 65,
   "metadata": {},
   "outputs": [
    {
     "output_type": "execute_result",
     "data": {
      "text/plain": [
       "array([[ 0,  1,  2,  3],\n",
       "       [ 4,  5,  6,  7],\n",
       "       [ 8,  9, 10, 11],\n",
       "       [12, 13, 14, 15],\n",
       "       [16, 17, 18, 19],\n",
       "       [20, 21, 22, 23],\n",
       "       [24, 25, 26, 27],\n",
       "       [28, 29, 30, 31]])"
      ]
     },
     "metadata": {},
     "execution_count": 65
    }
   ],
   "source": [
    "arr = np.arange(32).reshape((8, 4))\n",
    "arr"
   ]
  },
  {
   "cell_type": "code",
   "execution_count": 66,
   "metadata": {},
   "outputs": [
    {
     "output_type": "execute_result",
     "data": {
      "text/plain": [
       "array([ 4, 23, 29, 10])"
      ]
     },
     "metadata": {},
     "execution_count": 66
    }
   ],
   "source": [
    "arr[[1, 5, 7, 2], [0, 3, 1, 2]]"
   ]
  },
  {
   "cell_type": "markdown",
   "metadata": {},
   "source": [
    "最终选出的是元素(1,0)、(5,3)、(7,1)和(2,2)。无论数组是多少维的，花式索引总是一维的。"
   ]
  },
  {
   "cell_type": "code",
   "execution_count": 67,
   "metadata": {},
   "outputs": [
    {
     "output_type": "execute_result",
     "data": {
      "text/plain": [
       "array([[ 4,  7,  5,  6],\n",
       "       [20, 23, 21, 22],\n",
       "       [28, 31, 29, 30],\n",
       "       [ 8, 11,  9, 10]])"
      ]
     },
     "metadata": {},
     "execution_count": 67
    }
   ],
   "source": [
    "arr[[1, 5, 7, 2]][:, [0, 3, 1, 2]]"
   ]
  },
  {
   "cell_type": "markdown",
   "metadata": {},
   "source": [
    "记住，花式索引跟切片不一样，它总是将数据复制到新数组中。"
   ]
  },
  {
   "cell_type": "markdown",
   "metadata": {},
   "source": [
    "## 数组转置和轴对换\n",
    "\n",
    "转置是重塑的一种特殊形式，它返回的是源数据的视图（不会进行任何复制操作）。\n",
    "\n",
    "数组不仅有transpose方法，还有一个特殊的T属性"
   ]
  },
  {
   "cell_type": "code",
   "execution_count": 68,
   "metadata": {},
   "outputs": [
    {
     "output_type": "execute_result",
     "data": {
      "text/plain": [
       "array([[ 0,  1,  2,  3,  4],\n",
       "       [ 5,  6,  7,  8,  9],\n",
       "       [10, 11, 12, 13, 14]])"
      ]
     },
     "metadata": {},
     "execution_count": 68
    }
   ],
   "source": [
    "arr = np.arange(15).reshape((3, 5))\n",
    "arr"
   ]
  },
  {
   "cell_type": "code",
   "execution_count": 69,
   "metadata": {},
   "outputs": [
    {
     "output_type": "execute_result",
     "data": {
      "text/plain": [
       "array([[ 0,  5, 10],\n",
       "       [ 1,  6, 11],\n",
       "       [ 2,  7, 12],\n",
       "       [ 3,  8, 13],\n",
       "       [ 4,  9, 14]])"
      ]
     },
     "metadata": {},
     "execution_count": 69
    }
   ],
   "source": [
    "arr.T"
   ]
  },
  {
   "cell_type": "markdown",
   "metadata": {},
   "source": [
    "在进行矩阵计算时，经常需要用到该操作，比如利用np.dot计算矩阵内积"
   ]
  },
  {
   "cell_type": "code",
   "execution_count": 70,
   "metadata": {},
   "outputs": [
    {
     "output_type": "execute_result",
     "data": {
      "text/plain": [
       "array([[-1.41094129, -1.09369248,  0.4709913 ],\n",
       "       [-0.18780438,  0.46130547, -0.8390621 ],\n",
       "       [-0.5340685 ,  0.32197078, -0.85036022],\n",
       "       [ 1.66339768, -2.09272516, -1.36019631],\n",
       "       [-1.1842703 , -0.54019367,  0.34407308],\n",
       "       [ 0.84071509,  0.78593865,  0.00845075]])"
      ]
     },
     "metadata": {},
     "execution_count": 70
    }
   ],
   "source": [
    "arr = np.random.randn(6, 3)\n",
    "arr"
   ]
  },
  {
   "cell_type": "code",
   "execution_count": 71,
   "metadata": {},
   "outputs": [
    {
     "output_type": "execute_result",
     "data": {
      "text/plain": [
       "array([[ 7.18744485, -0.89600214, -2.71572918],\n",
       "       [-0.89600214,  6.80163851,  1.491318  ],\n",
       "       [-2.71572918,  1.491318  ,  3.61756224]])"
      ]
     },
     "metadata": {},
     "execution_count": 71
    }
   ],
   "source": [
    "np.dot(arr.T, arr)"
   ]
  },
  {
   "cell_type": "markdown",
   "metadata": {},
   "source": [
    "对于高维数组，transpose需要得到一个由轴编号组成的元组才能对这些轴进行转置（比较费脑子）"
   ]
  },
  {
   "cell_type": "code",
   "execution_count": 72,
   "metadata": {},
   "outputs": [
    {
     "output_type": "execute_result",
     "data": {
      "text/plain": [
       "array([[[ 0,  1,  2,  3],\n",
       "        [ 4,  5,  6,  7]],\n",
       "\n",
       "       [[ 8,  9, 10, 11],\n",
       "        [12, 13, 14, 15]]])"
      ]
     },
     "metadata": {},
     "execution_count": 72
    }
   ],
   "source": [
    "arr = np.arange(16).reshape((2, 2, 4))\n",
    "arr"
   ]
  },
  {
   "cell_type": "code",
   "execution_count": 73,
   "metadata": {},
   "outputs": [
    {
     "output_type": "execute_result",
     "data": {
      "text/plain": [
       "array([[[ 0,  1,  2,  3],\n",
       "        [ 8,  9, 10, 11]],\n",
       "\n",
       "       [[ 4,  5,  6,  7],\n",
       "        [12, 13, 14, 15]]])"
      ]
     },
     "metadata": {},
     "execution_count": 73
    }
   ],
   "source": [
    "arr.transpose((1, 0, 2))"
   ]
  },
  {
   "cell_type": "markdown",
   "metadata": {},
   "source": [
    "这里，第一个轴被换成了第二个，第二个轴被换成了第一个，最后一个轴不变。\n",
    "\n",
    "简单的转置可以使用.T，它其实就是进行轴对换而已。\n",
    "\n",
    "ndarray还有一个swapaxes方法，它需要接受一对轴编号"
   ]
  },
  {
   "cell_type": "code",
   "execution_count": 74,
   "metadata": {},
   "outputs": [
    {
     "output_type": "execute_result",
     "data": {
      "text/plain": [
       "array([[[ 0,  1,  2,  3],\n",
       "        [ 4,  5,  6,  7]],\n",
       "\n",
       "       [[ 8,  9, 10, 11],\n",
       "        [12, 13, 14, 15]]])"
      ]
     },
     "metadata": {},
     "execution_count": 74
    }
   ],
   "source": [
    "arr"
   ]
  },
  {
   "cell_type": "code",
   "execution_count": 75,
   "metadata": {},
   "outputs": [
    {
     "output_type": "execute_result",
     "data": {
      "text/plain": [
       "array([[[ 0,  4],\n",
       "        [ 1,  5],\n",
       "        [ 2,  6],\n",
       "        [ 3,  7]],\n",
       "\n",
       "       [[ 8, 12],\n",
       "        [ 9, 13],\n",
       "        [10, 14],\n",
       "        [11, 15]]])"
      ]
     },
     "metadata": {},
     "execution_count": 75
    }
   ],
   "source": [
    "arr.swapaxes(1, 2)"
   ]
  },
  {
   "cell_type": "markdown",
   "metadata": {},
   "source": [
    "swapaxes也是返回源数据的视图（不会进行任何复制操作）"
   ]
  },
  {
   "cell_type": "markdown",
   "metadata": {},
   "source": [
    "# 4.2 通用函数：快速的元素级数组函数"
   ]
  },
  {
   "cell_type": "markdown",
   "metadata": {},
   "source": [
    "通用函数（即ufunc）是一种对ndarray中的数据执行元素级运算的函数。\n",
    "\n",
    "可以将其看做简单函数（接受一个或多个标量值，并产生一个或多个标量值）的矢量化包装器。"
   ]
  },
  {
   "cell_type": "markdown",
   "metadata": {},
   "source": [
    "许多ufunc都是简单的元素级变体，如sqrt和exp："
   ]
  },
  {
   "cell_type": "code",
   "execution_count": 76,
   "metadata": {},
   "outputs": [
    {
     "output_type": "execute_result",
     "data": {
      "text/plain": [
       "array([0, 1, 2, 3, 4, 5, 6, 7, 8, 9])"
      ]
     },
     "metadata": {},
     "execution_count": 76
    }
   ],
   "source": [
    "arr = np.arange(10)\n",
    "arr"
   ]
  },
  {
   "cell_type": "code",
   "execution_count": 77,
   "metadata": {},
   "outputs": [
    {
     "output_type": "execute_result",
     "data": {
      "text/plain": [
       "array([0.        , 1.        , 1.41421356, 1.73205081, 2.        ,\n",
       "       2.23606798, 2.44948974, 2.64575131, 2.82842712, 3.        ])"
      ]
     },
     "metadata": {},
     "execution_count": 77
    }
   ],
   "source": [
    "# 计算数组每个元素的算术平方根\n",
    "np.sqrt(arr)"
   ]
  },
  {
   "cell_type": "code",
   "execution_count": 78,
   "metadata": {},
   "outputs": [
    {
     "output_type": "execute_result",
     "data": {
      "text/plain": [
       "array([1.00000000e+00, 2.71828183e+00, 7.38905610e+00, 2.00855369e+01,\n",
       "       5.45981500e+01, 1.48413159e+02, 4.03428793e+02, 1.09663316e+03,\n",
       "       2.98095799e+03, 8.10308393e+03])"
      ]
     },
     "metadata": {},
     "execution_count": 78
    }
   ],
   "source": [
    "# 计算数组每个元素 e^x 的值\n",
    "np.exp(arr)"
   ]
  },
  {
   "cell_type": "markdown",
   "metadata": {},
   "source": [
    "这些都是一元（unary）ufunc。\n",
    "\n",
    "另外一些（如add或maximum）接受2个数组（也叫二元（binary）ufunc），并返回一个结果数组"
   ]
  },
  {
   "cell_type": "code",
   "execution_count": 79,
   "metadata": {},
   "outputs": [],
   "source": [
    "x = np.random.randn(8)\n",
    "y = np.random.randn(8)"
   ]
  },
  {
   "cell_type": "code",
   "execution_count": 80,
   "metadata": {},
   "outputs": [
    {
     "output_type": "execute_result",
     "data": {
      "text/plain": [
       "array([-0.37449048, -0.08826747,  1.40496239, -1.82075293,  0.31796615,\n",
       "        1.06837029, -0.27897589,  0.37803859])"
      ]
     },
     "metadata": {},
     "execution_count": 80
    }
   ],
   "source": [
    "x"
   ]
  },
  {
   "cell_type": "code",
   "execution_count": 81,
   "metadata": {},
   "outputs": [
    {
     "output_type": "execute_result",
     "data": {
      "text/plain": [
       "array([ 0.08008124, -0.81691042, -0.11088492, -1.14300655,  1.00512545,\n",
       "       -0.01846222,  0.23317953,  0.54855576])"
      ]
     },
     "metadata": {},
     "execution_count": 81
    }
   ],
   "source": [
    "y"
   ]
  },
  {
   "cell_type": "markdown",
   "metadata": {},
   "source": [
    "numpy.maximum 计算了x和y中元素级别(元素值)最大的元素"
   ]
  },
  {
   "cell_type": "code",
   "execution_count": 82,
   "metadata": {},
   "outputs": [
    {
     "output_type": "execute_result",
     "data": {
      "text/plain": [
       "array([ 0.08008124, -0.08826747,  1.40496239, -1.14300655,  1.00512545,\n",
       "        1.06837029,  0.23317953,  0.54855576])"
      ]
     },
     "metadata": {},
     "execution_count": 82
    }
   ],
   "source": [
    "np.maximum(x, y)"
   ]
  },
  {
   "cell_type": "markdown",
   "metadata": {},
   "source": [
    "虽然并不常见，但有些ufunc的确可以返回多个数组。\n",
    "\n",
    "modf就是一个例子，它是Python内置函数divmod的矢量化版本，它会返回浮点数数组的小数和整数部分"
   ]
  },
  {
   "cell_type": "code",
   "execution_count": 83,
   "metadata": {},
   "outputs": [
    {
     "output_type": "execute_result",
     "data": {
      "text/plain": [
       "array([ 5.79778095,  4.16481578,  1.69063902,  3.51367145,  9.86029672,\n",
       "       -1.76530822, -6.36876808])"
      ]
     },
     "metadata": {},
     "execution_count": 83
    }
   ],
   "source": [
    "arr = np.random.randn(7) * 5\n",
    "arr"
   ]
  },
  {
   "cell_type": "code",
   "execution_count": 84,
   "metadata": {},
   "outputs": [],
   "source": [
    "remainder, whole_part = np.modf(arr)"
   ]
  },
  {
   "cell_type": "code",
   "execution_count": 85,
   "metadata": {},
   "outputs": [
    {
     "output_type": "execute_result",
     "data": {
      "text/plain": [
       "array([ 0.79778095,  0.16481578,  0.69063902,  0.51367145,  0.86029672,\n",
       "       -0.76530822, -0.36876808])"
      ]
     },
     "metadata": {},
     "execution_count": 85
    }
   ],
   "source": [
    "remainder"
   ]
  },
  {
   "cell_type": "code",
   "execution_count": 86,
   "metadata": {},
   "outputs": [
    {
     "output_type": "execute_result",
     "data": {
      "text/plain": [
       "array([ 5.,  4.,  1.,  3.,  9., -1., -6.])"
      ]
     },
     "metadata": {},
     "execution_count": 86
    }
   ],
   "source": [
    "whole_part"
   ]
  },
  {
   "cell_type": "markdown",
   "metadata": {},
   "source": [
    "Ufuncs可以接受一个out可选参数，这样就能在数组原地进行操作"
   ]
  },
  {
   "cell_type": "code",
   "execution_count": 87,
   "metadata": {},
   "outputs": [
    {
     "output_type": "execute_result",
     "data": {
      "text/plain": [
       "array([ 5.79778095,  4.16481578,  1.69063902,  3.51367145,  9.86029672,\n",
       "       -1.76530822, -6.36876808])"
      ]
     },
     "metadata": {},
     "execution_count": 87
    }
   ],
   "source": [
    "arr"
   ]
  },
  {
   "cell_type": "code",
   "execution_count": 88,
   "metadata": {},
   "outputs": [
    {
     "output_type": "execute_result",
     "data": {
      "text/plain": [
       "array([2.40785817, 2.04078803, 1.30024575, 1.87447898, 3.14011094,\n",
       "              nan,        nan])"
      ]
     },
     "metadata": {},
     "execution_count": 88
    }
   ],
   "source": [
    "np.sqrt(arr)"
   ]
  },
  {
   "cell_type": "code",
   "execution_count": 89,
   "metadata": {},
   "outputs": [
    {
     "output_type": "execute_result",
     "data": {
      "text/plain": [
       "array([ 5.79778095,  4.16481578,  1.69063902,  3.51367145,  9.86029672,\n",
       "       -1.76530822, -6.36876808])"
      ]
     },
     "metadata": {},
     "execution_count": 89
    }
   ],
   "source": [
    "arr"
   ]
  },
  {
   "cell_type": "code",
   "execution_count": 90,
   "metadata": {},
   "outputs": [
    {
     "output_type": "execute_result",
     "data": {
      "text/plain": [
       "array([2.40785817, 2.04078803, 1.30024575, 1.87447898, 3.14011094,\n",
       "              nan,        nan])"
      ]
     },
     "metadata": {},
     "execution_count": 90
    }
   ],
   "source": [
    "np.sqrt(arr, arr)"
   ]
  },
  {
   "cell_type": "code",
   "execution_count": 91,
   "metadata": {},
   "outputs": [
    {
     "output_type": "execute_result",
     "data": {
      "text/plain": [
       "array([2.40785817, 2.04078803, 1.30024575, 1.87447898, 3.14011094,\n",
       "              nan,        nan])"
      ]
     },
     "metadata": {},
     "execution_count": 91
    }
   ],
   "source": [
    "arr"
   ]
  },
  {
   "cell_type": "markdown",
   "metadata": {},
   "source": [
    "# 4.3 利用数组进行数据处理"
   ]
  },
  {
   "cell_type": "markdown",
   "metadata": {},
   "source": [
    "NumPy数组使你可以将许多种数据处理任务表述为简洁的数组表达式（否则需要编写循环）。用数组表达式代替循环的做法，通常被称为矢量化。一般来说，矢量化数组运算要比等价的纯Python方式快上一两个数量级（甚至更多），尤其是各种数值计算。"
   ]
  },
  {
   "cell_type": "markdown",
   "metadata": {},
   "source": [
    "假设想要在一组值（网格型）上计算函数``sqrt(x^2+y^2)``。np.meshgrid函数接受两个一维数组，并产生两个二维矩阵（对应于两个数组中所有的(x,y)对）"
   ]
  },
  {
   "cell_type": "code",
   "execution_count": 92,
   "metadata": {},
   "outputs": [],
   "source": [
    "points = np.arange(-5, 5, 0.01)  # 1000 equally spaced points\n",
    "xs, ys = np.meshgrid(points, points)"
   ]
  },
  {
   "cell_type": "code",
   "execution_count": 93,
   "metadata": {},
   "outputs": [
    {
     "output_type": "execute_result",
     "data": {
      "text/plain": [
       "(array([[-5.  , -4.99, -4.98, ...,  4.97,  4.98,  4.99],\n",
       "        [-5.  , -4.99, -4.98, ...,  4.97,  4.98,  4.99],\n",
       "        [-5.  , -4.99, -4.98, ...,  4.97,  4.98,  4.99],\n",
       "        ...,\n",
       "        [-5.  , -4.99, -4.98, ...,  4.97,  4.98,  4.99],\n",
       "        [-5.  , -4.99, -4.98, ...,  4.97,  4.98,  4.99],\n",
       "        [-5.  , -4.99, -4.98, ...,  4.97,  4.98,  4.99]]),\n",
       " 1000000)"
      ]
     },
     "metadata": {},
     "execution_count": 93
    }
   ],
   "source": [
    "xs, xs.size"
   ]
  },
  {
   "cell_type": "code",
   "execution_count": 94,
   "metadata": {},
   "outputs": [
    {
     "output_type": "execute_result",
     "data": {
      "text/plain": [
       "(array([[-5.  , -5.  , -5.  , ..., -5.  , -5.  , -5.  ],\n",
       "        [-4.99, -4.99, -4.99, ..., -4.99, -4.99, -4.99],\n",
       "        [-4.98, -4.98, -4.98, ..., -4.98, -4.98, -4.98],\n",
       "        ...,\n",
       "        [ 4.97,  4.97,  4.97, ...,  4.97,  4.97,  4.97],\n",
       "        [ 4.98,  4.98,  4.98, ...,  4.98,  4.98,  4.98],\n",
       "        [ 4.99,  4.99,  4.99, ...,  4.99,  4.99,  4.99]]),\n",
       " 1000000)"
      ]
     },
     "metadata": {},
     "execution_count": 94
    }
   ],
   "source": [
    "ys, ys.size"
   ]
  },
  {
   "cell_type": "markdown",
   "metadata": {},
   "source": [
    "现在，对该函数的求值运算就好办了，把这两个数组当做两个浮点数那样编写表达式即可"
   ]
  },
  {
   "cell_type": "code",
   "execution_count": 95,
   "metadata": {},
   "outputs": [
    {
     "output_type": "execute_result",
     "data": {
      "text/plain": [
       "1000000"
      ]
     },
     "metadata": {},
     "execution_count": 95
    }
   ],
   "source": [
    "z = np.sqrt(xs ** 2 + ys ** 2)\n",
    "z.size"
   ]
  },
  {
   "cell_type": "markdown",
   "metadata": {},
   "source": [
    "用matplotlib创建了这个二维数组的可视化"
   ]
  },
  {
   "cell_type": "code",
   "execution_count": 96,
   "metadata": {},
   "outputs": [
    {
     "output_type": "execute_result",
     "data": {
      "text/plain": [
       "<matplotlib.colorbar.Colorbar at 0x1c591307220>"
      ]
     },
     "metadata": {},
     "execution_count": 96
    },
    {
     "output_type": "display_data",
     "data": {
      "text/plain": "<Figure size 432x288 with 2 Axes>",
      "image/svg+xml": "<?xml version=\"1.0\" encoding=\"utf-8\" standalone=\"no\"?>\r\n<!DOCTYPE svg PUBLIC \"-//W3C//DTD SVG 1.1//EN\"\r\n  \"http://www.w3.org/Graphics/SVG/1.1/DTD/svg11.dtd\">\r\n<!-- Created with matplotlib (https://matplotlib.org/) -->\r\n<svg height=\"269.878125pt\" version=\"1.1\" viewBox=\"0 0 298.902 269.878125\" width=\"298.902pt\" xmlns=\"http://www.w3.org/2000/svg\" xmlns:xlink=\"http://www.w3.org/1999/xlink\">\r\n <metadata>\r\n  <rdf:RDF xmlns:cc=\"http://creativecommons.org/ns#\" xmlns:dc=\"http://purl.org/dc/elements/1.1/\" xmlns:rdf=\"http://www.w3.org/1999/02/22-rdf-syntax-ns#\">\r\n   <cc:Work>\r\n    <dc:type rdf:resource=\"http://purl.org/dc/dcmitype/StillImage\"/>\r\n    <dc:date>2020-10-21T22:29:03.721082</dc:date>\r\n    <dc:format>image/svg+xml</dc:format>\r\n    <dc:creator>\r\n     <cc:Agent>\r\n      <dc:title>Matplotlib v3.3.2, https://matplotlib.org/</dc:title>\r\n     </cc:Agent>\r\n    </dc:creator>\r\n   </cc:Work>\r\n  </rdf:RDF>\r\n </metadata>\r\n <defs>\r\n  <style type=\"text/css\">*{stroke-linecap:butt;stroke-linejoin:round;}</style>\r\n </defs>\r\n <g id=\"figure_1\">\r\n  <g id=\"patch_1\">\r\n   <path d=\"M 0 269.878125 \r\nL 298.902 269.878125 \r\nL 298.902 0 \r\nL 0 0 \r\nz\r\n\" style=\"fill:none;\"/>\r\n  </g>\r\n  <g id=\"axes_1\">\r\n   <g id=\"patch_2\">\r\n    <path d=\"M 33.2875 246 \r\nL 250.7275 246 \r\nL 250.7275 28.56 \r\nL 33.2875 28.56 \r\nz\r\n\" style=\"fill:#ffffff;\"/>\r\n   </g>\r\n   <g clip-path=\"url(#pf15b6a97be)\">\r\n    <image height=\"218\" id=\"image69f5d432ac\" transform=\"scale(1 -1)translate(0 -218)\" width=\"218\" x=\"33.2875\" xlink:href=\"data:image/png;base64,\r\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\" y=\"-28\"/>\r\n   </g>\r\n   <g id=\"matplotlib.axis_1\">\r\n    <g id=\"xtick_1\">\r\n     <g id=\"line2d_1\">\r\n      <defs>\r\n       <path d=\"M 0 0 \r\nL 0 3.5 \r\n\" id=\"ma8df064930\" style=\"stroke:#000000;stroke-width:0.8;\"/>\r\n      </defs>\r\n      <g>\r\n       <use style=\"stroke:#000000;stroke-width:0.8;\" x=\"33.39622\" xlink:href=\"#ma8df064930\" y=\"246\"/>\r\n      </g>\r\n     </g>\r\n     <g id=\"text_1\">\r\n      <!-- 0 -->\r\n      <g transform=\"translate(30.21497 260.598437)scale(0.1 -0.1)\">\r\n       <defs>\r\n        <path d=\"M 31.78125 66.40625 \r\nQ 24.171875 66.40625 20.328125 58.90625 \r\nQ 16.5 51.421875 16.5 36.375 \r\nQ 16.5 21.390625 20.328125 13.890625 \r\nQ 24.171875 6.390625 31.78125 6.390625 \r\nQ 39.453125 6.390625 43.28125 13.890625 \r\nQ 47.125 21.390625 47.125 36.375 \r\nQ 47.125 51.421875 43.28125 58.90625 \r\nQ 39.453125 66.40625 31.78125 66.40625 \r\nz\r\nM 31.78125 74.21875 \r\nQ 44.046875 74.21875 50.515625 64.515625 \r\nQ 56.984375 54.828125 56.984375 36.375 \r\nQ 56.984375 17.96875 50.515625 8.265625 \r\nQ 44.046875 -1.421875 31.78125 -1.421875 \r\nQ 19.53125 -1.421875 13.0625 8.265625 \r\nQ 6.59375 17.96875 6.59375 36.375 \r\nQ 6.59375 54.828125 13.0625 64.515625 \r\nQ 19.53125 74.21875 31.78125 74.21875 \r\nz\r\n\" id=\"DejaVuSans-48\"/>\r\n       </defs>\r\n       <use xlink:href=\"#DejaVuSans-48\"/>\r\n      </g>\r\n     </g>\r\n    </g>\r\n    <g id=\"xtick_2\">\r\n     <g id=\"line2d_2\">\r\n      <g>\r\n       <use style=\"stroke:#000000;stroke-width:0.8;\" x=\"76.88422\" xlink:href=\"#ma8df064930\" y=\"246\"/>\r\n      </g>\r\n     </g>\r\n     <g id=\"text_2\">\r\n      <!-- 200 -->\r\n      <g transform=\"translate(67.34047 260.598437)scale(0.1 -0.1)\">\r\n       <defs>\r\n        <path d=\"M 19.1875 8.296875 \r\nL 53.609375 8.296875 \r\nL 53.609375 0 \r\nL 7.328125 0 \r\nL 7.328125 8.296875 \r\nQ 12.9375 14.109375 22.625 23.890625 \r\nQ 32.328125 33.6875 34.8125 36.53125 \r\nQ 39.546875 41.84375 41.421875 45.53125 \r\nQ 43.3125 49.21875 43.3125 52.78125 \r\nQ 43.3125 58.59375 39.234375 62.25 \r\nQ 35.15625 65.921875 28.609375 65.921875 \r\nQ 23.96875 65.921875 18.8125 64.3125 \r\nQ 13.671875 62.703125 7.8125 59.421875 \r\nL 7.8125 69.390625 \r\nQ 13.765625 71.78125 18.9375 73 \r\nQ 24.125 74.21875 28.421875 74.21875 \r\nQ 39.75 74.21875 46.484375 68.546875 \r\nQ 53.21875 62.890625 53.21875 53.421875 \r\nQ 53.21875 48.921875 51.53125 44.890625 \r\nQ 49.859375 40.875 45.40625 35.40625 \r\nQ 44.1875 33.984375 37.640625 27.21875 \r\nQ 31.109375 20.453125 19.1875 8.296875 \r\nz\r\n\" id=\"DejaVuSans-50\"/>\r\n       </defs>\r\n       <use xlink:href=\"#DejaVuSans-50\"/>\r\n       <use x=\"63.623047\" xlink:href=\"#DejaVuSans-48\"/>\r\n       <use x=\"127.246094\" xlink:href=\"#DejaVuSans-48\"/>\r\n      </g>\r\n     </g>\r\n    </g>\r\n    <g id=\"xtick_3\">\r\n     <g id=\"line2d_3\">\r\n      <g>\r\n       <use style=\"stroke:#000000;stroke-width:0.8;\" x=\"120.37222\" xlink:href=\"#ma8df064930\" y=\"246\"/>\r\n      </g>\r\n     </g>\r\n     <g id=\"text_3\">\r\n      <!-- 400 -->\r\n      <g transform=\"translate(110.82847 260.598437)scale(0.1 -0.1)\">\r\n       <defs>\r\n        <path d=\"M 37.796875 64.3125 \r\nL 12.890625 25.390625 \r\nL 37.796875 25.390625 \r\nz\r\nM 35.203125 72.90625 \r\nL 47.609375 72.90625 \r\nL 47.609375 25.390625 \r\nL 58.015625 25.390625 \r\nL 58.015625 17.1875 \r\nL 47.609375 17.1875 \r\nL 47.609375 0 \r\nL 37.796875 0 \r\nL 37.796875 17.1875 \r\nL 4.890625 17.1875 \r\nL 4.890625 26.703125 \r\nz\r\n\" id=\"DejaVuSans-52\"/>\r\n       </defs>\r\n       <use xlink:href=\"#DejaVuSans-52\"/>\r\n       <use x=\"63.623047\" xlink:href=\"#DejaVuSans-48\"/>\r\n       <use x=\"127.246094\" xlink:href=\"#DejaVuSans-48\"/>\r\n      </g>\r\n     </g>\r\n    </g>\r\n    <g id=\"xtick_4\">\r\n     <g id=\"line2d_4\">\r\n      <g>\r\n       <use style=\"stroke:#000000;stroke-width:0.8;\" x=\"163.86022\" xlink:href=\"#ma8df064930\" y=\"246\"/>\r\n      </g>\r\n     </g>\r\n     <g id=\"text_4\">\r\n      <!-- 600 -->\r\n      <g transform=\"translate(154.31647 260.598437)scale(0.1 -0.1)\">\r\n       <defs>\r\n        <path d=\"M 33.015625 40.375 \r\nQ 26.375 40.375 22.484375 35.828125 \r\nQ 18.609375 31.296875 18.609375 23.390625 \r\nQ 18.609375 15.53125 22.484375 10.953125 \r\nQ 26.375 6.390625 33.015625 6.390625 \r\nQ 39.65625 6.390625 43.53125 10.953125 \r\nQ 47.40625 15.53125 47.40625 23.390625 \r\nQ 47.40625 31.296875 43.53125 35.828125 \r\nQ 39.65625 40.375 33.015625 40.375 \r\nz\r\nM 52.59375 71.296875 \r\nL 52.59375 62.3125 \r\nQ 48.875 64.0625 45.09375 64.984375 \r\nQ 41.3125 65.921875 37.59375 65.921875 \r\nQ 27.828125 65.921875 22.671875 59.328125 \r\nQ 17.53125 52.734375 16.796875 39.40625 \r\nQ 19.671875 43.65625 24.015625 45.921875 \r\nQ 28.375 48.1875 33.59375 48.1875 \r\nQ 44.578125 48.1875 50.953125 41.515625 \r\nQ 57.328125 34.859375 57.328125 23.390625 \r\nQ 57.328125 12.15625 50.6875 5.359375 \r\nQ 44.046875 -1.421875 33.015625 -1.421875 \r\nQ 20.359375 -1.421875 13.671875 8.265625 \r\nQ 6.984375 17.96875 6.984375 36.375 \r\nQ 6.984375 53.65625 15.1875 63.9375 \r\nQ 23.390625 74.21875 37.203125 74.21875 \r\nQ 40.921875 74.21875 44.703125 73.484375 \r\nQ 48.484375 72.75 52.59375 71.296875 \r\nz\r\n\" id=\"DejaVuSans-54\"/>\r\n       </defs>\r\n       <use xlink:href=\"#DejaVuSans-54\"/>\r\n       <use x=\"63.623047\" xlink:href=\"#DejaVuSans-48\"/>\r\n       <use x=\"127.246094\" xlink:href=\"#DejaVuSans-48\"/>\r\n      </g>\r\n     </g>\r\n    </g>\r\n    <g id=\"xtick_5\">\r\n     <g id=\"line2d_5\">\r\n      <g>\r\n       <use style=\"stroke:#000000;stroke-width:0.8;\" x=\"207.34822\" xlink:href=\"#ma8df064930\" y=\"246\"/>\r\n      </g>\r\n     </g>\r\n     <g id=\"text_5\">\r\n      <!-- 800 -->\r\n      <g transform=\"translate(197.80447 260.598437)scale(0.1 -0.1)\">\r\n       <defs>\r\n        <path d=\"M 31.78125 34.625 \r\nQ 24.75 34.625 20.71875 30.859375 \r\nQ 16.703125 27.09375 16.703125 20.515625 \r\nQ 16.703125 13.921875 20.71875 10.15625 \r\nQ 24.75 6.390625 31.78125 6.390625 \r\nQ 38.8125 6.390625 42.859375 10.171875 \r\nQ 46.921875 13.96875 46.921875 20.515625 \r\nQ 46.921875 27.09375 42.890625 30.859375 \r\nQ 38.875 34.625 31.78125 34.625 \r\nz\r\nM 21.921875 38.8125 \r\nQ 15.578125 40.375 12.03125 44.71875 \r\nQ 8.5 49.078125 8.5 55.328125 \r\nQ 8.5 64.0625 14.71875 69.140625 \r\nQ 20.953125 74.21875 31.78125 74.21875 \r\nQ 42.671875 74.21875 48.875 69.140625 \r\nQ 55.078125 64.0625 55.078125 55.328125 \r\nQ 55.078125 49.078125 51.53125 44.71875 \r\nQ 48 40.375 41.703125 38.8125 \r\nQ 48.828125 37.15625 52.796875 32.3125 \r\nQ 56.78125 27.484375 56.78125 20.515625 \r\nQ 56.78125 9.90625 50.3125 4.234375 \r\nQ 43.84375 -1.421875 31.78125 -1.421875 \r\nQ 19.734375 -1.421875 13.25 4.234375 \r\nQ 6.78125 9.90625 6.78125 20.515625 \r\nQ 6.78125 27.484375 10.78125 32.3125 \r\nQ 14.796875 37.15625 21.921875 38.8125 \r\nz\r\nM 18.3125 54.390625 \r\nQ 18.3125 48.734375 21.84375 45.5625 \r\nQ 25.390625 42.390625 31.78125 42.390625 \r\nQ 38.140625 42.390625 41.71875 45.5625 \r\nQ 45.3125 48.734375 45.3125 54.390625 \r\nQ 45.3125 60.0625 41.71875 63.234375 \r\nQ 38.140625 66.40625 31.78125 66.40625 \r\nQ 25.390625 66.40625 21.84375 63.234375 \r\nQ 18.3125 60.0625 18.3125 54.390625 \r\nz\r\n\" id=\"DejaVuSans-56\"/>\r\n       </defs>\r\n       <use xlink:href=\"#DejaVuSans-56\"/>\r\n       <use x=\"63.623047\" xlink:href=\"#DejaVuSans-48\"/>\r\n       <use x=\"127.246094\" xlink:href=\"#DejaVuSans-48\"/>\r\n      </g>\r\n     </g>\r\n    </g>\r\n   </g>\r\n   <g id=\"matplotlib.axis_2\">\r\n    <g id=\"ytick_1\">\r\n     <g id=\"line2d_6\">\r\n      <defs>\r\n       <path d=\"M 0 0 \r\nL -3.5 0 \r\n\" id=\"m46f11a2616\" style=\"stroke:#000000;stroke-width:0.8;\"/>\r\n      </defs>\r\n      <g>\r\n       <use style=\"stroke:#000000;stroke-width:0.8;\" x=\"33.2875\" xlink:href=\"#m46f11a2616\" y=\"28.66872\"/>\r\n      </g>\r\n     </g>\r\n     <g id=\"text_6\">\r\n      <!-- 0 -->\r\n      <g transform=\"translate(19.925 32.467939)scale(0.1 -0.1)\">\r\n       <use xlink:href=\"#DejaVuSans-48\"/>\r\n      </g>\r\n     </g>\r\n    </g>\r\n    <g id=\"ytick_2\">\r\n     <g id=\"line2d_7\">\r\n      <g>\r\n       <use style=\"stroke:#000000;stroke-width:0.8;\" x=\"33.2875\" xlink:href=\"#m46f11a2616\" y=\"72.15672\"/>\r\n      </g>\r\n     </g>\r\n     <g id=\"text_7\">\r\n      <!-- 200 -->\r\n      <g transform=\"translate(7.2 75.955939)scale(0.1 -0.1)\">\r\n       <use xlink:href=\"#DejaVuSans-50\"/>\r\n       <use x=\"63.623047\" xlink:href=\"#DejaVuSans-48\"/>\r\n       <use x=\"127.246094\" xlink:href=\"#DejaVuSans-48\"/>\r\n      </g>\r\n     </g>\r\n    </g>\r\n    <g id=\"ytick_3\">\r\n     <g id=\"line2d_8\">\r\n      <g>\r\n       <use style=\"stroke:#000000;stroke-width:0.8;\" x=\"33.2875\" xlink:href=\"#m46f11a2616\" y=\"115.64472\"/>\r\n      </g>\r\n     </g>\r\n     <g id=\"text_8\">\r\n      <!-- 400 -->\r\n      <g transform=\"translate(7.2 119.443939)scale(0.1 -0.1)\">\r\n       <use xlink:href=\"#DejaVuSans-52\"/>\r\n       <use x=\"63.623047\" xlink:href=\"#DejaVuSans-48\"/>\r\n       <use x=\"127.246094\" xlink:href=\"#DejaVuSans-48\"/>\r\n      </g>\r\n     </g>\r\n    </g>\r\n    <g id=\"ytick_4\">\r\n     <g id=\"line2d_9\">\r\n      <g>\r\n       <use style=\"stroke:#000000;stroke-width:0.8;\" x=\"33.2875\" xlink:href=\"#m46f11a2616\" y=\"159.13272\"/>\r\n      </g>\r\n     </g>\r\n     <g id=\"text_9\">\r\n      <!-- 600 -->\r\n      <g transform=\"translate(7.2 162.931939)scale(0.1 -0.1)\">\r\n       <use xlink:href=\"#DejaVuSans-54\"/>\r\n       <use x=\"63.623047\" xlink:href=\"#DejaVuSans-48\"/>\r\n       <use x=\"127.246094\" xlink:href=\"#DejaVuSans-48\"/>\r\n      </g>\r\n     </g>\r\n    </g>\r\n    <g id=\"ytick_5\">\r\n     <g id=\"line2d_10\">\r\n      <g>\r\n       <use style=\"stroke:#000000;stroke-width:0.8;\" x=\"33.2875\" xlink:href=\"#m46f11a2616\" y=\"202.62072\"/>\r\n      </g>\r\n     </g>\r\n     <g id=\"text_10\">\r\n      <!-- 800 -->\r\n      <g transform=\"translate(7.2 206.419939)scale(0.1 -0.1)\">\r\n       <use xlink:href=\"#DejaVuSans-56\"/>\r\n       <use x=\"63.623047\" xlink:href=\"#DejaVuSans-48\"/>\r\n       <use x=\"127.246094\" xlink:href=\"#DejaVuSans-48\"/>\r\n      </g>\r\n     </g>\r\n    </g>\r\n   </g>\r\n   <g id=\"patch_3\">\r\n    <path d=\"M 33.2875 246 \r\nL 33.2875 28.56 \r\n\" style=\"fill:none;stroke:#000000;stroke-linecap:square;stroke-linejoin:miter;stroke-width:0.8;\"/>\r\n   </g>\r\n   <g id=\"patch_4\">\r\n    <path d=\"M 250.7275 246 \r\nL 250.7275 28.56 \r\n\" style=\"fill:none;stroke:#000000;stroke-linecap:square;stroke-linejoin:miter;stroke-width:0.8;\"/>\r\n   </g>\r\n   <g id=\"patch_5\">\r\n    <path d=\"M 33.2875 246 \r\nL 250.7275 246 \r\n\" style=\"fill:none;stroke:#000000;stroke-linecap:square;stroke-linejoin:miter;stroke-width:0.8;\"/>\r\n   </g>\r\n   <g id=\"patch_6\">\r\n    <path d=\"M 33.2875 28.56 \r\nL 250.7275 28.56 \r\n\" style=\"fill:none;stroke:#000000;stroke-linecap:square;stroke-linejoin:miter;stroke-width:0.8;\"/>\r\n   </g>\r\n   <g id=\"text_11\">\r\n    <!-- Image plot of $\\sqrt{x^2 + y^2}$ for a grid of values -->\r\n    <g transform=\"translate(14.8075 22.56)scale(0.12 -0.12)\">\r\n     <defs>\r\n      <path d=\"M 9.8125 72.90625 \r\nL 19.671875 72.90625 \r\nL 19.671875 0 \r\nL 9.8125 0 \r\nz\r\n\" id=\"DejaVuSans-73\"/>\r\n      <path d=\"M 52 44.1875 \r\nQ 55.375 50.25 60.0625 53.125 \r\nQ 64.75 56 71.09375 56 \r\nQ 79.640625 56 84.28125 50.015625 \r\nQ 88.921875 44.046875 88.921875 33.015625 \r\nL 88.921875 0 \r\nL 79.890625 0 \r\nL 79.890625 32.71875 \r\nQ 79.890625 40.578125 77.09375 44.375 \r\nQ 74.3125 48.1875 68.609375 48.1875 \r\nQ 61.625 48.1875 57.5625 43.546875 \r\nQ 53.515625 38.921875 53.515625 30.90625 \r\nL 53.515625 0 \r\nL 44.484375 0 \r\nL 44.484375 32.71875 \r\nQ 44.484375 40.625 41.703125 44.40625 \r\nQ 38.921875 48.1875 33.109375 48.1875 \r\nQ 26.21875 48.1875 22.15625 43.53125 \r\nQ 18.109375 38.875 18.109375 30.90625 \r\nL 18.109375 0 \r\nL 9.078125 0 \r\nL 9.078125 54.6875 \r\nL 18.109375 54.6875 \r\nL 18.109375 46.1875 \r\nQ 21.1875 51.21875 25.484375 53.609375 \r\nQ 29.78125 56 35.6875 56 \r\nQ 41.65625 56 45.828125 52.96875 \r\nQ 50 49.953125 52 44.1875 \r\nz\r\n\" id=\"DejaVuSans-109\"/>\r\n      <path d=\"M 34.28125 27.484375 \r\nQ 23.390625 27.484375 19.1875 25 \r\nQ 14.984375 22.515625 14.984375 16.5 \r\nQ 14.984375 11.71875 18.140625 8.90625 \r\nQ 21.296875 6.109375 26.703125 6.109375 \r\nQ 34.1875 6.109375 38.703125 11.40625 \r\nQ 43.21875 16.703125 43.21875 25.484375 \r\nL 43.21875 27.484375 \r\nz\r\nM 52.203125 31.203125 \r\nL 52.203125 0 \r\nL 43.21875 0 \r\nL 43.21875 8.296875 \r\nQ 40.140625 3.328125 35.546875 0.953125 \r\nQ 30.953125 -1.421875 24.3125 -1.421875 \r\nQ 15.921875 -1.421875 10.953125 3.296875 \r\nQ 6 8.015625 6 15.921875 \r\nQ 6 25.140625 12.171875 29.828125 \r\nQ 18.359375 34.515625 30.609375 34.515625 \r\nL 43.21875 34.515625 \r\nL 43.21875 35.40625 \r\nQ 43.21875 41.609375 39.140625 45 \r\nQ 35.0625 48.390625 27.6875 48.390625 \r\nQ 23 48.390625 18.546875 47.265625 \r\nQ 14.109375 46.140625 10.015625 43.890625 \r\nL 10.015625 52.203125 \r\nQ 14.9375 54.109375 19.578125 55.046875 \r\nQ 24.21875 56 28.609375 56 \r\nQ 40.484375 56 46.34375 49.84375 \r\nQ 52.203125 43.703125 52.203125 31.203125 \r\nz\r\n\" id=\"DejaVuSans-97\"/>\r\n      <path d=\"M 45.40625 27.984375 \r\nQ 45.40625 37.75 41.375 43.109375 \r\nQ 37.359375 48.484375 30.078125 48.484375 \r\nQ 22.859375 48.484375 18.828125 43.109375 \r\nQ 14.796875 37.75 14.796875 27.984375 \r\nQ 14.796875 18.265625 18.828125 12.890625 \r\nQ 22.859375 7.515625 30.078125 7.515625 \r\nQ 37.359375 7.515625 41.375 12.890625 \r\nQ 45.40625 18.265625 45.40625 27.984375 \r\nz\r\nM 54.390625 6.78125 \r\nQ 54.390625 -7.171875 48.1875 -13.984375 \r\nQ 42 -20.796875 29.203125 -20.796875 \r\nQ 24.46875 -20.796875 20.265625 -20.09375 \r\nQ 16.0625 -19.390625 12.109375 -17.921875 \r\nL 12.109375 -9.1875 \r\nQ 16.0625 -11.328125 19.921875 -12.34375 \r\nQ 23.78125 -13.375 27.78125 -13.375 \r\nQ 36.625 -13.375 41.015625 -8.765625 \r\nQ 45.40625 -4.15625 45.40625 5.171875 \r\nL 45.40625 9.625 \r\nQ 42.625 4.78125 38.28125 2.390625 \r\nQ 33.9375 0 27.875 0 \r\nQ 17.828125 0 11.671875 7.65625 \r\nQ 5.515625 15.328125 5.515625 27.984375 \r\nQ 5.515625 40.671875 11.671875 48.328125 \r\nQ 17.828125 56 27.875 56 \r\nQ 33.9375 56 38.28125 53.609375 \r\nQ 42.625 51.21875 45.40625 46.390625 \r\nL 45.40625 54.6875 \r\nL 54.390625 54.6875 \r\nz\r\n\" id=\"DejaVuSans-103\"/>\r\n      <path d=\"M 56.203125 29.59375 \r\nL 56.203125 25.203125 \r\nL 14.890625 25.203125 \r\nQ 15.484375 15.921875 20.484375 11.0625 \r\nQ 25.484375 6.203125 34.421875 6.203125 \r\nQ 39.59375 6.203125 44.453125 7.46875 \r\nQ 49.3125 8.734375 54.109375 11.28125 \r\nL 54.109375 2.78125 \r\nQ 49.265625 0.734375 44.1875 -0.34375 \r\nQ 39.109375 -1.421875 33.890625 -1.421875 \r\nQ 20.796875 -1.421875 13.15625 6.1875 \r\nQ 5.515625 13.8125 5.515625 26.8125 \r\nQ 5.515625 40.234375 12.765625 48.109375 \r\nQ 20.015625 56 32.328125 56 \r\nQ 43.359375 56 49.78125 48.890625 \r\nQ 56.203125 41.796875 56.203125 29.59375 \r\nz\r\nM 47.21875 32.234375 \r\nQ 47.125 39.59375 43.09375 43.984375 \r\nQ 39.0625 48.390625 32.421875 48.390625 \r\nQ 24.90625 48.390625 20.390625 44.140625 \r\nQ 15.875 39.890625 15.1875 32.171875 \r\nz\r\n\" id=\"DejaVuSans-101\"/>\r\n      <path id=\"DejaVuSans-32\"/>\r\n      <path d=\"M 18.109375 8.203125 \r\nL 18.109375 -20.796875 \r\nL 9.078125 -20.796875 \r\nL 9.078125 54.6875 \r\nL 18.109375 54.6875 \r\nL 18.109375 46.390625 \r\nQ 20.953125 51.265625 25.265625 53.625 \r\nQ 29.59375 56 35.59375 56 \r\nQ 45.5625 56 51.78125 48.09375 \r\nQ 58.015625 40.1875 58.015625 27.296875 \r\nQ 58.015625 14.40625 51.78125 6.484375 \r\nQ 45.5625 -1.421875 35.59375 -1.421875 \r\nQ 29.59375 -1.421875 25.265625 0.953125 \r\nQ 20.953125 3.328125 18.109375 8.203125 \r\nz\r\nM 48.6875 27.296875 \r\nQ 48.6875 37.203125 44.609375 42.84375 \r\nQ 40.53125 48.484375 33.40625 48.484375 \r\nQ 26.265625 48.484375 22.1875 42.84375 \r\nQ 18.109375 37.203125 18.109375 27.296875 \r\nQ 18.109375 17.390625 22.1875 11.75 \r\nQ 26.265625 6.109375 33.40625 6.109375 \r\nQ 40.53125 6.109375 44.609375 11.75 \r\nQ 48.6875 17.390625 48.6875 27.296875 \r\nz\r\n\" id=\"DejaVuSans-112\"/>\r\n      <path d=\"M 9.421875 75.984375 \r\nL 18.40625 75.984375 \r\nL 18.40625 0 \r\nL 9.421875 0 \r\nz\r\n\" id=\"DejaVuSans-108\"/>\r\n      <path d=\"M 30.609375 48.390625 \r\nQ 23.390625 48.390625 19.1875 42.75 \r\nQ 14.984375 37.109375 14.984375 27.296875 \r\nQ 14.984375 17.484375 19.15625 11.84375 \r\nQ 23.34375 6.203125 30.609375 6.203125 \r\nQ 37.796875 6.203125 41.984375 11.859375 \r\nQ 46.1875 17.53125 46.1875 27.296875 \r\nQ 46.1875 37.015625 41.984375 42.703125 \r\nQ 37.796875 48.390625 30.609375 48.390625 \r\nz\r\nM 30.609375 56 \r\nQ 42.328125 56 49.015625 48.375 \r\nQ 55.71875 40.765625 55.71875 27.296875 \r\nQ 55.71875 13.875 49.015625 6.21875 \r\nQ 42.328125 -1.421875 30.609375 -1.421875 \r\nQ 18.84375 -1.421875 12.171875 6.21875 \r\nQ 5.515625 13.875 5.515625 27.296875 \r\nQ 5.515625 40.765625 12.171875 48.375 \r\nQ 18.84375 56 30.609375 56 \r\nz\r\n\" id=\"DejaVuSans-111\"/>\r\n      <path d=\"M 18.3125 70.21875 \r\nL 18.3125 54.6875 \r\nL 36.8125 54.6875 \r\nL 36.8125 47.703125 \r\nL 18.3125 47.703125 \r\nL 18.3125 18.015625 \r\nQ 18.3125 11.328125 20.140625 9.421875 \r\nQ 21.96875 7.515625 27.59375 7.515625 \r\nL 36.8125 7.515625 \r\nL 36.8125 0 \r\nL 27.59375 0 \r\nQ 17.1875 0 13.234375 3.875 \r\nQ 9.28125 7.765625 9.28125 18.015625 \r\nL 9.28125 47.703125 \r\nL 2.6875 47.703125 \r\nL 2.6875 54.6875 \r\nL 9.28125 54.6875 \r\nL 9.28125 70.21875 \r\nz\r\n\" id=\"DejaVuSans-116\"/>\r\n      <path d=\"M 37.109375 75.984375 \r\nL 37.109375 68.5 \r\nL 28.515625 68.5 \r\nQ 23.6875 68.5 21.796875 66.546875 \r\nQ 19.921875 64.59375 19.921875 59.515625 \r\nL 19.921875 54.6875 \r\nL 34.71875 54.6875 \r\nL 34.71875 47.703125 \r\nL 19.921875 47.703125 \r\nL 19.921875 0 \r\nL 10.890625 0 \r\nL 10.890625 47.703125 \r\nL 2.296875 47.703125 \r\nL 2.296875 54.6875 \r\nL 10.890625 54.6875 \r\nL 10.890625 58.5 \r\nQ 10.890625 67.625 15.140625 71.796875 \r\nQ 19.390625 75.984375 28.609375 75.984375 \r\nz\r\n\" id=\"DejaVuSans-102\"/>\r\n      <path d=\"M 108.90625 155.203125 \r\nL 52.703125 -29.5 \r\nL 48.5 -29.5 \r\nL 25.40625 45.59375 \r\nQ 24.296875 49.203125 22.890625 50.796875 \r\nQ 21.5 52.40625 19.203125 52.40625 \r\nQ 15.796875 52.40625 12.40625 49.703125 \r\nL 11.203125 51.703125 \r\nL 27.59375 64.296875 \r\nL 30.09375 64.296875 \r\nL 52.796875 -9.40625 \r\nL 53.203125 -9.40625 \r\nL 103.203125 155.203125 \r\nz\r\n\" id=\"STIXSizeOneSym-Regular-8730\"/>\r\n      <path d=\"M 60.015625 54.6875 \r\nL 34.90625 27.875 \r\nL 50.296875 0 \r\nL 39.984375 0 \r\nL 28.421875 21.6875 \r\nL 8.296875 0 \r\nL -2.59375 0 \r\nL 24.3125 28.8125 \r\nL 10.015625 54.6875 \r\nL 20.3125 54.6875 \r\nL 30.8125 34.90625 \r\nL 49.125 54.6875 \r\nz\r\n\" id=\"DejaVuSans-Oblique-120\"/>\r\n      <path d=\"M 46 62.703125 \r\nL 46 35.5 \r\nL 73.1875 35.5 \r\nL 73.1875 27.203125 \r\nL 46 27.203125 \r\nL 46 0 \r\nL 37.796875 0 \r\nL 37.796875 27.203125 \r\nL 10.59375 27.203125 \r\nL 10.59375 35.5 \r\nL 37.796875 35.5 \r\nL 37.796875 62.703125 \r\nz\r\n\" id=\"DejaVuSans-43\"/>\r\n      <path d=\"M 24.8125 -5.078125 \r\nQ 18.5625 -15.578125 14.625 -18.1875 \r\nQ 10.6875 -20.796875 4.59375 -20.796875 \r\nL -2.484375 -20.796875 \r\nL -0.984375 -13.28125 \r\nL 4.203125 -13.28125 \r\nQ 7.953125 -13.28125 10.59375 -11.234375 \r\nQ 13.234375 -9.1875 16.5 -3.21875 \r\nL 19.28125 2 \r\nL 7.171875 54.6875 \r\nL 16.703125 54.6875 \r\nL 25.78125 12.796875 \r\nL 50.875 54.6875 \r\nL 60.296875 54.6875 \r\nz\r\n\" id=\"DejaVuSans-Oblique-121\"/>\r\n      <path d=\"M 41.109375 46.296875 \r\nQ 39.59375 47.171875 37.8125 47.578125 \r\nQ 36.03125 48 33.890625 48 \r\nQ 26.265625 48 22.1875 43.046875 \r\nQ 18.109375 38.09375 18.109375 28.8125 \r\nL 18.109375 0 \r\nL 9.078125 0 \r\nL 9.078125 54.6875 \r\nL 18.109375 54.6875 \r\nL 18.109375 46.1875 \r\nQ 20.953125 51.171875 25.484375 53.578125 \r\nQ 30.03125 56 36.53125 56 \r\nQ 37.453125 56 38.578125 55.875 \r\nQ 39.703125 55.765625 41.0625 55.515625 \r\nz\r\n\" id=\"DejaVuSans-114\"/>\r\n      <path d=\"M 9.421875 54.6875 \r\nL 18.40625 54.6875 \r\nL 18.40625 0 \r\nL 9.421875 0 \r\nz\r\nM 9.421875 75.984375 \r\nL 18.40625 75.984375 \r\nL 18.40625 64.59375 \r\nL 9.421875 64.59375 \r\nz\r\n\" id=\"DejaVuSans-105\"/>\r\n      <path d=\"M 45.40625 46.390625 \r\nL 45.40625 75.984375 \r\nL 54.390625 75.984375 \r\nL 54.390625 0 \r\nL 45.40625 0 \r\nL 45.40625 8.203125 \r\nQ 42.578125 3.328125 38.25 0.953125 \r\nQ 33.9375 -1.421875 27.875 -1.421875 \r\nQ 17.96875 -1.421875 11.734375 6.484375 \r\nQ 5.515625 14.40625 5.515625 27.296875 \r\nQ 5.515625 40.1875 11.734375 48.09375 \r\nQ 17.96875 56 27.875 56 \r\nQ 33.9375 56 38.25 53.625 \r\nQ 42.578125 51.265625 45.40625 46.390625 \r\nz\r\nM 14.796875 27.296875 \r\nQ 14.796875 17.390625 18.875 11.75 \r\nQ 22.953125 6.109375 30.078125 6.109375 \r\nQ 37.203125 6.109375 41.296875 11.75 \r\nQ 45.40625 17.390625 45.40625 27.296875 \r\nQ 45.40625 37.203125 41.296875 42.84375 \r\nQ 37.203125 48.484375 30.078125 48.484375 \r\nQ 22.953125 48.484375 18.875 42.84375 \r\nQ 14.796875 37.203125 14.796875 27.296875 \r\nz\r\n\" id=\"DejaVuSans-100\"/>\r\n      <path d=\"M 2.984375 54.6875 \r\nL 12.5 54.6875 \r\nL 29.59375 8.796875 \r\nL 46.6875 54.6875 \r\nL 56.203125 54.6875 \r\nL 35.6875 0 \r\nL 23.484375 0 \r\nz\r\n\" id=\"DejaVuSans-118\"/>\r\n      <path d=\"M 8.5 21.578125 \r\nL 8.5 54.6875 \r\nL 17.484375 54.6875 \r\nL 17.484375 21.921875 \r\nQ 17.484375 14.15625 20.5 10.265625 \r\nQ 23.53125 6.390625 29.59375 6.390625 \r\nQ 36.859375 6.390625 41.078125 11.03125 \r\nQ 45.3125 15.671875 45.3125 23.6875 \r\nL 45.3125 54.6875 \r\nL 54.296875 54.6875 \r\nL 54.296875 0 \r\nL 45.3125 0 \r\nL 45.3125 8.40625 \r\nQ 42.046875 3.421875 37.71875 1 \r\nQ 33.40625 -1.421875 27.6875 -1.421875 \r\nQ 18.265625 -1.421875 13.375 4.4375 \r\nQ 8.5 10.296875 8.5 21.578125 \r\nz\r\nM 31.109375 56 \r\nz\r\n\" id=\"DejaVuSans-117\"/>\r\n      <path d=\"M 44.28125 53.078125 \r\nL 44.28125 44.578125 \r\nQ 40.484375 46.53125 36.375 47.5 \r\nQ 32.28125 48.484375 27.875 48.484375 \r\nQ 21.1875 48.484375 17.84375 46.4375 \r\nQ 14.5 44.390625 14.5 40.28125 \r\nQ 14.5 37.15625 16.890625 35.375 \r\nQ 19.28125 33.59375 26.515625 31.984375 \r\nL 29.59375 31.296875 \r\nQ 39.15625 29.25 43.1875 25.515625 \r\nQ 47.21875 21.78125 47.21875 15.09375 \r\nQ 47.21875 7.46875 41.1875 3.015625 \r\nQ 35.15625 -1.421875 24.609375 -1.421875 \r\nQ 20.21875 -1.421875 15.453125 -0.5625 \r\nQ 10.6875 0.296875 5.421875 2 \r\nL 5.421875 11.28125 \r\nQ 10.40625 8.6875 15.234375 7.390625 \r\nQ 20.0625 6.109375 24.8125 6.109375 \r\nQ 31.15625 6.109375 34.5625 8.28125 \r\nQ 37.984375 10.453125 37.984375 14.40625 \r\nQ 37.984375 18.0625 35.515625 20.015625 \r\nQ 33.0625 21.96875 24.703125 23.78125 \r\nL 21.578125 24.515625 \r\nQ 13.234375 26.265625 9.515625 29.90625 \r\nQ 5.8125 33.546875 5.8125 39.890625 \r\nQ 5.8125 47.609375 11.28125 51.796875 \r\nQ 16.75 56 26.8125 56 \r\nQ 31.78125 56 36.171875 55.265625 \r\nQ 40.578125 54.546875 44.28125 53.078125 \r\nz\r\n\" id=\"DejaVuSans-115\"/>\r\n     </defs>\r\n     <use transform=\"translate(0 0.578125)\" xlink:href=\"#DejaVuSans-73\"/>\r\n     <use transform=\"translate(25.867188 0.578125)\" xlink:href=\"#DejaVuSans-109\"/>\r\n     <use transform=\"translate(123.279297 0.578125)\" xlink:href=\"#DejaVuSans-97\"/>\r\n     <use transform=\"translate(184.558594 0.578125)\" xlink:href=\"#DejaVuSans-103\"/>\r\n     <use transform=\"translate(248.035156 0.578125)\" xlink:href=\"#DejaVuSans-101\"/>\r\n     <use transform=\"translate(309.558594 0.578125)\" xlink:href=\"#DejaVuSans-32\"/>\r\n     <use transform=\"translate(341.345703 0.578125)\" xlink:href=\"#DejaVuSans-112\"/>\r\n     <use transform=\"translate(404.822266 0.578125)\" xlink:href=\"#DejaVuSans-108\"/>\r\n     <use transform=\"translate(432.605469 0.578125)\" xlink:href=\"#DejaVuSans-111\"/>\r\n     <use transform=\"translate(493.787109 0.578125)\" xlink:href=\"#DejaVuSans-116\"/>\r\n     <use transform=\"translate(532.996094 0.578125)\" xlink:href=\"#DejaVuSans-32\"/>\r\n     <use transform=\"translate(564.783203 0.578125)\" xlink:href=\"#DejaVuSans-111\"/>\r\n     <use transform=\"translate(625.964844 0.578125)\" xlink:href=\"#DejaVuSans-102\"/>\r\n     <use transform=\"translate(661.169922 0.578125)\" xlink:href=\"#DejaVuSans-32\"/>\r\n     <use transform=\"translate(692.957031 2.5)scale(0.770324)\" xlink:href=\"#STIXSizeOneSym-Regular-8730\"/>\r\n     <use transform=\"translate(786.846024 0.515625)\" xlink:href=\"#DejaVuSans-Oblique-120\"/>\r\n     <use transform=\"translate(850.491857 38.796875)scale(0.7)\" xlink:href=\"#DejaVuSans-50\"/>\r\n     <use transform=\"translate(917.244787 0.515625)\" xlink:href=\"#DejaVuSans-43\"/>\r\n     <use transform=\"translate(1020.516271 0.515625)\" xlink:href=\"#DejaVuSans-Oblique-121\"/>\r\n     <use transform=\"translate(1084.162104 38.796875)scale(0.7)\" xlink:href=\"#DejaVuSans-50\"/>\r\n     <use transform=\"translate(1143.932612 0.578125)\" xlink:href=\"#DejaVuSans-32\"/>\r\n     <use transform=\"translate(1175.719721 0.578125)\" xlink:href=\"#DejaVuSans-102\"/>\r\n     <use transform=\"translate(1210.9248 0.578125)\" xlink:href=\"#DejaVuSans-111\"/>\r\n     <use transform=\"translate(1272.10644 0.578125)\" xlink:href=\"#DejaVuSans-114\"/>\r\n     <use transform=\"translate(1313.219721 0.578125)\" xlink:href=\"#DejaVuSans-32\"/>\r\n     <use transform=\"translate(1345.006831 0.578125)\" xlink:href=\"#DejaVuSans-97\"/>\r\n     <use transform=\"translate(1406.286128 0.578125)\" xlink:href=\"#DejaVuSans-32\"/>\r\n     <use transform=\"translate(1438.073237 0.578125)\" xlink:href=\"#DejaVuSans-103\"/>\r\n     <use transform=\"translate(1501.5498 0.578125)\" xlink:href=\"#DejaVuSans-114\"/>\r\n     <use transform=\"translate(1542.663081 0.578125)\" xlink:href=\"#DejaVuSans-105\"/>\r\n     <use transform=\"translate(1570.446284 0.578125)\" xlink:href=\"#DejaVuSans-100\"/>\r\n     <use transform=\"translate(1633.922846 0.578125)\" xlink:href=\"#DejaVuSans-32\"/>\r\n     <use transform=\"translate(1665.709956 0.578125)\" xlink:href=\"#DejaVuSans-111\"/>\r\n     <use transform=\"translate(1726.891596 0.578125)\" xlink:href=\"#DejaVuSans-102\"/>\r\n     <use transform=\"translate(1762.096675 0.578125)\" xlink:href=\"#DejaVuSans-32\"/>\r\n     <use transform=\"translate(1793.883784 0.578125)\" xlink:href=\"#DejaVuSans-118\"/>\r\n     <use transform=\"translate(1853.063471 0.578125)\" xlink:href=\"#DejaVuSans-97\"/>\r\n     <use transform=\"translate(1914.342768 0.578125)\" xlink:href=\"#DejaVuSans-108\"/>\r\n     <use transform=\"translate(1942.125971 0.578125)\" xlink:href=\"#DejaVuSans-117\"/>\r\n     <use transform=\"translate(2005.504878 0.578125)\" xlink:href=\"#DejaVuSans-101\"/>\r\n     <use transform=\"translate(2067.028315 0.578125)\" xlink:href=\"#DejaVuSans-115\"/>\r\n     <path d=\"M 774.346024 115.5 \r\nL 774.346024 121.75 \r\nL 1143.932612 121.75 \r\nL 1143.932612 115.5 \r\nL 774.346024 115.5 \r\nz\r\n\"/>\r\n    </g>\r\n   </g>\r\n  </g>\r\n  <g id=\"axes_2\">\r\n   <g id=\"patch_7\">\r\n    <path clip-path=\"url(#p09fea79613)\" d=\"M 267.4675 246 \r\nL 267.4675 245.150625 \r\nL 267.4675 29.409375 \r\nL 267.4675 28.56 \r\nL 278.3395 28.56 \r\nL 278.3395 29.409375 \r\nL 278.3395 245.150625 \r\nL 278.3395 246 \r\nz\r\n\" style=\"fill:#ffffff;stroke:#ffffff;stroke-linejoin:miter;stroke-width:0.01;\"/>\r\n   </g>\r\n   <image height=\"217\" id=\"imagebbb3666084\" transform=\"scale(1 -1)translate(0 -217)\" width=\"11\" x=\"267\" xlink:href=\"data:image/png;base64,\r\niVBORw0KGgoAAAANSUhEUgAAAAsAAADZCAYAAAD2WsoCAAAAgklEQVR4nO3QMQrAMBADwcj4/19O2iuNIGCWvXqL0yTJ+xzeTnLa/hmvtW5445JYjRnjNfAD1ahjvAZ+oBozxg9Uo47xGviBatQxXgM/UI06xmvgB6oxY/xANeoYr4EfqEYd4zXwA9WoY7wGfqAadYzXwA9UY8b4gWrUMV4DP5Cu8QHdRgdeRvf/PQAAAABJRU5ErkJggg==\" y=\"-28\"/>\r\n   <g id=\"matplotlib.axis_3\"/>\r\n   <g id=\"matplotlib.axis_4\">\r\n    <g id=\"ytick_6\">\r\n     <g id=\"line2d_11\">\r\n      <defs>\r\n       <path d=\"M 0 0 \r\nL 3.5 0 \r\n\" id=\"m34732f52fc\" style=\"stroke:#000000;stroke-width:0.8;\"/>\r\n      </defs>\r\n      <g>\r\n       <use style=\"stroke:#000000;stroke-width:0.8;\" x=\"278.3395\" xlink:href=\"#m34732f52fc\" y=\"246\"/>\r\n      </g>\r\n     </g>\r\n     <g id=\"text_12\">\r\n      <!-- 0 -->\r\n      <g transform=\"translate(285.3395 249.799219)scale(0.1 -0.1)\">\r\n       <use xlink:href=\"#DejaVuSans-48\"/>\r\n      </g>\r\n     </g>\r\n    </g>\r\n    <g id=\"ytick_7\">\r\n     <g id=\"line2d_12\">\r\n      <g>\r\n       <use style=\"stroke:#000000;stroke-width:0.8;\" x=\"278.3395\" xlink:href=\"#m34732f52fc\" y=\"215.24934\"/>\r\n      </g>\r\n     </g>\r\n     <g id=\"text_13\">\r\n      <!-- 1 -->\r\n      <g transform=\"translate(285.3395 219.048559)scale(0.1 -0.1)\">\r\n       <defs>\r\n        <path d=\"M 12.40625 8.296875 \r\nL 28.515625 8.296875 \r\nL 28.515625 63.921875 \r\nL 10.984375 60.40625 \r\nL 10.984375 69.390625 \r\nL 28.421875 72.90625 \r\nL 38.28125 72.90625 \r\nL 38.28125 8.296875 \r\nL 54.390625 8.296875 \r\nL 54.390625 0 \r\nL 12.40625 0 \r\nz\r\n\" id=\"DejaVuSans-49\"/>\r\n       </defs>\r\n       <use xlink:href=\"#DejaVuSans-49\"/>\r\n      </g>\r\n     </g>\r\n    </g>\r\n    <g id=\"ytick_8\">\r\n     <g id=\"line2d_13\">\r\n      <g>\r\n       <use style=\"stroke:#000000;stroke-width:0.8;\" x=\"278.3395\" xlink:href=\"#m34732f52fc\" y=\"184.498681\"/>\r\n      </g>\r\n     </g>\r\n     <g id=\"text_14\">\r\n      <!-- 2 -->\r\n      <g transform=\"translate(285.3395 188.297899)scale(0.1 -0.1)\">\r\n       <use xlink:href=\"#DejaVuSans-50\"/>\r\n      </g>\r\n     </g>\r\n    </g>\r\n    <g id=\"ytick_9\">\r\n     <g id=\"line2d_14\">\r\n      <g>\r\n       <use style=\"stroke:#000000;stroke-width:0.8;\" x=\"278.3395\" xlink:href=\"#m34732f52fc\" y=\"153.748021\"/>\r\n      </g>\r\n     </g>\r\n     <g id=\"text_15\">\r\n      <!-- 3 -->\r\n      <g transform=\"translate(285.3395 157.54724)scale(0.1 -0.1)\">\r\n       <defs>\r\n        <path d=\"M 40.578125 39.3125 \r\nQ 47.65625 37.796875 51.625 33 \r\nQ 55.609375 28.21875 55.609375 21.1875 \r\nQ 55.609375 10.40625 48.1875 4.484375 \r\nQ 40.765625 -1.421875 27.09375 -1.421875 \r\nQ 22.515625 -1.421875 17.65625 -0.515625 \r\nQ 12.796875 0.390625 7.625 2.203125 \r\nL 7.625 11.71875 \r\nQ 11.71875 9.328125 16.59375 8.109375 \r\nQ 21.484375 6.890625 26.8125 6.890625 \r\nQ 36.078125 6.890625 40.9375 10.546875 \r\nQ 45.796875 14.203125 45.796875 21.1875 \r\nQ 45.796875 27.640625 41.28125 31.265625 \r\nQ 36.765625 34.90625 28.71875 34.90625 \r\nL 20.21875 34.90625 \r\nL 20.21875 43.015625 \r\nL 29.109375 43.015625 \r\nQ 36.375 43.015625 40.234375 45.921875 \r\nQ 44.09375 48.828125 44.09375 54.296875 \r\nQ 44.09375 59.90625 40.109375 62.90625 \r\nQ 36.140625 65.921875 28.71875 65.921875 \r\nQ 24.65625 65.921875 20.015625 65.03125 \r\nQ 15.375 64.15625 9.8125 62.3125 \r\nL 9.8125 71.09375 \r\nQ 15.4375 72.65625 20.34375 73.4375 \r\nQ 25.25 74.21875 29.59375 74.21875 \r\nQ 40.828125 74.21875 47.359375 69.109375 \r\nQ 53.90625 64.015625 53.90625 55.328125 \r\nQ 53.90625 49.265625 50.4375 45.09375 \r\nQ 46.96875 40.921875 40.578125 39.3125 \r\nz\r\n\" id=\"DejaVuSans-51\"/>\r\n       </defs>\r\n       <use xlink:href=\"#DejaVuSans-51\"/>\r\n      </g>\r\n     </g>\r\n    </g>\r\n    <g id=\"ytick_10\">\r\n     <g id=\"line2d_15\">\r\n      <g>\r\n       <use style=\"stroke:#000000;stroke-width:0.8;\" x=\"278.3395\" xlink:href=\"#m34732f52fc\" y=\"122.997361\"/>\r\n      </g>\r\n     </g>\r\n     <g id=\"text_16\">\r\n      <!-- 4 -->\r\n      <g transform=\"translate(285.3395 126.79658)scale(0.1 -0.1)\">\r\n       <use xlink:href=\"#DejaVuSans-52\"/>\r\n      </g>\r\n     </g>\r\n    </g>\r\n    <g id=\"ytick_11\">\r\n     <g id=\"line2d_16\">\r\n      <g>\r\n       <use style=\"stroke:#000000;stroke-width:0.8;\" x=\"278.3395\" xlink:href=\"#m34732f52fc\" y=\"92.246701\"/>\r\n      </g>\r\n     </g>\r\n     <g id=\"text_17\">\r\n      <!-- 5 -->\r\n      <g transform=\"translate(285.3395 96.04592)scale(0.1 -0.1)\">\r\n       <defs>\r\n        <path d=\"M 10.796875 72.90625 \r\nL 49.515625 72.90625 \r\nL 49.515625 64.59375 \r\nL 19.828125 64.59375 \r\nL 19.828125 46.734375 \r\nQ 21.96875 47.46875 24.109375 47.828125 \r\nQ 26.265625 48.1875 28.421875 48.1875 \r\nQ 40.625 48.1875 47.75 41.5 \r\nQ 54.890625 34.8125 54.890625 23.390625 \r\nQ 54.890625 11.625 47.5625 5.09375 \r\nQ 40.234375 -1.421875 26.90625 -1.421875 \r\nQ 22.3125 -1.421875 17.546875 -0.640625 \r\nQ 12.796875 0.140625 7.71875 1.703125 \r\nL 7.71875 11.625 \r\nQ 12.109375 9.234375 16.796875 8.0625 \r\nQ 21.484375 6.890625 26.703125 6.890625 \r\nQ 35.15625 6.890625 40.078125 11.328125 \r\nQ 45.015625 15.765625 45.015625 23.390625 \r\nQ 45.015625 31 40.078125 35.4375 \r\nQ 35.15625 39.890625 26.703125 39.890625 \r\nQ 22.75 39.890625 18.8125 39.015625 \r\nQ 14.890625 38.140625 10.796875 36.28125 \r\nz\r\n\" id=\"DejaVuSans-53\"/>\r\n       </defs>\r\n       <use xlink:href=\"#DejaVuSans-53\"/>\r\n      </g>\r\n     </g>\r\n    </g>\r\n    <g id=\"ytick_12\">\r\n     <g id=\"line2d_17\">\r\n      <g>\r\n       <use style=\"stroke:#000000;stroke-width:0.8;\" x=\"278.3395\" xlink:href=\"#m34732f52fc\" y=\"61.496042\"/>\r\n      </g>\r\n     </g>\r\n     <g id=\"text_18\">\r\n      <!-- 6 -->\r\n      <g transform=\"translate(285.3395 65.295261)scale(0.1 -0.1)\">\r\n       <use xlink:href=\"#DejaVuSans-54\"/>\r\n      </g>\r\n     </g>\r\n    </g>\r\n    <g id=\"ytick_13\">\r\n     <g id=\"line2d_18\">\r\n      <g>\r\n       <use style=\"stroke:#000000;stroke-width:0.8;\" x=\"278.3395\" xlink:href=\"#m34732f52fc\" y=\"30.745382\"/>\r\n      </g>\r\n     </g>\r\n     <g id=\"text_19\">\r\n      <!-- 7 -->\r\n      <g transform=\"translate(285.3395 34.544601)scale(0.1 -0.1)\">\r\n       <defs>\r\n        <path d=\"M 8.203125 72.90625 \r\nL 55.078125 72.90625 \r\nL 55.078125 68.703125 \r\nL 28.609375 0 \r\nL 18.3125 0 \r\nL 43.21875 64.59375 \r\nL 8.203125 64.59375 \r\nz\r\n\" id=\"DejaVuSans-55\"/>\r\n       </defs>\r\n       <use xlink:href=\"#DejaVuSans-55\"/>\r\n      </g>\r\n     </g>\r\n    </g>\r\n   </g>\r\n   <g id=\"patch_8\">\r\n    <path d=\"M 267.4675 246 \r\nL 267.4675 245.150625 \r\nL 267.4675 29.409375 \r\nL 267.4675 28.56 \r\nL 278.3395 28.56 \r\nL 278.3395 29.409375 \r\nL 278.3395 245.150625 \r\nL 278.3395 246 \r\nz\r\n\" style=\"fill:none;stroke:#000000;stroke-linejoin:miter;stroke-width:0.8;\"/>\r\n   </g>\r\n  </g>\r\n </g>\r\n <defs>\r\n  <clipPath id=\"pf15b6a97be\">\r\n   <rect height=\"217.44\" width=\"217.44\" x=\"33.2875\" y=\"28.56\"/>\r\n  </clipPath>\r\n  <clipPath id=\"p09fea79613\">\r\n   <rect height=\"217.44\" width=\"10.872\" x=\"267.4675\" y=\"28.56\"/>\r\n  </clipPath>\r\n </defs>\r\n</svg>\r\n",
      "image/png": "[encoded data removed]"
     },
     "metadata": {
      "needs_background": "light"
     }
    }
   ],
   "source": [
    "import matplotlib.pyplot as plt\n",
    "plt.imshow(z, cmap=plt.cm.gray)\n",
    "plt.title(\"Image plot of $\\sqrt{x^2 + y^2}$ for a grid of values\")\n",
    "plt.colorbar()"
   ]
  },
  {
   "cell_type": "markdown",
   "metadata": {},
   "source": [
    "### 将条件逻辑表述为数组运算"
   ]
  },
  {
   "cell_type": "markdown",
   "metadata": {},
   "source": [
    "numpy.where函数是三元表达式x if condition else y的矢量化版本。\n",
    "\n",
    "假设有一个布尔数组和两个值数组"
   ]
  },
  {
   "cell_type": "code",
   "execution_count": 97,
   "metadata": {},
   "outputs": [],
   "source": [
    "xarr = np.array([1.1, 1.2, 1.3, 1.4, 1.5])\n",
    "yarr = np.array([2.1, 2.2, 2.3, 2.4, 2.5])\n",
    "cond = np.array([True, False, True, True, False])"
   ]
  },
  {
   "cell_type": "markdown",
   "metadata": {},
   "source": [
    "如果想要根据cond中的值选取xarr和yarr的值：当cond中的值为True时，选取xarr的值，否则从yarr中选取。\n",
    "\n",
    "列表推导式的写法应该如下所示"
   ]
  },
  {
   "cell_type": "code",
   "execution_count": 98,
   "metadata": {},
   "outputs": [
    {
     "output_type": "execute_result",
     "data": {
      "text/plain": [
       "[1.1, 2.2, 1.3, 1.4, 2.5]"
      ]
     },
     "metadata": {},
     "execution_count": 98
    }
   ],
   "source": [
    "results = [(x if c else y) for x, y, c in zip(xarr, yarr,cond)]\n",
    "results"
   ]
  },
  {
   "cell_type": "markdown",
   "metadata": {},
   "source": [
    "这有几个问题。第一，它对大数组的处理速度不是很快（因为所有工作都是由纯Python完成的）。第二，无法用于多维数组。\n",
    "\n",
    "若使用np.where，则可以将该功能写得非常简洁："
   ]
  },
  {
   "cell_type": "code",
   "execution_count": 99,
   "metadata": {},
   "outputs": [
    {
     "output_type": "execute_result",
     "data": {
      "text/plain": [
       "array([1.1, 2.2, 1.3, 1.4, 2.5])"
      ]
     },
     "metadata": {},
     "execution_count": 99
    }
   ],
   "source": [
    "results = np.where(cond, xarr, yarr)\n",
    "results"
   ]
  },
  {
   "cell_type": "markdown",
   "metadata": {},
   "source": [
    "np.where的第二个和第三个参数不必是数组，它们都可以是标量值。\n",
    "\n",
    "在数据分析工作中，where通常用于根据另一个数组而产生一个新的数组。\n",
    "\n",
    "假设有一个由随机数据组成的矩阵，希望将所有大于 0值替换为2，其余值替换为－2。\n",
    "\n",
    "利用np.where，则会非常简单"
   ]
  },
  {
   "cell_type": "code",
   "execution_count": 100,
   "metadata": {},
   "outputs": [
    {
     "output_type": "execute_result",
     "data": {
      "text/plain": [
       "array([[ 0.07159662,  0.52220273, -1.29746293,  0.59659986],\n",
       "       [-0.73432284, -0.4224783 , -0.23264772, -0.47948074],\n",
       "       [ 0.44490854,  1.03579665, -0.07812174, -0.13475736],\n",
       "       [ 1.10603041,  0.12339235, -0.31992935, -0.90048968]])"
      ]
     },
     "metadata": {},
     "execution_count": 100
    }
   ],
   "source": [
    "arr = np.random.randn(4, 4)\n",
    "arr"
   ]
  },
  {
   "cell_type": "code",
   "execution_count": 101,
   "metadata": {},
   "outputs": [
    {
     "output_type": "execute_result",
     "data": {
      "text/plain": [
       "array([[ 2,  2, -2,  2],\n",
       "       [-2, -2, -2, -2],\n",
       "       [ 2,  2, -2, -2],\n",
       "       [ 2,  2, -2, -2]])"
      ]
     },
     "metadata": {},
     "execution_count": 101
    }
   ],
   "source": [
    "np.where(arr > 0, 2, -2)"
   ]
  },
  {
   "cell_type": "markdown",
   "metadata": {},
   "source": [
    "使用np.where，可以将标量和数组结合起来。\n",
    "\n",
    "例如，使用常数2替换arr中所有正的值，而0和负数则保持不变"
   ]
  },
  {
   "cell_type": "code",
   "execution_count": 102,
   "metadata": {},
   "outputs": [
    {
     "output_type": "execute_result",
     "data": {
      "text/plain": [
       "array([[ 2.        ,  2.        , -1.29746293,  2.        ],\n",
       "       [-0.73432284, -0.4224783 , -0.23264772, -0.47948074],\n",
       "       [ 2.        ,  2.        , -0.07812174, -0.13475736],\n",
       "       [ 2.        ,  2.        , -0.31992935, -0.90048968]])"
      ]
     },
     "metadata": {},
     "execution_count": 102
    }
   ],
   "source": [
    "np.where(arr > 0, 2, arr)"
   ]
  },
  {
   "cell_type": "code",
   "execution_count": null,
   "metadata": {},
   "outputs": [],
   "source": []
  },
  {
   "cell_type": "markdown",
   "metadata": {},
   "source": [
    "传递给where的数组大小可以不相等，甚至可以是标量值。"
   ]
  },
  {
   "cell_type": "markdown",
   "metadata": {},
   "source": [
    "## 数学和统计方法"
   ]
  },
  {
   "cell_type": "markdown",
   "metadata": {},
   "source": [
    "可以通过数组上的一组数学函数对整个数组或某个轴向的数据进行统计计算。\n",
    "\n",
    "sum、mean以及标准差std等聚合计算（aggregation，通常叫做约简（reduction））既可以当做数组的实例方法调用，也可以当做顶级NumPy函数使用。"
   ]
  },
  {
   "cell_type": "markdown",
   "metadata": {},
   "source": [
    "生成了一些正态分布随机数据，然后做了聚类统计"
   ]
  },
  {
   "cell_type": "code",
   "execution_count": 103,
   "metadata": {},
   "outputs": [
    {
     "output_type": "execute_result",
     "data": {
      "text/plain": [
       "array([[-0.30067384,  0.5418915 ,  0.74737634, -1.90201055],\n",
       "       [-0.25628965, -0.39237851, -0.34732166, -0.46957846],\n",
       "       [-0.49503762, -0.6297865 ,  0.8925233 ,  0.78293284],\n",
       "       [ 0.53504657,  0.31296906, -0.98131575, -0.49212619],\n",
       "       [ 0.56785059, -0.42113987,  0.31938403, -1.7110135 ]])"
      ]
     },
     "metadata": {},
     "execution_count": 103
    }
   ],
   "source": [
    "arr = np.random.randn(5, 4)\n",
    "arr"
   ]
  },
  {
   "cell_type": "code",
   "execution_count": 104,
   "metadata": {},
   "outputs": [
    {
     "output_type": "execute_result",
     "data": {
      "text/plain": [
       "-0.18493489361029242"
      ]
     },
     "metadata": {},
     "execution_count": 104
    }
   ],
   "source": [
    "arr.mean()"
   ]
  },
  {
   "cell_type": "code",
   "execution_count": 105,
   "metadata": {},
   "outputs": [
    {
     "output_type": "execute_result",
     "data": {
      "text/plain": [
       "-0.18493489361029242"
      ]
     },
     "metadata": {},
     "execution_count": 105
    }
   ],
   "source": [
    "np.mean(arr)"
   ]
  },
  {
   "cell_type": "code",
   "execution_count": 106,
   "metadata": {},
   "outputs": [
    {
     "output_type": "execute_result",
     "data": {
      "text/plain": [
       "-3.698697872205848"
      ]
     },
     "metadata": {},
     "execution_count": 106
    }
   ],
   "source": [
    "arr.sum()"
   ]
  },
  {
   "cell_type": "markdown",
   "metadata": {},
   "source": [
    "mean和sum这类的函数可以接受一个axis选项参数，用于计算该轴向上的统计值，最终结果是一个至少一维的数组"
   ]
  },
  {
   "cell_type": "code",
   "execution_count": 107,
   "metadata": {},
   "outputs": [
    {
     "output_type": "execute_result",
     "data": {
      "text/plain": [
       "array([-0.22835414, -0.36639207,  0.13765801, -0.15635658, -0.31122969])"
      ]
     },
     "metadata": {},
     "execution_count": 107
    }
   ],
   "source": [
    "arr.mean(axis=1)"
   ]
  },
  {
   "cell_type": "code",
   "execution_count": 108,
   "metadata": {},
   "outputs": [
    {
     "output_type": "execute_result",
     "data": {
      "text/plain": [
       "array([ 0.05089605, -0.58844431,  0.63064626, -3.79179587])"
      ]
     },
     "metadata": {},
     "execution_count": 108
    }
   ],
   "source": [
    "arr.sum(axis=0)"
   ]
  },
  {
   "cell_type": "markdown",
   "metadata": {},
   "source": [
    "这里，arr.mean(1)是“计算行的平均值”，arr.sum(0)是“计算每列的和”。"
   ]
  },
  {
   "cell_type": "markdown",
   "metadata": {},
   "source": [
    "其他如cumsum和cumprod之类的方法则不聚合，而是产生一个由中间结果组成的数组"
   ]
  },
  {
   "cell_type": "code",
   "execution_count": 109,
   "metadata": {},
   "outputs": [
    {
     "output_type": "execute_result",
     "data": {
      "text/plain": [
       "array([ 0,  1,  3,  6, 10, 15, 21, 28], dtype=int32)"
      ]
     },
     "metadata": {},
     "execution_count": 109
    }
   ],
   "source": [
    "arr = np.array([0, 1, 2, 3, 4, 5, 6, 7])\n",
    "arr.cumsum()  # 每个元素前n项的和"
   ]
  },
  {
   "cell_type": "code",
   "execution_count": 110,
   "metadata": {},
   "outputs": [
    {
     "output_type": "execute_result",
     "data": {
      "text/plain": [
       "array([0, 0, 0, 0, 0, 0, 0, 0], dtype=int32)"
      ]
     },
     "metadata": {},
     "execution_count": 110
    }
   ],
   "source": [
    "arr.cumprod()  # 每个元素前n项的积"
   ]
  },
  {
   "cell_type": "markdown",
   "metadata": {},
   "source": [
    "在多维数组中，累加函数（如cumsum）返回的是同样大小的数组，但是会根据每个低维的切片沿着标记轴计算部分聚类"
   ]
  },
  {
   "cell_type": "code",
   "execution_count": 111,
   "metadata": {},
   "outputs": [
    {
     "output_type": "execute_result",
     "data": {
      "text/plain": [
       "array([[0, 1, 2],\n",
       "       [3, 4, 5],\n",
       "       [6, 7, 8]])"
      ]
     },
     "metadata": {},
     "execution_count": 111
    }
   ],
   "source": [
    "arr = np.array([[0, 1, 2], [3, 4, 5], [6, 7, 8]])\n",
    "arr"
   ]
  },
  {
   "cell_type": "code",
   "execution_count": 112,
   "metadata": {},
   "outputs": [
    {
     "output_type": "execute_result",
     "data": {
      "text/plain": [
       "array([[ 0,  1,  2],\n",
       "       [ 3,  5,  7],\n",
       "       [ 9, 12, 15]], dtype=int32)"
      ]
     },
     "metadata": {},
     "execution_count": 112
    }
   ],
   "source": [
    "arr.cumsum(axis=0)  # 对每列的元素计算累计和"
   ]
  },
  {
   "cell_type": "code",
   "execution_count": 113,
   "metadata": {},
   "outputs": [
    {
     "output_type": "execute_result",
     "data": {
      "text/plain": [
       "array([[  0,   0,   0],\n",
       "       [  3,  12,  60],\n",
       "       [  6,  42, 336]], dtype=int32)"
      ]
     },
     "metadata": {},
     "execution_count": 113
    }
   ],
   "source": [
    "arr.cumprod(axis=1)  # 对每行的元素求累计积"
   ]
  },
  {
   "cell_type": "markdown",
   "metadata": {},
   "source": [
    "## 用于布尔型数组的方法"
   ]
  },
  {
   "cell_type": "markdown",
   "metadata": {},
   "source": [
    "在上面这些方法中，布尔值会被强制转换为1（True）和0（False）。\n",
    "\n",
    "因此，sum经常被用来对布尔型数组中的True值计数"
   ]
  },
  {
   "cell_type": "code",
   "execution_count": 114,
   "metadata": {},
   "outputs": [
    {
     "output_type": "execute_result",
     "data": {
      "text/plain": [
       "50"
      ]
     },
     "metadata": {},
     "execution_count": 114
    }
   ],
   "source": [
    "arr = np.random.randn(100)\n",
    "\n",
    "(arr > 0).sum()  # 求随机数组中大于0的个数"
   ]
  },
  {
   "cell_type": "markdown",
   "metadata": {},
   "source": [
    "另外还有两个方法any和all，它们对布尔型数组非常有用。\n",
    "\n",
    "any用于测试数组中是否存在一个或多个True，而all则检查数组中所有值是否都是True"
   ]
  },
  {
   "cell_type": "code",
   "execution_count": 115,
   "metadata": {},
   "outputs": [
    {
     "output_type": "execute_result",
     "data": {
      "text/plain": [
       "True"
      ]
     },
     "metadata": {},
     "execution_count": 115
    }
   ],
   "source": [
    "bools = np.array([False, False, True, False])\n",
    "\n",
    "bools.any()"
   ]
  },
  {
   "cell_type": "code",
   "execution_count": 116,
   "metadata": {},
   "outputs": [
    {
     "output_type": "execute_result",
     "data": {
      "text/plain": [
       "False"
      ]
     },
     "metadata": {},
     "execution_count": 116
    }
   ],
   "source": [
    "bools.all()"
   ]
  },
  {
   "cell_type": "markdown",
   "metadata": {},
   "source": [
    "这两个方法也能用于非布尔型数组，所有非0元素将会被当做True。"
   ]
  },
  {
   "cell_type": "markdown",
   "metadata": {},
   "source": [
    "## 排序\n",
    "\n",
    "跟Python内置的列表类型一样，NumPy数组也可以通过sort方法就地排序"
   ]
  },
  {
   "cell_type": "code",
   "execution_count": 117,
   "metadata": {},
   "outputs": [
    {
     "output_type": "execute_result",
     "data": {
      "text/plain": [
       "array([-1.26392757,  0.06697096, -0.29599458, -0.89251401, -0.60699639,\n",
       "       -0.46628267])"
      ]
     },
     "metadata": {},
     "execution_count": 117
    }
   ],
   "source": [
    "arr = np.random.randn(6)\n",
    "arr"
   ]
  },
  {
   "cell_type": "code",
   "execution_count": 118,
   "metadata": {},
   "outputs": [
    {
     "output_type": "execute_result",
     "data": {
      "text/plain": [
       "array([-1.26392757, -0.89251401, -0.60699639, -0.46628267, -0.29599458,\n",
       "        0.06697096])"
      ]
     },
     "metadata": {},
     "execution_count": 118
    }
   ],
   "source": [
    "arr.sort()  # 默认升序\n",
    "arr"
   ]
  },
  {
   "cell_type": "markdown",
   "metadata": {},
   "source": [
    "多维数组可以在任何一个轴向上进行排序，只需将轴编号传给sort即可"
   ]
  },
  {
   "cell_type": "code",
   "execution_count": 119,
   "metadata": {},
   "outputs": [
    {
     "output_type": "execute_result",
     "data": {
      "text/plain": [
       "array([[-1.31764606,  0.35443574, -1.08229246],\n",
       "       [ 2.09563261, -0.81960529, -0.74724223],\n",
       "       [-3.14832301,  0.43225603,  1.56213292],\n",
       "       [-0.61699553,  0.31006048, -0.13516591],\n",
       "       [ 1.08729346,  0.36697328,  1.25170975]])"
      ]
     },
     "metadata": {},
     "execution_count": 119
    }
   ],
   "source": [
    "arr = np.random.randn(5, 3)\n",
    "arr"
   ]
  },
  {
   "cell_type": "code",
   "execution_count": 120,
   "metadata": {},
   "outputs": [
    {
     "output_type": "execute_result",
     "data": {
      "text/plain": [
       "array([[-1.31764606, -1.08229246,  0.35443574],\n",
       "       [-0.81960529, -0.74724223,  2.09563261],\n",
       "       [-3.14832301,  0.43225603,  1.56213292],\n",
       "       [-0.61699553, -0.13516591,  0.31006048],\n",
       "       [ 0.36697328,  1.08729346,  1.25170975]])"
      ]
     },
     "metadata": {},
     "execution_count": 120
    }
   ],
   "source": [
    "arr.sort(axis=1)  # 对每行的数据排序\n",
    "arr"
   ]
  },
  {
   "cell_type": "markdown",
   "metadata": {},
   "source": [
    "顶级方法np.sort返回的是数组的已排序副本，而就地排序则会修改数组本身。\n",
    "\n",
    "计算数组分位数最简单的办法是对其进行排序，然后选取特定位置的值"
   ]
  },
  {
   "cell_type": "code",
   "execution_count": 121,
   "metadata": {},
   "outputs": [],
   "source": [
    "large_arr = np.random.randn(1000)\n",
    "large_arr.sort()"
   ]
  },
  {
   "cell_type": "code",
   "execution_count": 122,
   "metadata": {},
   "outputs": [
    {
     "output_type": "execute_result",
     "data": {
      "text/plain": [
       "-1.57754915089653"
      ]
     },
     "metadata": {},
     "execution_count": 122
    }
   ],
   "source": [
    "large_arr[int(0.05 * len(large_arr))]"
   ]
  },
  {
   "cell_type": "markdown",
   "metadata": {},
   "source": [
    "在pandas中还可以找到一些其他跟排序有关的数据操作（比如根据一列或多列对表格型数据进行排序）"
   ]
  },
  {
   "cell_type": "markdown",
   "metadata": {},
   "source": [
    "## 唯一化以及其它的集合逻辑\n",
    "\n",
    "NumPy提供了一些针对一维ndarray的基本集合运算。\n",
    "\n",
    "最常用的可能要数np.unique了，它用于找出数组中的唯一值(去重)并返回已排序的结果"
   ]
  },
  {
   "cell_type": "code",
   "execution_count": 123,
   "metadata": {},
   "outputs": [
    {
     "output_type": "execute_result",
     "data": {
      "text/plain": [
       "array(['Bob', 'Joe', 'Will'], dtype='<U4')"
      ]
     },
     "metadata": {},
     "execution_count": 123
    }
   ],
   "source": [
    "names = np.array(['Bob', 'Joe', 'Will', 'Bob', 'Will', 'Joe', 'Joe'])\n",
    "np.unique(names)"
   ]
  },
  {
   "cell_type": "code",
   "execution_count": 124,
   "metadata": {},
   "outputs": [
    {
     "output_type": "execute_result",
     "data": {
      "text/plain": [
       "array([1, 2, 3, 4])"
      ]
     },
     "metadata": {},
     "execution_count": 124
    }
   ],
   "source": [
    "ints = np.array([3, 3, 3, 2, 2, 1, 1, 4, 4])\n",
    "np.unique(ints)"
   ]
  },
  {
   "cell_type": "markdown",
   "metadata": {},
   "source": [
    "跟np.unique等价的纯Python代码来对比一下："
   ]
  },
  {
   "cell_type": "code",
   "execution_count": 125,
   "metadata": {},
   "outputs": [
    {
     "output_type": "execute_result",
     "data": {
      "text/plain": [
       "['Bob', 'Joe', 'Will']"
      ]
     },
     "metadata": {},
     "execution_count": 125
    }
   ],
   "source": [
    "sorted(set(names))"
   ]
  },
  {
   "cell_type": "markdown",
   "metadata": {},
   "source": [
    "函数np.in1d用于测试一个数组中的值在另一个数组中的成员资格，返回一个布尔型数组"
   ]
  },
  {
   "cell_type": "code",
   "execution_count": 126,
   "metadata": {},
   "outputs": [
    {
     "output_type": "execute_result",
     "data": {
      "text/plain": [
       "array([ True, False, False,  True,  True, False,  True])"
      ]
     },
     "metadata": {},
     "execution_count": 126
    }
   ],
   "source": [
    "values = np.array([6, 0, 0, 3, 2, 5, 6])\n",
    "np.in1d(values, [2, 3, 6])"
   ]
  },
  {
   "cell_type": "markdown",
   "metadata": {},
   "source": [
    "# 4.4 用于数组的文件输入输出\n",
    "\n",
    "NumPy能够读写磁盘上的文本数据或二进制数据。"
   ]
  },
  {
   "cell_type": "markdown",
   "metadata": {},
   "source": [
    "np.save和np.load是读写磁盘数组数据的两个主要函数。默认情况下，数组是以未压缩的原始二进制格式保存在扩展名为.npy的文件中的"
   ]
  },
  {
   "cell_type": "code",
   "execution_count": 127,
   "metadata": {},
   "outputs": [],
   "source": [
    "arr = np.arange(10)\n",
    "np.save('examples/some_array', arr)"
   ]
  },
  {
   "cell_type": "markdown",
   "metadata": {},
   "source": [
    "如果文件路径末尾没有扩展名.npy，则该扩展名会被自动加上。然后就可以通过np.load读取磁盘上的数组"
   ]
  },
  {
   "cell_type": "code",
   "execution_count": 128,
   "metadata": {},
   "outputs": [
    {
     "output_type": "execute_result",
     "data": {
      "text/plain": [
       "array([0, 1, 2, 3, 4, 5, 6, 7, 8, 9])"
      ]
     },
     "metadata": {},
     "execution_count": 128
    }
   ],
   "source": [
    "np.load('examples/some_array.npy')"
   ]
  },
  {
   "cell_type": "markdown",
   "metadata": {},
   "source": [
    "通过np.savez可以将多个数组保存到一个未压缩文件中，将数组以关键字参数的形式传入即可"
   ]
  },
  {
   "cell_type": "code",
   "execution_count": 129,
   "metadata": {},
   "outputs": [],
   "source": [
    "np.savez('examples/array_archive.npz', a=arr, b=arr)"
   ]
  },
  {
   "cell_type": "markdown",
   "metadata": {},
   "source": [
    "加载.npz文件时，会得到一个类似字典的对象，该对象会对各个数组进行延迟加载"
   ]
  },
  {
   "cell_type": "code",
   "execution_count": 150,
   "metadata": {},
   "outputs": [
    {
     "output_type": "error",
     "ename": "FileNotFoundError",
     "evalue": "[Errno 2] No such file or directory: 'examples/array_archive.npz'",
     "traceback": [
      "\u001b[1;31m---------------------------------------------------------------------------\u001b[0m",
      "\u001b[1;31mFileNotFoundError\u001b[0m                         Traceback (most recent call last)",
      "\u001b[1;32m<ipython-input-150-e8bd2dac6297>\u001b[0m in \u001b[0;36m<module>\u001b[1;34m\u001b[0m\n\u001b[1;32m----> 1\u001b[1;33m \u001b[0march\u001b[0m \u001b[1;33m=\u001b[0m \u001b[0mnp\u001b[0m\u001b[1;33m.\u001b[0m\u001b[0mload\u001b[0m\u001b[1;33m(\u001b[0m\u001b[1;34m'examples/array_archive.npz'\u001b[0m\u001b[1;33m)\u001b[0m\u001b[1;33m\u001b[0m\u001b[1;33m\u001b[0m\u001b[0m\n\u001b[0m\u001b[0;32m      2\u001b[0m \u001b[0march\u001b[0m\u001b[1;33m[\u001b[0m\u001b[1;34m'a'\u001b[0m\u001b[1;33m]\u001b[0m\u001b[1;33m,\u001b[0m \u001b[0march\u001b[0m\u001b[1;33m[\u001b[0m\u001b[1;34m'b'\u001b[0m\u001b[1;33m]\u001b[0m\u001b[1;33m\u001b[0m\u001b[1;33m\u001b[0m\u001b[0m\n\u001b[0;32m      3\u001b[0m \u001b[0march\u001b[0m\u001b[1;33m.\u001b[0m\u001b[0mclose\u001b[0m\u001b[1;33m(\u001b[0m\u001b[1;33m)\u001b[0m\u001b[1;33m\u001b[0m\u001b[1;33m\u001b[0m\u001b[0m\n",
      "\u001b[1;32mD:\\Program Files\\Miniconda3\\envs\\myenv\\lib\\site-packages\\numpy\\lib\\npyio.py\u001b[0m in \u001b[0;36mload\u001b[1;34m(file, mmap_mode, allow_pickle, fix_imports, encoding)\u001b[0m\n\u001b[0;32m    414\u001b[0m             \u001b[0mown_fid\u001b[0m \u001b[1;33m=\u001b[0m \u001b[1;32mFalse\u001b[0m\u001b[1;33m\u001b[0m\u001b[1;33m\u001b[0m\u001b[0m\n\u001b[0;32m    415\u001b[0m         \u001b[1;32melse\u001b[0m\u001b[1;33m:\u001b[0m\u001b[1;33m\u001b[0m\u001b[1;33m\u001b[0m\u001b[0m\n\u001b[1;32m--> 416\u001b[1;33m             \u001b[0mfid\u001b[0m \u001b[1;33m=\u001b[0m \u001b[0mstack\u001b[0m\u001b[1;33m.\u001b[0m\u001b[0menter_context\u001b[0m\u001b[1;33m(\u001b[0m\u001b[0mopen\u001b[0m\u001b[1;33m(\u001b[0m\u001b[0mos_fspath\u001b[0m\u001b[1;33m(\u001b[0m\u001b[0mfile\u001b[0m\u001b[1;33m)\u001b[0m\u001b[1;33m,\u001b[0m \u001b[1;34m\"rb\"\u001b[0m\u001b[1;33m)\u001b[0m\u001b[1;33m)\u001b[0m\u001b[1;33m\u001b[0m\u001b[1;33m\u001b[0m\u001b[0m\n\u001b[0m\u001b[0;32m    417\u001b[0m             \u001b[0mown_fid\u001b[0m \u001b[1;33m=\u001b[0m \u001b[1;32mTrue\u001b[0m\u001b[1;33m\u001b[0m\u001b[1;33m\u001b[0m\u001b[0m\n\u001b[0;32m    418\u001b[0m \u001b[1;33m\u001b[0m\u001b[0m\n",
      "\u001b[1;31mFileNotFoundError\u001b[0m: [Errno 2] No such file or directory: 'examples/array_archive.npz'"
     ]
    }
   ],
   "source": [
    "arch = np.load('examples/array_archive.npz')\n",
    "arch['a'], arch['b']\n",
    "arch.close()"
   ]
  },
  {
   "cell_type": "markdown",
   "metadata": {},
   "source": [
    "如果要将数据压缩，可以使用numpy.savez_compressed"
   ]
  },
  {
   "cell_type": "code",
   "execution_count": 131,
   "metadata": {},
   "outputs": [],
   "source": [
    "np.savez_compressed('examples/arrays_compressed.npz', a=arr, b=arr)"
   ]
  },
  {
   "cell_type": "markdown",
   "metadata": {},
   "source": [
    "# 4.5 线性代数（未完）\n",
    "\n",
    "线性代数（如矩阵乘法、矩阵分解、行列式以及其他方阵数学等）是任何数组库的重要组成部分。不像某些语言（如MATLAB），通过*对两个二维数组相乘得到的是一个元素级的积，而不是一个矩阵点积。因此，NumPy提供了一个用于矩阵乘法的dot函数（既是一个数组方法也是numpy命名空间中的一个函数）"
   ]
  },
  {
   "cell_type": "markdown",
   "metadata": {},
   "source": [
    "# 4.6 伪随机数生成\n",
    "\n",
    "numpy.random模块对Python内置的random进行了补充，增加了一些用于高效生成多种概率分布的样本值的函数。"
   ]
  },
  {
   "cell_type": "code",
   "execution_count": 132,
   "metadata": {},
   "outputs": [
    {
     "output_type": "execute_result",
     "data": {
      "text/plain": [
       "array([[ 1.55933703,  1.57150089, -0.33021151,  0.63182417],\n",
       "       [-0.80617926,  0.19934789, -0.94704916, -0.16925856],\n",
       "       [-0.09245206, -0.9089511 , -1.38298788, -0.06487165],\n",
       "       [-0.25426462,  1.40313352, -0.58636881,  0.10609175]])"
      ]
     },
     "metadata": {},
     "execution_count": 132
    }
   ],
   "source": [
    "samples = np.random.normal(size=(4, 4))\n",
    "samples"
   ]
  },
  {
   "cell_type": "markdown",
   "metadata": {},
   "source": [
    "而Python内置的random模块则只能一次生成一个样本值。从下面的测试结果中可以看出，如果需要产生大量样本值，numpy.random快了不止一个数量级"
   ]
  },
  {
   "cell_type": "code",
   "execution_count": 133,
   "metadata": {},
   "outputs": [
    {
     "output_type": "stream",
     "name": "stdout",
     "text": [
      "1.38 s ± 80.6 ms per loop (mean ± std. dev. of 7 runs, 1 loop each)\n"
     ]
    }
   ],
   "source": [
    "from random import normalvariate\n",
    "N = 1000000  # 一百万\n",
    "%timeit samples = [normalvariate(0, 1) for _ in range(N)]"
   ]
  },
  {
   "cell_type": "code",
   "execution_count": 134,
   "metadata": {},
   "outputs": [
    {
     "output_type": "stream",
     "name": "stdout",
     "text": [
      "33.1 ms ± 3.09 ms per loop (mean ± std. dev. of 7 runs, 10 loops each)\n"
     ]
    }
   ],
   "source": [
    "%timeit np.random.normal(size=N)"
   ]
  },
  {
   "cell_type": "markdown",
   "metadata": {},
   "source": [
    "这些都是伪随机数，是因为它们都是通过算法基于随机数生成器种子，在确定性的条件下生成的。可以用NumPy的np.random.seed更改随机数生成种子"
   ]
  },
  {
   "cell_type": "code",
   "execution_count": 135,
   "metadata": {},
   "outputs": [],
   "source": [
    "# np.random.seed(1234)"
   ]
  },
  {
   "cell_type": "markdown",
   "metadata": {},
   "source": [
    "numpy.random的数据生成函数使用了全局的随机种子。\n",
    "\n",
    "要避免全局状态，可以使用numpy.random.RandomState，创建一个与其它隔离的随机数生成器"
   ]
  },
  {
   "cell_type": "code",
   "execution_count": 136,
   "metadata": {},
   "outputs": [
    {
     "output_type": "execute_result",
     "data": {
      "text/plain": [
       "array([ 0.47143516, -1.19097569,  1.43270697, -0.3126519 , -0.72058873,\n",
       "        0.88716294,  0.85958841, -0.6365235 ,  0.01569637, -2.24268495])"
      ]
     },
     "metadata": {},
     "execution_count": 136
    }
   ],
   "source": [
    "rng = np.random.RandomState(1234)\n",
    "rng.randn(10)"
   ]
  },
  {
   "cell_type": "markdown",
   "metadata": {},
   "source": [
    "# 4.7 示例：随机漫步\n",
    "\n",
    "通过模拟随机漫步来说明如何运用数组运算。\n",
    "\n",
    "先来看一个简单的随机漫步的例子：从0开始，步长1和－1出现的概率相等。"
   ]
  },
  {
   "cell_type": "markdown",
   "metadata": {},
   "source": [
    "下面是一个通过内置的random模块以纯Python的方式实现1000步的随机漫步"
   ]
  },
  {
   "cell_type": "code",
   "execution_count": 137,
   "metadata": {},
   "outputs": [],
   "source": [
    "import random\n",
    "position = 0\n",
    "walk = [position]\n",
    "steps = 1000\n",
    "for i in range(steps):\n",
    "    step = 1 if random.randint(0, 1) else -1\n",
    "    position += step\n",
    "    walk.append(position)"
   ]
  },
  {
   "cell_type": "markdown",
   "metadata": {},
   "source": [
    "根据前100个随机漫步值生成的折线图"
   ]
  },
  {
   "cell_type": "code",
   "execution_count": 138,
   "metadata": {},
   "outputs": [
    {
     "output_type": "execute_result",
     "data": {
      "text/plain": [
       "[<matplotlib.lines.Line2D at 0x1c591ce6c10>]"
      ]
     },
     "metadata": {},
     "execution_count": 138
    },
    {
     "output_type": "display_data",
     "data": {
      "text/plain": "<Figure size 432x288 with 1 Axes>",
      "image/svg+xml": "<?xml version=\"1.0\" encoding=\"utf-8\" standalone=\"no\"?>\r\n<!DOCTYPE svg PUBLIC \"-//W3C//DTD SVG 1.1//EN\"\r\n  \"http://www.w3.org/Graphics/SVG/1.1/DTD/svg11.dtd\">\r\n<!-- Created with matplotlib (https://matplotlib.org/) -->\r\n<svg height=\"248.518125pt\" version=\"1.1\" viewBox=\"0 0 368.925 248.518125\" width=\"368.925pt\" xmlns=\"http://www.w3.org/2000/svg\" xmlns:xlink=\"http://www.w3.org/1999/xlink\">\r\n <metadata>\r\n  <rdf:RDF xmlns:cc=\"http://creativecommons.org/ns#\" xmlns:dc=\"http://purl.org/dc/elements/1.1/\" xmlns:rdf=\"http://www.w3.org/1999/02/22-rdf-syntax-ns#\">\r\n   <cc:Work>\r\n    <dc:type rdf:resource=\"http://purl.org/dc/dcmitype/StillImage\"/>\r\n    <dc:date>2020-10-21T22:29:20.030764</dc:date>\r\n    <dc:format>image/svg+xml</dc:format>\r\n    <dc:creator>\r\n     <cc:Agent>\r\n      <dc:title>Matplotlib v3.3.2, https://matplotlib.org/</dc:title>\r\n     </cc:Agent>\r\n    </dc:creator>\r\n   </cc:Work>\r\n  </rdf:RDF>\r\n </metadata>\r\n <defs>\r\n  <style type=\"text/css\">*{stroke-linecap:butt;stroke-linejoin:round;}</style>\r\n </defs>\r\n <g id=\"figure_1\">\r\n  <g id=\"patch_1\">\r\n   <path d=\"M -0 248.518125 \r\nL 368.925 248.518125 \r\nL 368.925 0 \r\nL -0 0 \r\nz\r\n\" style=\"fill:none;\"/>\r\n  </g>\r\n  <g id=\"axes_1\">\r\n   <g id=\"patch_2\">\r\n    <path d=\"M 26.925 224.64 \r\nL 361.725 224.64 \r\nL 361.725 7.2 \r\nL 26.925 7.2 \r\nz\r\n\" style=\"fill:#ffffff;\"/>\r\n   </g>\r\n   <g id=\"matplotlib.axis_1\">\r\n    <g id=\"xtick_1\">\r\n     <g id=\"line2d_1\">\r\n      <defs>\r\n       <path d=\"M 0 0 \r\nL 0 3.5 \r\n\" id=\"m513d419692\" style=\"stroke:#000000;stroke-width:0.8;\"/>\r\n      </defs>\r\n      <g>\r\n       <use style=\"stroke:#000000;stroke-width:0.8;\" x=\"42.143182\" xlink:href=\"#m513d419692\" y=\"224.64\"/>\r\n      </g>\r\n     </g>\r\n     <g id=\"text_1\">\r\n      <!-- 0 -->\r\n      <g transform=\"translate(38.961932 239.238437)scale(0.1 -0.1)\">\r\n       <defs>\r\n        <path d=\"M 31.78125 66.40625 \r\nQ 24.171875 66.40625 20.328125 58.90625 \r\nQ 16.5 51.421875 16.5 36.375 \r\nQ 16.5 21.390625 20.328125 13.890625 \r\nQ 24.171875 6.390625 31.78125 6.390625 \r\nQ 39.453125 6.390625 43.28125 13.890625 \r\nQ 47.125 21.390625 47.125 36.375 \r\nQ 47.125 51.421875 43.28125 58.90625 \r\nQ 39.453125 66.40625 31.78125 66.40625 \r\nz\r\nM 31.78125 74.21875 \r\nQ 44.046875 74.21875 50.515625 64.515625 \r\nQ 56.984375 54.828125 56.984375 36.375 \r\nQ 56.984375 17.96875 50.515625 8.265625 \r\nQ 44.046875 -1.421875 31.78125 -1.421875 \r\nQ 19.53125 -1.421875 13.0625 8.265625 \r\nQ 6.59375 17.96875 6.59375 36.375 \r\nQ 6.59375 54.828125 13.0625 64.515625 \r\nQ 19.53125 74.21875 31.78125 74.21875 \r\nz\r\n\" id=\"DejaVuSans-48\"/>\r\n       </defs>\r\n       <use xlink:href=\"#DejaVuSans-48\"/>\r\n      </g>\r\n     </g>\r\n    </g>\r\n    <g id=\"xtick_2\">\r\n     <g id=\"line2d_2\">\r\n      <g>\r\n       <use style=\"stroke:#000000;stroke-width:0.8;\" x=\"103.630785\" xlink:href=\"#m513d419692\" y=\"224.64\"/>\r\n      </g>\r\n     </g>\r\n     <g id=\"text_2\">\r\n      <!-- 20 -->\r\n      <g transform=\"translate(97.268285 239.238437)scale(0.1 -0.1)\">\r\n       <defs>\r\n        <path d=\"M 19.1875 8.296875 \r\nL 53.609375 8.296875 \r\nL 53.609375 0 \r\nL 7.328125 0 \r\nL 7.328125 8.296875 \r\nQ 12.9375 14.109375 22.625 23.890625 \r\nQ 32.328125 33.6875 34.8125 36.53125 \r\nQ 39.546875 41.84375 41.421875 45.53125 \r\nQ 43.3125 49.21875 43.3125 52.78125 \r\nQ 43.3125 58.59375 39.234375 62.25 \r\nQ 35.15625 65.921875 28.609375 65.921875 \r\nQ 23.96875 65.921875 18.8125 64.3125 \r\nQ 13.671875 62.703125 7.8125 59.421875 \r\nL 7.8125 69.390625 \r\nQ 13.765625 71.78125 18.9375 73 \r\nQ 24.125 74.21875 28.421875 74.21875 \r\nQ 39.75 74.21875 46.484375 68.546875 \r\nQ 53.21875 62.890625 53.21875 53.421875 \r\nQ 53.21875 48.921875 51.53125 44.890625 \r\nQ 49.859375 40.875 45.40625 35.40625 \r\nQ 44.1875 33.984375 37.640625 27.21875 \r\nQ 31.109375 20.453125 19.1875 8.296875 \r\nz\r\n\" id=\"DejaVuSans-50\"/>\r\n       </defs>\r\n       <use xlink:href=\"#DejaVuSans-50\"/>\r\n       <use x=\"63.623047\" xlink:href=\"#DejaVuSans-48\"/>\r\n      </g>\r\n     </g>\r\n    </g>\r\n    <g id=\"xtick_3\">\r\n     <g id=\"line2d_3\">\r\n      <g>\r\n       <use style=\"stroke:#000000;stroke-width:0.8;\" x=\"165.118388\" xlink:href=\"#m513d419692\" y=\"224.64\"/>\r\n      </g>\r\n     </g>\r\n     <g id=\"text_3\">\r\n      <!-- 40 -->\r\n      <g transform=\"translate(158.755888 239.238437)scale(0.1 -0.1)\">\r\n       <defs>\r\n        <path d=\"M 37.796875 64.3125 \r\nL 12.890625 25.390625 \r\nL 37.796875 25.390625 \r\nz\r\nM 35.203125 72.90625 \r\nL 47.609375 72.90625 \r\nL 47.609375 25.390625 \r\nL 58.015625 25.390625 \r\nL 58.015625 17.1875 \r\nL 47.609375 17.1875 \r\nL 47.609375 0 \r\nL 37.796875 0 \r\nL 37.796875 17.1875 \r\nL 4.890625 17.1875 \r\nL 4.890625 26.703125 \r\nz\r\n\" id=\"DejaVuSans-52\"/>\r\n       </defs>\r\n       <use xlink:href=\"#DejaVuSans-52\"/>\r\n       <use x=\"63.623047\" xlink:href=\"#DejaVuSans-48\"/>\r\n      </g>\r\n     </g>\r\n    </g>\r\n    <g id=\"xtick_4\">\r\n     <g id=\"line2d_4\">\r\n      <g>\r\n       <use style=\"stroke:#000000;stroke-width:0.8;\" x=\"226.605992\" xlink:href=\"#m513d419692\" y=\"224.64\"/>\r\n      </g>\r\n     </g>\r\n     <g id=\"text_4\">\r\n      <!-- 60 -->\r\n      <g transform=\"translate(220.243492 239.238437)scale(0.1 -0.1)\">\r\n       <defs>\r\n        <path d=\"M 33.015625 40.375 \r\nQ 26.375 40.375 22.484375 35.828125 \r\nQ 18.609375 31.296875 18.609375 23.390625 \r\nQ 18.609375 15.53125 22.484375 10.953125 \r\nQ 26.375 6.390625 33.015625 6.390625 \r\nQ 39.65625 6.390625 43.53125 10.953125 \r\nQ 47.40625 15.53125 47.40625 23.390625 \r\nQ 47.40625 31.296875 43.53125 35.828125 \r\nQ 39.65625 40.375 33.015625 40.375 \r\nz\r\nM 52.59375 71.296875 \r\nL 52.59375 62.3125 \r\nQ 48.875 64.0625 45.09375 64.984375 \r\nQ 41.3125 65.921875 37.59375 65.921875 \r\nQ 27.828125 65.921875 22.671875 59.328125 \r\nQ 17.53125 52.734375 16.796875 39.40625 \r\nQ 19.671875 43.65625 24.015625 45.921875 \r\nQ 28.375 48.1875 33.59375 48.1875 \r\nQ 44.578125 48.1875 50.953125 41.515625 \r\nQ 57.328125 34.859375 57.328125 23.390625 \r\nQ 57.328125 12.15625 50.6875 5.359375 \r\nQ 44.046875 -1.421875 33.015625 -1.421875 \r\nQ 20.359375 -1.421875 13.671875 8.265625 \r\nQ 6.984375 17.96875 6.984375 36.375 \r\nQ 6.984375 53.65625 15.1875 63.9375 \r\nQ 23.390625 74.21875 37.203125 74.21875 \r\nQ 40.921875 74.21875 44.703125 73.484375 \r\nQ 48.484375 72.75 52.59375 71.296875 \r\nz\r\n\" id=\"DejaVuSans-54\"/>\r\n       </defs>\r\n       <use xlink:href=\"#DejaVuSans-54\"/>\r\n       <use x=\"63.623047\" xlink:href=\"#DejaVuSans-48\"/>\r\n      </g>\r\n     </g>\r\n    </g>\r\n    <g id=\"xtick_5\">\r\n     <g id=\"line2d_5\">\r\n      <g>\r\n       <use style=\"stroke:#000000;stroke-width:0.8;\" x=\"288.093595\" xlink:href=\"#m513d419692\" y=\"224.64\"/>\r\n      </g>\r\n     </g>\r\n     <g id=\"text_5\">\r\n      <!-- 80 -->\r\n      <g transform=\"translate(281.731095 239.238437)scale(0.1 -0.1)\">\r\n       <defs>\r\n        <path d=\"M 31.78125 34.625 \r\nQ 24.75 34.625 20.71875 30.859375 \r\nQ 16.703125 27.09375 16.703125 20.515625 \r\nQ 16.703125 13.921875 20.71875 10.15625 \r\nQ 24.75 6.390625 31.78125 6.390625 \r\nQ 38.8125 6.390625 42.859375 10.171875 \r\nQ 46.921875 13.96875 46.921875 20.515625 \r\nQ 46.921875 27.09375 42.890625 30.859375 \r\nQ 38.875 34.625 31.78125 34.625 \r\nz\r\nM 21.921875 38.8125 \r\nQ 15.578125 40.375 12.03125 44.71875 \r\nQ 8.5 49.078125 8.5 55.328125 \r\nQ 8.5 64.0625 14.71875 69.140625 \r\nQ 20.953125 74.21875 31.78125 74.21875 \r\nQ 42.671875 74.21875 48.875 69.140625 \r\nQ 55.078125 64.0625 55.078125 55.328125 \r\nQ 55.078125 49.078125 51.53125 44.71875 \r\nQ 48 40.375 41.703125 38.8125 \r\nQ 48.828125 37.15625 52.796875 32.3125 \r\nQ 56.78125 27.484375 56.78125 20.515625 \r\nQ 56.78125 9.90625 50.3125 4.234375 \r\nQ 43.84375 -1.421875 31.78125 -1.421875 \r\nQ 19.734375 -1.421875 13.25 4.234375 \r\nQ 6.78125 9.90625 6.78125 20.515625 \r\nQ 6.78125 27.484375 10.78125 32.3125 \r\nQ 14.796875 37.15625 21.921875 38.8125 \r\nz\r\nM 18.3125 54.390625 \r\nQ 18.3125 48.734375 21.84375 45.5625 \r\nQ 25.390625 42.390625 31.78125 42.390625 \r\nQ 38.140625 42.390625 41.71875 45.5625 \r\nQ 45.3125 48.734375 45.3125 54.390625 \r\nQ 45.3125 60.0625 41.71875 63.234375 \r\nQ 38.140625 66.40625 31.78125 66.40625 \r\nQ 25.390625 66.40625 21.84375 63.234375 \r\nQ 18.3125 60.0625 18.3125 54.390625 \r\nz\r\n\" id=\"DejaVuSans-56\"/>\r\n       </defs>\r\n       <use xlink:href=\"#DejaVuSans-56\"/>\r\n       <use x=\"63.623047\" xlink:href=\"#DejaVuSans-48\"/>\r\n      </g>\r\n     </g>\r\n    </g>\r\n    <g id=\"xtick_6\">\r\n     <g id=\"line2d_6\">\r\n      <g>\r\n       <use style=\"stroke:#000000;stroke-width:0.8;\" x=\"349.581198\" xlink:href=\"#m513d419692\" y=\"224.64\"/>\r\n      </g>\r\n     </g>\r\n     <g id=\"text_6\">\r\n      <!-- 100 -->\r\n      <g transform=\"translate(340.037448 239.238437)scale(0.1 -0.1)\">\r\n       <defs>\r\n        <path d=\"M 12.40625 8.296875 \r\nL 28.515625 8.296875 \r\nL 28.515625 63.921875 \r\nL 10.984375 60.40625 \r\nL 10.984375 69.390625 \r\nL 28.421875 72.90625 \r\nL 38.28125 72.90625 \r\nL 38.28125 8.296875 \r\nL 54.390625 8.296875 \r\nL 54.390625 0 \r\nL 12.40625 0 \r\nz\r\n\" id=\"DejaVuSans-49\"/>\r\n       </defs>\r\n       <use xlink:href=\"#DejaVuSans-49\"/>\r\n       <use x=\"63.623047\" xlink:href=\"#DejaVuSans-48\"/>\r\n       <use x=\"127.246094\" xlink:href=\"#DejaVuSans-48\"/>\r\n      </g>\r\n     </g>\r\n    </g>\r\n   </g>\r\n   <g id=\"matplotlib.axis_2\">\r\n    <g id=\"ytick_1\">\r\n     <g id=\"line2d_7\">\r\n      <defs>\r\n       <path d=\"M 0 0 \r\nL -3.5 0 \r\n\" id=\"mc995fe4c9f\" style=\"stroke:#000000;stroke-width:0.8;\"/>\r\n      </defs>\r\n      <g>\r\n       <use style=\"stroke:#000000;stroke-width:0.8;\" x=\"26.925\" xlink:href=\"#mc995fe4c9f\" y=\"214.756364\"/>\r\n      </g>\r\n     </g>\r\n     <g id=\"text_7\">\r\n      <!-- 0 -->\r\n      <g transform=\"translate(13.5625 218.555582)scale(0.1 -0.1)\">\r\n       <use xlink:href=\"#DejaVuSans-48\"/>\r\n      </g>\r\n     </g>\r\n    </g>\r\n    <g id=\"ytick_2\">\r\n     <g id=\"line2d_8\">\r\n      <g>\r\n       <use style=\"stroke:#000000;stroke-width:0.8;\" x=\"26.925\" xlink:href=\"#mc995fe4c9f\" y=\"188.4\"/>\r\n      </g>\r\n     </g>\r\n     <g id=\"text_8\">\r\n      <!-- 2 -->\r\n      <g transform=\"translate(13.5625 192.199219)scale(0.1 -0.1)\">\r\n       <use xlink:href=\"#DejaVuSans-50\"/>\r\n      </g>\r\n     </g>\r\n    </g>\r\n    <g id=\"ytick_3\">\r\n     <g id=\"line2d_9\">\r\n      <g>\r\n       <use style=\"stroke:#000000;stroke-width:0.8;\" x=\"26.925\" xlink:href=\"#mc995fe4c9f\" y=\"162.043636\"/>\r\n      </g>\r\n     </g>\r\n     <g id=\"text_9\">\r\n      <!-- 4 -->\r\n      <g transform=\"translate(13.5625 165.842855)scale(0.1 -0.1)\">\r\n       <use xlink:href=\"#DejaVuSans-52\"/>\r\n      </g>\r\n     </g>\r\n    </g>\r\n    <g id=\"ytick_4\">\r\n     <g id=\"line2d_10\">\r\n      <g>\r\n       <use style=\"stroke:#000000;stroke-width:0.8;\" x=\"26.925\" xlink:href=\"#mc995fe4c9f\" y=\"135.687273\"/>\r\n      </g>\r\n     </g>\r\n     <g id=\"text_10\">\r\n      <!-- 6 -->\r\n      <g transform=\"translate(13.5625 139.486491)scale(0.1 -0.1)\">\r\n       <use xlink:href=\"#DejaVuSans-54\"/>\r\n      </g>\r\n     </g>\r\n    </g>\r\n    <g id=\"ytick_5\">\r\n     <g id=\"line2d_11\">\r\n      <g>\r\n       <use style=\"stroke:#000000;stroke-width:0.8;\" x=\"26.925\" xlink:href=\"#mc995fe4c9f\" y=\"109.330909\"/>\r\n      </g>\r\n     </g>\r\n     <g id=\"text_11\">\r\n      <!-- 8 -->\r\n      <g transform=\"translate(13.5625 113.130128)scale(0.1 -0.1)\">\r\n       <use xlink:href=\"#DejaVuSans-56\"/>\r\n      </g>\r\n     </g>\r\n    </g>\r\n    <g id=\"ytick_6\">\r\n     <g id=\"line2d_12\">\r\n      <g>\r\n       <use style=\"stroke:#000000;stroke-width:0.8;\" x=\"26.925\" xlink:href=\"#mc995fe4c9f\" y=\"82.974545\"/>\r\n      </g>\r\n     </g>\r\n     <g id=\"text_12\">\r\n      <!-- 10 -->\r\n      <g transform=\"translate(7.2 86.773764)scale(0.1 -0.1)\">\r\n       <use xlink:href=\"#DejaVuSans-49\"/>\r\n       <use x=\"63.623047\" xlink:href=\"#DejaVuSans-48\"/>\r\n      </g>\r\n     </g>\r\n    </g>\r\n    <g id=\"ytick_7\">\r\n     <g id=\"line2d_13\">\r\n      <g>\r\n       <use style=\"stroke:#000000;stroke-width:0.8;\" x=\"26.925\" xlink:href=\"#mc995fe4c9f\" y=\"56.618182\"/>\r\n      </g>\r\n     </g>\r\n     <g id=\"text_13\">\r\n      <!-- 12 -->\r\n      <g transform=\"translate(7.2 60.417401)scale(0.1 -0.1)\">\r\n       <use xlink:href=\"#DejaVuSans-49\"/>\r\n       <use x=\"63.623047\" xlink:href=\"#DejaVuSans-50\"/>\r\n      </g>\r\n     </g>\r\n    </g>\r\n    <g id=\"ytick_8\">\r\n     <g id=\"line2d_14\">\r\n      <g>\r\n       <use style=\"stroke:#000000;stroke-width:0.8;\" x=\"26.925\" xlink:href=\"#mc995fe4c9f\" y=\"30.261818\"/>\r\n      </g>\r\n     </g>\r\n     <g id=\"text_14\">\r\n      <!-- 14 -->\r\n      <g transform=\"translate(7.2 34.061037)scale(0.1 -0.1)\">\r\n       <use xlink:href=\"#DejaVuSans-49\"/>\r\n       <use x=\"63.623047\" xlink:href=\"#DejaVuSans-52\"/>\r\n      </g>\r\n     </g>\r\n    </g>\r\n   </g>\r\n   <g id=\"line2d_15\">\r\n    <path clip-path=\"url(#p2ea57c5941)\" d=\"M 42.143182 214.756364 \r\nL 45.217562 201.578182 \r\nL 48.291942 188.4 \r\nL 51.366322 175.221818 \r\nL 54.440702 188.4 \r\nL 57.515083 201.578182 \r\nL 60.589463 188.4 \r\nL 63.663843 175.221818 \r\nL 66.738223 188.4 \r\nL 69.812603 175.221818 \r\nL 72.886983 188.4 \r\nL 75.961364 175.221818 \r\nL 79.035744 188.4 \r\nL 82.110124 201.578182 \r\nL 85.184504 188.4 \r\nL 88.258884 201.578182 \r\nL 91.333264 188.4 \r\nL 94.407645 175.221818 \r\nL 97.482025 188.4 \r\nL 100.556405 175.221818 \r\nL 103.630785 162.043636 \r\nL 106.705165 148.865455 \r\nL 109.779545 162.043636 \r\nL 112.853926 175.221818 \r\nL 115.928306 162.043636 \r\nL 119.002686 148.865455 \r\nL 122.077066 135.687273 \r\nL 125.151446 122.509091 \r\nL 128.225826 135.687273 \r\nL 131.300207 148.865455 \r\nL 134.374587 135.687273 \r\nL 137.448967 122.509091 \r\nL 140.523347 109.330909 \r\nL 143.597727 96.152727 \r\nL 146.672107 82.974545 \r\nL 149.746488 69.796364 \r\nL 152.820868 82.974545 \r\nL 155.895248 69.796364 \r\nL 158.969628 56.618182 \r\nL 162.044008 43.44 \r\nL 165.118388 30.261818 \r\nL 168.192769 43.44 \r\nL 171.267149 30.261818 \r\nL 174.341529 43.44 \r\nL 177.415909 56.618182 \r\nL 180.490289 43.44 \r\nL 183.564669 30.261818 \r\nL 186.63905 17.083636 \r\nL 189.71343 30.261818 \r\nL 192.78781 43.44 \r\nL 195.86219 30.261818 \r\nL 198.93657 43.44 \r\nL 202.01095 56.618182 \r\nL 205.085331 69.796364 \r\nL 208.159711 82.974545 \r\nL 211.234091 69.796364 \r\nL 214.308471 82.974545 \r\nL 217.382851 96.152727 \r\nL 220.457231 82.974545 \r\nL 223.531612 96.152727 \r\nL 226.605992 109.330909 \r\nL 229.680372 122.509091 \r\nL 232.754752 135.687273 \r\nL 235.829132 122.509091 \r\nL 238.903512 135.687273 \r\nL 241.977893 148.865455 \r\nL 245.052273 135.687273 \r\nL 248.126653 122.509091 \r\nL 251.201033 109.330909 \r\nL 254.275413 122.509091 \r\nL 257.349793 109.330909 \r\nL 260.424174 96.152727 \r\nL 263.498554 82.974545 \r\nL 266.572934 96.152727 \r\nL 269.647314 109.330909 \r\nL 272.721694 96.152727 \r\nL 275.796074 109.330909 \r\nL 278.870455 96.152727 \r\nL 281.944835 82.974545 \r\nL 285.019215 69.796364 \r\nL 288.093595 56.618182 \r\nL 291.167975 69.796364 \r\nL 294.242355 82.974545 \r\nL 297.316736 69.796364 \r\nL 300.391116 56.618182 \r\nL 303.465496 69.796364 \r\nL 306.539876 82.974545 \r\nL 309.614256 69.796364 \r\nL 312.688636 56.618182 \r\nL 315.763017 69.796364 \r\nL 318.837397 56.618182 \r\nL 321.911777 43.44 \r\nL 324.986157 56.618182 \r\nL 328.060537 69.796364 \r\nL 331.134917 56.618182 \r\nL 334.209298 69.796364 \r\nL 337.283678 56.618182 \r\nL 340.358058 69.796364 \r\nL 343.432438 56.618182 \r\nL 346.506818 43.44 \r\n\" style=\"fill:none;stroke:#1f77b4;stroke-linecap:square;stroke-width:1.5;\"/>\r\n   </g>\r\n   <g id=\"patch_3\">\r\n    <path d=\"M 26.925 224.64 \r\nL 26.925 7.2 \r\n\" style=\"fill:none;stroke:#000000;stroke-linecap:square;stroke-linejoin:miter;stroke-width:0.8;\"/>\r\n   </g>\r\n   <g id=\"patch_4\">\r\n    <path d=\"M 361.725 224.64 \r\nL 361.725 7.2 \r\n\" style=\"fill:none;stroke:#000000;stroke-linecap:square;stroke-linejoin:miter;stroke-width:0.8;\"/>\r\n   </g>\r\n   <g id=\"patch_5\">\r\n    <path d=\"M 26.925 224.64 \r\nL 361.725 224.64 \r\n\" style=\"fill:none;stroke:#000000;stroke-linecap:square;stroke-linejoin:miter;stroke-width:0.8;\"/>\r\n   </g>\r\n   <g id=\"patch_6\">\r\n    <path d=\"M 26.925 7.2 \r\nL 361.725 7.2 \r\n\" style=\"fill:none;stroke:#000000;stroke-linecap:square;stroke-linejoin:miter;stroke-width:0.8;\"/>\r\n   </g>\r\n  </g>\r\n </g>\r\n <defs>\r\n  <clipPath id=\"p2ea57c5941\">\r\n   <rect height=\"217.44\" width=\"334.8\" x=\"26.925\" y=\"7.2\"/>\r\n  </clipPath>\r\n </defs>\r\n</svg>\r\n",
      "image/png": "[encoded data removed]"
     },
     "metadata": {
      "needs_background": "light"
     }
    }
   ],
   "source": [
    "plt.plot(walk[:100])"
   ]
  },
  {
   "cell_type": "markdown",
   "metadata": {},
   "source": [
    "其实这就是随机漫步中各步的累计和，可以用一个数组运算来实现。因此，用np.random模块一次性随机产生1000个“掷硬币”结果（即两个数中任选一个），将其分别设置为1或－1，然后计算累计和"
   ]
  },
  {
   "cell_type": "code",
   "execution_count": 139,
   "metadata": {},
   "outputs": [],
   "source": [
    "nsteps = 1000\n",
    "draws = np.random.randint(0, 2, size=nsteps)\n",
    "steps = np.where(draws > 0, 1, -1)\n",
    "walk = steps.cumsum()"
   ]
  },
  {
   "cell_type": "markdown",
   "metadata": {},
   "source": [
    "有了这些数据之后，就可以沿着漫步路径做一些统计工作了，比如求取最大值和最小值"
   ]
  },
  {
   "cell_type": "code",
   "execution_count": 140,
   "metadata": {},
   "outputs": [
    {
     "output_type": "execute_result",
     "data": {
      "text/plain": [
       "'最小值: -7   最大值: 39'"
      ]
     },
     "metadata": {},
     "execution_count": 140
    }
   ],
   "source": [
    "f\"最小值: {walk.min()}   最大值: {walk.max()}\""
   ]
  },
  {
   "cell_type": "markdown",
   "metadata": {},
   "source": [
    "现在来看一个复杂点的统计任务——首次穿越时间，即随机漫步过程中第一次到达某个特定值的时间。假设想要知道本次随机漫步需要多久才能距离初始0点至少10步远（任一方向均可）。np.abs(walk)>=10可以得到一个布尔型数组，它表示的是距离是否达到或超过10，而想要知道的是第一个10或－10的索引。可以用argmax来解决这个问题，它返回的是该布尔型数组第一个最大值的索引（True就是最大值）"
   ]
  },
  {
   "cell_type": "code",
   "execution_count": 141,
   "metadata": {},
   "outputs": [
    {
     "output_type": "execute_result",
     "data": {
      "text/plain": [
       "95"
      ]
     },
     "metadata": {},
     "execution_count": 141
    }
   ],
   "source": [
    "(np.abs(walk) >= 10).argmax()"
   ]
  },
  {
   "cell_type": "markdown",
   "metadata": {},
   "source": [
    "这里使用argmax并不是很高效，因为它无论如何都会对数组进行完全扫描。\n",
    "\n",
    "在这个例子中，只要发现了一个True，就知道它是最大值了。"
   ]
  },
  {
   "cell_type": "markdown",
   "metadata": {},
   "source": [
    "## 一次模拟多个随机漫步"
   ]
  },
  {
   "cell_type": "markdown",
   "metadata": {},
   "source": [
    "如果希望模拟多个随机漫步过程（比如5000个），只需对上面的代码做一点点修改即可生成所有的随机漫步过程。只要给numpy.random的函数传入一个二元元组就可以产生一个二维数组，然后就可以一次性计算5000个随机漫步过程（一行一个）的累计和了"
   ]
  },
  {
   "cell_type": "code",
   "execution_count": 142,
   "metadata": {},
   "outputs": [
    {
     "output_type": "execute_result",
     "data": {
      "text/plain": [
       "(array([[  1,   0,   1, ...,  10,  11,  10],\n",
       "        [ -1,   0,   1, ...,   8,   7,   8],\n",
       "        [ -1,   0,   1, ...,  10,   9,  10],\n",
       "        ...,\n",
       "        [  1,   2,   3, ..., -36, -37, -38],\n",
       "        [  1,   2,   1, ...,  16,  15,  14],\n",
       "        [ -1,   0,  -1, ..., -60, -59, -58]], dtype=int32),\n",
       " '尺度: (5000, 1000)')"
      ]
     },
     "metadata": {},
     "execution_count": 142
    }
   ],
   "source": [
    "nwalks = 5000\n",
    "nsteps = 1000\n",
    "draws = np.random.randint(0, 2, size=(nwalks, nsteps)) # 0 or 1\n",
    "steps = np.where(draws > 0, 1, -1)\n",
    "walks = steps.cumsum(1)\n",
    "walks, f\"尺度: {walks.shape}\""
   ]
  },
  {
   "cell_type": "markdown",
   "metadata": {},
   "source": [
    "现在，来计算所有随机漫步过程的最大值和最小值"
   ]
  },
  {
   "cell_type": "code",
   "execution_count": 143,
   "metadata": {},
   "outputs": [
    {
     "output_type": "execute_result",
     "data": {
      "text/plain": [
       "'最大值：123 最小值：-107'"
      ]
     },
     "metadata": {},
     "execution_count": 143
    }
   ],
   "source": [
    "f\"最大值：{walks.max()} 最小值：{walks.min()}\""
   ]
  },
  {
   "cell_type": "markdown",
   "metadata": {},
   "source": [
    "可视化 5000个随机漫步过程中的第一个过程前200步"
   ]
  },
  {
   "cell_type": "code",
   "execution_count": 144,
   "metadata": {},
   "outputs": [
    {
     "output_type": "display_data",
     "data": {
      "text/plain": "<Figure size 432x288 with 1 Axes>",
      "image/svg+xml": "<?xml version=\"1.0\" encoding=\"utf-8\" standalone=\"no\"?>\r\n<!DOCTYPE svg PUBLIC \"-//W3C//DTD SVG 1.1//EN\"\r\n  \"http://www.w3.org/Graphics/SVG/1.1/DTD/svg11.dtd\">\r\n<!-- Created with matplotlib (https://matplotlib.org/) -->\r\n<svg height=\"248.518125pt\" version=\"1.1\" viewBox=\"0 0 370.942187 248.518125\" width=\"370.942187pt\" xmlns=\"http://www.w3.org/2000/svg\" xmlns:xlink=\"http://www.w3.org/1999/xlink\">\r\n <metadata>\r\n  <rdf:RDF xmlns:cc=\"http://creativecommons.org/ns#\" xmlns:dc=\"http://purl.org/dc/elements/1.1/\" xmlns:rdf=\"http://www.w3.org/1999/02/22-rdf-syntax-ns#\">\r\n   <cc:Work>\r\n    <dc:type rdf:resource=\"http://purl.org/dc/dcmitype/StillImage\"/>\r\n    <dc:date>2020-10-21T22:29:20.583318</dc:date>\r\n    <dc:format>image/svg+xml</dc:format>\r\n    <dc:creator>\r\n     <cc:Agent>\r\n      <dc:title>Matplotlib v3.3.2, https://matplotlib.org/</dc:title>\r\n     </cc:Agent>\r\n    </dc:creator>\r\n   </cc:Work>\r\n  </rdf:RDF>\r\n </metadata>\r\n <defs>\r\n  <style type=\"text/css\">*{stroke-linecap:butt;stroke-linejoin:round;}</style>\r\n </defs>\r\n <g id=\"figure_1\">\r\n  <g id=\"patch_1\">\r\n   <path d=\"M 0 248.518125 \r\nL 370.942187 248.518125 \r\nL 370.942187 0 \r\nL 0 0 \r\nz\r\n\" style=\"fill:none;\"/>\r\n  </g>\r\n  <g id=\"axes_1\">\r\n   <g id=\"patch_2\">\r\n    <path d=\"M 28.942188 224.64 \r\nL 363.742188 224.64 \r\nL 363.742188 7.2 \r\nL 28.942188 7.2 \r\nz\r\n\" style=\"fill:#ffffff;\"/>\r\n   </g>\r\n   <g id=\"matplotlib.axis_1\">\r\n    <g id=\"xtick_1\">\r\n     <g id=\"line2d_1\">\r\n      <defs>\r\n       <path d=\"M 0 0 \r\nL 0 3.5 \r\n\" id=\"m96a2b151a7\" style=\"stroke:#000000;stroke-width:0.8;\"/>\r\n      </defs>\r\n      <g>\r\n       <use style=\"stroke:#000000;stroke-width:0.8;\" x=\"44.160369\" xlink:href=\"#m96a2b151a7\" y=\"224.64\"/>\r\n      </g>\r\n     </g>\r\n     <g id=\"text_1\">\r\n      <!-- 0 -->\r\n      <g transform=\"translate(40.979119 239.238438)scale(0.1 -0.1)\">\r\n       <defs>\r\n        <path d=\"M 31.78125 66.40625 \r\nQ 24.171875 66.40625 20.328125 58.90625 \r\nQ 16.5 51.421875 16.5 36.375 \r\nQ 16.5 21.390625 20.328125 13.890625 \r\nQ 24.171875 6.390625 31.78125 6.390625 \r\nQ 39.453125 6.390625 43.28125 13.890625 \r\nQ 47.125 21.390625 47.125 36.375 \r\nQ 47.125 51.421875 43.28125 58.90625 \r\nQ 39.453125 66.40625 31.78125 66.40625 \r\nz\r\nM 31.78125 74.21875 \r\nQ 44.046875 74.21875 50.515625 64.515625 \r\nQ 56.984375 54.828125 56.984375 36.375 \r\nQ 56.984375 17.96875 50.515625 8.265625 \r\nQ 44.046875 -1.421875 31.78125 -1.421875 \r\nQ 19.53125 -1.421875 13.0625 8.265625 \r\nQ 6.59375 17.96875 6.59375 36.375 \r\nQ 6.59375 54.828125 13.0625 64.515625 \r\nQ 19.53125 74.21875 31.78125 74.21875 \r\nz\r\n\" id=\"DejaVuSans-48\"/>\r\n       </defs>\r\n       <use xlink:href=\"#DejaVuSans-48\"/>\r\n      </g>\r\n     </g>\r\n    </g>\r\n    <g id=\"xtick_2\">\r\n     <g id=\"line2d_2\">\r\n      <g>\r\n       <use style=\"stroke:#000000;stroke-width:0.8;\" x=\"82.397007\" xlink:href=\"#m96a2b151a7\" y=\"224.64\"/>\r\n      </g>\r\n     </g>\r\n     <g id=\"text_2\">\r\n      <!-- 25 -->\r\n      <g transform=\"translate(76.034507 239.238438)scale(0.1 -0.1)\">\r\n       <defs>\r\n        <path d=\"M 19.1875 8.296875 \r\nL 53.609375 8.296875 \r\nL 53.609375 0 \r\nL 7.328125 0 \r\nL 7.328125 8.296875 \r\nQ 12.9375 14.109375 22.625 23.890625 \r\nQ 32.328125 33.6875 34.8125 36.53125 \r\nQ 39.546875 41.84375 41.421875 45.53125 \r\nQ 43.3125 49.21875 43.3125 52.78125 \r\nQ 43.3125 58.59375 39.234375 62.25 \r\nQ 35.15625 65.921875 28.609375 65.921875 \r\nQ 23.96875 65.921875 18.8125 64.3125 \r\nQ 13.671875 62.703125 7.8125 59.421875 \r\nL 7.8125 69.390625 \r\nQ 13.765625 71.78125 18.9375 73 \r\nQ 24.125 74.21875 28.421875 74.21875 \r\nQ 39.75 74.21875 46.484375 68.546875 \r\nQ 53.21875 62.890625 53.21875 53.421875 \r\nQ 53.21875 48.921875 51.53125 44.890625 \r\nQ 49.859375 40.875 45.40625 35.40625 \r\nQ 44.1875 33.984375 37.640625 27.21875 \r\nQ 31.109375 20.453125 19.1875 8.296875 \r\nz\r\n\" id=\"DejaVuSans-50\"/>\r\n        <path d=\"M 10.796875 72.90625 \r\nL 49.515625 72.90625 \r\nL 49.515625 64.59375 \r\nL 19.828125 64.59375 \r\nL 19.828125 46.734375 \r\nQ 21.96875 47.46875 24.109375 47.828125 \r\nQ 26.265625 48.1875 28.421875 48.1875 \r\nQ 40.625 48.1875 47.75 41.5 \r\nQ 54.890625 34.8125 54.890625 23.390625 \r\nQ 54.890625 11.625 47.5625 5.09375 \r\nQ 40.234375 -1.421875 26.90625 -1.421875 \r\nQ 22.3125 -1.421875 17.546875 -0.640625 \r\nQ 12.796875 0.140625 7.71875 1.703125 \r\nL 7.71875 11.625 \r\nQ 12.109375 9.234375 16.796875 8.0625 \r\nQ 21.484375 6.890625 26.703125 6.890625 \r\nQ 35.15625 6.890625 40.078125 11.328125 \r\nQ 45.015625 15.765625 45.015625 23.390625 \r\nQ 45.015625 31 40.078125 35.4375 \r\nQ 35.15625 39.890625 26.703125 39.890625 \r\nQ 22.75 39.890625 18.8125 39.015625 \r\nQ 14.890625 38.140625 10.796875 36.28125 \r\nz\r\n\" id=\"DejaVuSans-53\"/>\r\n       </defs>\r\n       <use xlink:href=\"#DejaVuSans-50\"/>\r\n       <use x=\"63.623047\" xlink:href=\"#DejaVuSans-53\"/>\r\n      </g>\r\n     </g>\r\n    </g>\r\n    <g id=\"xtick_3\">\r\n     <g id=\"line2d_3\">\r\n      <g>\r\n       <use style=\"stroke:#000000;stroke-width:0.8;\" x=\"120.633645\" xlink:href=\"#m96a2b151a7\" y=\"224.64\"/>\r\n      </g>\r\n     </g>\r\n     <g id=\"text_3\">\r\n      <!-- 50 -->\r\n      <g transform=\"translate(114.271145 239.238438)scale(0.1 -0.1)\">\r\n       <use xlink:href=\"#DejaVuSans-53\"/>\r\n       <use x=\"63.623047\" xlink:href=\"#DejaVuSans-48\"/>\r\n      </g>\r\n     </g>\r\n    </g>\r\n    <g id=\"xtick_4\">\r\n     <g id=\"line2d_4\">\r\n      <g>\r\n       <use style=\"stroke:#000000;stroke-width:0.8;\" x=\"158.870283\" xlink:href=\"#m96a2b151a7\" y=\"224.64\"/>\r\n      </g>\r\n     </g>\r\n     <g id=\"text_4\">\r\n      <!-- 75 -->\r\n      <g transform=\"translate(152.507783 239.238438)scale(0.1 -0.1)\">\r\n       <defs>\r\n        <path d=\"M 8.203125 72.90625 \r\nL 55.078125 72.90625 \r\nL 55.078125 68.703125 \r\nL 28.609375 0 \r\nL 18.3125 0 \r\nL 43.21875 64.59375 \r\nL 8.203125 64.59375 \r\nz\r\n\" id=\"DejaVuSans-55\"/>\r\n       </defs>\r\n       <use xlink:href=\"#DejaVuSans-55\"/>\r\n       <use x=\"63.623047\" xlink:href=\"#DejaVuSans-53\"/>\r\n      </g>\r\n     </g>\r\n    </g>\r\n    <g id=\"xtick_5\">\r\n     <g id=\"line2d_5\">\r\n      <g>\r\n       <use style=\"stroke:#000000;stroke-width:0.8;\" x=\"197.10692\" xlink:href=\"#m96a2b151a7\" y=\"224.64\"/>\r\n      </g>\r\n     </g>\r\n     <g id=\"text_5\">\r\n      <!-- 100 -->\r\n      <g transform=\"translate(187.56317 239.238438)scale(0.1 -0.1)\">\r\n       <defs>\r\n        <path d=\"M 12.40625 8.296875 \r\nL 28.515625 8.296875 \r\nL 28.515625 63.921875 \r\nL 10.984375 60.40625 \r\nL 10.984375 69.390625 \r\nL 28.421875 72.90625 \r\nL 38.28125 72.90625 \r\nL 38.28125 8.296875 \r\nL 54.390625 8.296875 \r\nL 54.390625 0 \r\nL 12.40625 0 \r\nz\r\n\" id=\"DejaVuSans-49\"/>\r\n       </defs>\r\n       <use xlink:href=\"#DejaVuSans-49\"/>\r\n       <use x=\"63.623047\" xlink:href=\"#DejaVuSans-48\"/>\r\n       <use x=\"127.246094\" xlink:href=\"#DejaVuSans-48\"/>\r\n      </g>\r\n     </g>\r\n    </g>\r\n    <g id=\"xtick_6\">\r\n     <g id=\"line2d_6\">\r\n      <g>\r\n       <use style=\"stroke:#000000;stroke-width:0.8;\" x=\"235.343558\" xlink:href=\"#m96a2b151a7\" y=\"224.64\"/>\r\n      </g>\r\n     </g>\r\n     <g id=\"text_6\">\r\n      <!-- 125 -->\r\n      <g transform=\"translate(225.799808 239.238438)scale(0.1 -0.1)\">\r\n       <use xlink:href=\"#DejaVuSans-49\"/>\r\n       <use x=\"63.623047\" xlink:href=\"#DejaVuSans-50\"/>\r\n       <use x=\"127.246094\" xlink:href=\"#DejaVuSans-53\"/>\r\n      </g>\r\n     </g>\r\n    </g>\r\n    <g id=\"xtick_7\">\r\n     <g id=\"line2d_7\">\r\n      <g>\r\n       <use style=\"stroke:#000000;stroke-width:0.8;\" x=\"273.580196\" xlink:href=\"#m96a2b151a7\" y=\"224.64\"/>\r\n      </g>\r\n     </g>\r\n     <g id=\"text_7\">\r\n      <!-- 150 -->\r\n      <g transform=\"translate(264.036446 239.238438)scale(0.1 -0.1)\">\r\n       <use xlink:href=\"#DejaVuSans-49\"/>\r\n       <use x=\"63.623047\" xlink:href=\"#DejaVuSans-53\"/>\r\n       <use x=\"127.246094\" xlink:href=\"#DejaVuSans-48\"/>\r\n      </g>\r\n     </g>\r\n    </g>\r\n    <g id=\"xtick_8\">\r\n     <g id=\"line2d_8\">\r\n      <g>\r\n       <use style=\"stroke:#000000;stroke-width:0.8;\" x=\"311.816833\" xlink:href=\"#m96a2b151a7\" y=\"224.64\"/>\r\n      </g>\r\n     </g>\r\n     <g id=\"text_8\">\r\n      <!-- 175 -->\r\n      <g transform=\"translate(302.273083 239.238438)scale(0.1 -0.1)\">\r\n       <use xlink:href=\"#DejaVuSans-49\"/>\r\n       <use x=\"63.623047\" xlink:href=\"#DejaVuSans-55\"/>\r\n       <use x=\"127.246094\" xlink:href=\"#DejaVuSans-53\"/>\r\n      </g>\r\n     </g>\r\n    </g>\r\n    <g id=\"xtick_9\">\r\n     <g id=\"line2d_9\">\r\n      <g>\r\n       <use style=\"stroke:#000000;stroke-width:0.8;\" x=\"350.053471\" xlink:href=\"#m96a2b151a7\" y=\"224.64\"/>\r\n      </g>\r\n     </g>\r\n     <g id=\"text_9\">\r\n      <!-- 200 -->\r\n      <g transform=\"translate(340.509721 239.238438)scale(0.1 -0.1)\">\r\n       <use xlink:href=\"#DejaVuSans-50\"/>\r\n       <use x=\"63.623047\" xlink:href=\"#DejaVuSans-48\"/>\r\n       <use x=\"127.246094\" xlink:href=\"#DejaVuSans-48\"/>\r\n      </g>\r\n     </g>\r\n    </g>\r\n   </g>\r\n   <g id=\"matplotlib.axis_2\">\r\n    <g id=\"ytick_1\">\r\n     <g id=\"line2d_10\">\r\n      <defs>\r\n       <path d=\"M 0 0 \r\nL -3.5 0 \r\n\" id=\"m18d7f5ec1f\" style=\"stroke:#000000;stroke-width:0.8;\"/>\r\n      </defs>\r\n      <g>\r\n       <use style=\"stroke:#000000;stroke-width:0.8;\" x=\"28.942188\" xlink:href=\"#m18d7f5ec1f\" y=\"207.435152\"/>\r\n      </g>\r\n     </g>\r\n     <g id=\"text_10\">\r\n      <!-- −5 -->\r\n      <g transform=\"translate(7.2 211.23437)scale(0.1 -0.1)\">\r\n       <defs>\r\n        <path d=\"M 10.59375 35.5 \r\nL 73.1875 35.5 \r\nL 73.1875 27.203125 \r\nL 10.59375 27.203125 \r\nz\r\n\" id=\"DejaVuSans-8722\"/>\r\n       </defs>\r\n       <use xlink:href=\"#DejaVuSans-8722\"/>\r\n       <use x=\"83.789062\" xlink:href=\"#DejaVuSans-53\"/>\r\n      </g>\r\n     </g>\r\n    </g>\r\n    <g id=\"ytick_2\">\r\n     <g id=\"line2d_11\">\r\n      <g>\r\n       <use style=\"stroke:#000000;stroke-width:0.8;\" x=\"28.942188\" xlink:href=\"#m18d7f5ec1f\" y=\"170.829091\"/>\r\n      </g>\r\n     </g>\r\n     <g id=\"text_11\">\r\n      <!-- 0 -->\r\n      <g transform=\"translate(15.579688 174.62831)scale(0.1 -0.1)\">\r\n       <use xlink:href=\"#DejaVuSans-48\"/>\r\n      </g>\r\n     </g>\r\n    </g>\r\n    <g id=\"ytick_3\">\r\n     <g id=\"line2d_12\">\r\n      <g>\r\n       <use style=\"stroke:#000000;stroke-width:0.8;\" x=\"28.942188\" xlink:href=\"#m18d7f5ec1f\" y=\"134.22303\"/>\r\n      </g>\r\n     </g>\r\n     <g id=\"text_12\">\r\n      <!-- 5 -->\r\n      <g transform=\"translate(15.579688 138.022249)scale(0.1 -0.1)\">\r\n       <use xlink:href=\"#DejaVuSans-53\"/>\r\n      </g>\r\n     </g>\r\n    </g>\r\n    <g id=\"ytick_4\">\r\n     <g id=\"line2d_13\">\r\n      <g>\r\n       <use style=\"stroke:#000000;stroke-width:0.8;\" x=\"28.942188\" xlink:href=\"#m18d7f5ec1f\" y=\"97.61697\"/>\r\n      </g>\r\n     </g>\r\n     <g id=\"text_13\">\r\n      <!-- 10 -->\r\n      <g transform=\"translate(9.217188 101.416188)scale(0.1 -0.1)\">\r\n       <use xlink:href=\"#DejaVuSans-49\"/>\r\n       <use x=\"63.623047\" xlink:href=\"#DejaVuSans-48\"/>\r\n      </g>\r\n     </g>\r\n    </g>\r\n    <g id=\"ytick_5\">\r\n     <g id=\"line2d_14\">\r\n      <g>\r\n       <use style=\"stroke:#000000;stroke-width:0.8;\" x=\"28.942188\" xlink:href=\"#m18d7f5ec1f\" y=\"61.010909\"/>\r\n      </g>\r\n     </g>\r\n     <g id=\"text_14\">\r\n      <!-- 15 -->\r\n      <g transform=\"translate(9.217188 64.810128)scale(0.1 -0.1)\">\r\n       <use xlink:href=\"#DejaVuSans-49\"/>\r\n       <use x=\"63.623047\" xlink:href=\"#DejaVuSans-53\"/>\r\n      </g>\r\n     </g>\r\n    </g>\r\n    <g id=\"ytick_6\">\r\n     <g id=\"line2d_15\">\r\n      <g>\r\n       <use style=\"stroke:#000000;stroke-width:0.8;\" x=\"28.942188\" xlink:href=\"#m18d7f5ec1f\" y=\"24.404848\"/>\r\n      </g>\r\n     </g>\r\n     <g id=\"text_15\">\r\n      <!-- 20 -->\r\n      <g transform=\"translate(9.217188 28.204067)scale(0.1 -0.1)\">\r\n       <use xlink:href=\"#DejaVuSans-50\"/>\r\n       <use x=\"63.623047\" xlink:href=\"#DejaVuSans-48\"/>\r\n      </g>\r\n     </g>\r\n    </g>\r\n   </g>\r\n   <g id=\"line2d_16\">\r\n    <path clip-path=\"url(#p27e7315679)\" d=\"M 44.160369 163.507879 \r\nL 45.689835 170.829091 \r\nL 48.748766 156.186667 \r\nL 53.337162 178.150303 \r\nL 60.98449 141.544242 \r\nL 70.161283 185.471515 \r\nL 73.220214 170.829091 \r\nL 74.74968 178.150303 \r\nL 77.808611 163.507879 \r\nL 80.867542 178.150303 \r\nL 82.397007 170.829091 \r\nL 85.455938 185.471515 \r\nL 86.985404 178.150303 \r\nL 94.632731 214.756364 \r\nL 97.691662 200.113939 \r\nL 100.750593 214.756364 \r\nL 103.809524 200.113939 \r\nL 106.868455 214.756364 \r\nL 111.456852 192.792727 \r\nL 112.986317 200.113939 \r\nL 116.045248 185.471515 \r\nL 119.104179 200.113939 \r\nL 120.633645 192.792727 \r\nL 123.692576 207.435152 \r\nL 137.457765 141.544242 \r\nL 140.516696 156.186667 \r\nL 142.046162 148.865455 \r\nL 146.634558 170.829091 \r\nL 151.222955 148.865455 \r\nL 154.281886 163.507879 \r\nL 161.929214 126.901818 \r\nL 163.458679 134.22303 \r\nL 164.988145 126.901818 \r\nL 166.51761 134.22303 \r\nL 171.106007 112.259394 \r\nL 174.164938 126.901818 \r\nL 175.694403 119.580606 \r\nL 177.223869 126.901818 \r\nL 178.753334 119.580606 \r\nL 180.2828 126.901818 \r\nL 181.812265 119.580606 \r\nL 183.341731 126.901818 \r\nL 184.871196 119.580606 \r\nL 186.400662 126.901818 \r\nL 189.459593 112.259394 \r\nL 190.989058 119.580606 \r\nL 200.165851 75.653333 \r\nL 204.754248 97.61697 \r\nL 209.342644 75.653333 \r\nL 210.87211 82.974545 \r\nL 213.931041 68.332121 \r\nL 220.048903 97.61697 \r\nL 221.578368 90.295758 \r\nL 227.69623 119.580606 \r\nL 229.225696 112.259394 \r\nL 230.755161 119.580606 \r\nL 232.284627 112.259394 \r\nL 233.814092 119.580606 \r\nL 235.343558 112.259394 \r\nL 236.873023 119.580606 \r\nL 238.402489 112.259394 \r\nL 242.990886 134.22303 \r\nL 246.049817 119.580606 \r\nL 247.579282 126.901818 \r\nL 249.108748 119.580606 \r\nL 250.638213 126.901818 \r\nL 255.22661 104.938182 \r\nL 258.285541 119.580606 \r\nL 259.815006 112.259394 \r\nL 264.403403 134.22303 \r\nL 265.932868 126.901818 \r\nL 267.462334 134.22303 \r\nL 268.991799 126.901818 \r\nL 270.521265 134.22303 \r\nL 272.05073 126.901818 \r\nL 273.580196 134.22303 \r\nL 279.698058 104.938182 \r\nL 281.227523 112.259394 \r\nL 287.345385 82.974545 \r\nL 288.874851 90.295758 \r\nL 291.933782 75.653333 \r\nL 296.522178 97.61697 \r\nL 305.698971 53.689697 \r\nL 307.228437 61.010909 \r\nL 311.816833 39.047273 \r\nL 313.346299 46.368485 \r\nL 317.934695 24.404848 \r\nL 319.464161 31.726061 \r\nL 322.523092 17.083636 \r\nL 330.17042 53.689697 \r\nL 331.699885 46.368485 \r\nL 333.229351 53.689697 \r\nL 334.758816 46.368485 \r\nL 336.288282 53.689697 \r\nL 337.817747 46.368485 \r\nL 339.347213 53.689697 \r\nL 345.465075 24.404848 \r\nL 346.99454 31.726061 \r\nL 348.524006 24.404848 \r\nL 348.524006 24.404848 \r\n\" style=\"fill:none;stroke:#1f77b4;stroke-linecap:square;stroke-width:1.5;\"/>\r\n   </g>\r\n   <g id=\"patch_3\">\r\n    <path d=\"M 28.942188 224.64 \r\nL 28.942188 7.2 \r\n\" style=\"fill:none;stroke:#000000;stroke-linecap:square;stroke-linejoin:miter;stroke-width:0.8;\"/>\r\n   </g>\r\n   <g id=\"patch_4\">\r\n    <path d=\"M 363.742188 224.64 \r\nL 363.742188 7.2 \r\n\" style=\"fill:none;stroke:#000000;stroke-linecap:square;stroke-linejoin:miter;stroke-width:0.8;\"/>\r\n   </g>\r\n   <g id=\"patch_5\">\r\n    <path d=\"M 28.942187 224.64 \r\nL 363.742188 224.64 \r\n\" style=\"fill:none;stroke:#000000;stroke-linecap:square;stroke-linejoin:miter;stroke-width:0.8;\"/>\r\n   </g>\r\n   <g id=\"patch_6\">\r\n    <path d=\"M 28.942187 7.2 \r\nL 363.742188 7.2 \r\n\" style=\"fill:none;stroke:#000000;stroke-linecap:square;stroke-linejoin:miter;stroke-width:0.8;\"/>\r\n   </g>\r\n  </g>\r\n </g>\r\n <defs>\r\n  <clipPath id=\"p27e7315679\">\r\n   <rect height=\"217.44\" width=\"334.8\" x=\"28.942188\" y=\"7.2\"/>\r\n  </clipPath>\r\n </defs>\r\n</svg>\r\n",
      "image/png": "[encoded data removed]"
     },
     "metadata": {
      "needs_background": "light"
     }
    }
   ],
   "source": [
    "plt.plot(walks[0][:200])\n",
    "plt.show()"
   ]
  },
  {
   "cell_type": "markdown",
   "metadata": {},
   "source": [
    "得到这些数据之后，来计算30或－30的最小穿越时间。这里稍微复杂些，因为不是5000个过程都到达了30。可以用any方法来对此进行检查"
   ]
  },
  {
   "cell_type": "code",
   "execution_count": 145,
   "metadata": {},
   "outputs": [
    {
     "output_type": "execute_result",
     "data": {
      "text/plain": [
       "array([ True,  True, False, ...,  True, False,  True])"
      ]
     },
     "metadata": {},
     "execution_count": 145
    }
   ],
   "source": [
    "hits30 = (np.abs(walks) >= 30).any(axis=1)\n",
    "hits30"
   ]
  },
  {
   "cell_type": "code",
   "execution_count": 146,
   "metadata": {},
   "outputs": [
    {
     "output_type": "execute_result",
     "data": {
      "text/plain": [
       "3369"
      ]
     },
     "metadata": {},
     "execution_count": 146
    }
   ],
   "source": [
    "hits30.sum()"
   ]
  },
  {
   "cell_type": "markdown",
   "metadata": {},
   "source": [
    "然后利用这个布尔型数组选出那些穿越了30（绝对值）的随机漫步（行），并调用argmax在轴1上获取穿越时间"
   ]
  },
  {
   "cell_type": "code",
   "execution_count": 147,
   "metadata": {},
   "outputs": [
    {
     "output_type": "execute_result",
     "data": {
      "text/plain": [
       "504.0525378450579"
      ]
     },
     "metadata": {},
     "execution_count": 147
    }
   ],
   "source": [
    "crossing_times = (np.abs(walks[hits30]) >= 30).argmax(axis=1)\n",
    "crossing_times.mean()"
   ]
  },
  {
   "cell_type": "markdown",
   "metadata": {},
   "source": [
    "尝试用其他分布方式得到漫步数据。只需使用不同的随机数生成函数即可，如normal用于生成指定均值和标准差的正态分布数据"
   ]
  },
  {
   "cell_type": "code",
   "execution_count": 148,
   "metadata": {},
   "outputs": [
    {
     "output_type": "execute_result",
     "data": {
      "text/plain": [
       "[array([[ 0.68862751,  0.59928962,  0.7063518 , ...,  0.42233473,\n",
       "          0.41705971,  0.36827784],\n",
       "        [ 0.73455213,  0.80122482,  0.48366435, ...,  0.3825554 ,\n",
       "          0.37641545,  0.45941817],\n",
       "        [ 0.20838938,  0.4043194 ,  0.31145882, ...,  0.20591203,\n",
       "          0.44230637,  0.96737503],\n",
       "        ...,\n",
       "        [ 0.62271835,  0.60732335,  0.51748294, ...,  0.45629346,\n",
       "          0.4583938 ,  0.33589226],\n",
       "        [ 0.13319726,  0.67876412,  0.43603901, ...,  0.26446092,\n",
       "          0.55450313,  0.67496057],\n",
       "        [ 0.3581878 , -0.21324966,  0.2759225 , ...,  0.55387051,\n",
       "          0.32036874,  0.62857774]]),\n",
       " '尺度：(5000, 1000)']"
      ]
     },
     "metadata": {},
     "execution_count": 148
    }
   ],
   "source": [
    "steps = np.random.normal(loc=0.5, scale=0.25, size=(5000, 1000))\n",
    "[steps, f\"尺度：{steps.shape}\"]"
   ]
  },
  {
   "cell_type": "markdown",
   "metadata": {},
   "source": [
    "# 4.8 结论\n",
    "\n",
    "虽然大部分是使用pandas规整数据，但仍然会用到相似的基于数组的计算。"
   ]
  },
  {
   "cell_type": "code",
   "execution_count": null,
   "metadata": {},
   "outputs": [],
   "source": []
  }
 ],
 "metadata": {
  "kernelspec": {
   "display_name": "Python 3",
   "language": "python",
   "name": "python3"
  },
  "language_info": {
   "codemirror_mode": {
    "name": "ipython",
    "version": 3
   },
   "file_extension": ".py",
   "mimetype": "text/x-python",
   "name": "python",
   "nbconvert_exporter": "python",
   "pygments_lexer": "ipython3",
   "version": "3.8.5-final"
  }
 },
 "nbformat": 4,
 "nbformat_minor": 2
}